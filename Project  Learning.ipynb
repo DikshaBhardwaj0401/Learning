{
 "cells": [
  {
   "cell_type": "markdown",
   "id": "fbefbc7d",
   "metadata": {},
   "source": [
    "# Importing Text Files in Python (open())"
   ]
  },
  {
   "cell_type": "markdown",
   "id": "04400c9e",
   "metadata": {},
   "source": [
    "### open()  read()   .close()  .closed"
   ]
  },
  {
   "cell_type": "code",
   "execution_count": 1,
   "id": "ddf267cc",
   "metadata": {},
   "outputs": [],
   "source": [
    "filename = \"source.txt\""
   ]
  },
  {
   "cell_type": "code",
   "execution_count": 2,
   "id": "7ce49b4e",
   "metadata": {},
   "outputs": [
    {
     "data": {
      "text/plain": [
       "'source.txt'"
      ]
     },
     "execution_count": 2,
     "metadata": {},
     "output_type": "execute_result"
    }
   ],
   "source": [
    "filename "
   ]
  },
  {
   "cell_type": "code",
   "execution_count": 3,
   "id": "c6f2ed85",
   "metadata": {},
   "outputs": [],
   "source": [
    "file = open(filename, mode = 'r')"
   ]
  },
  {
   "cell_type": "code",
   "execution_count": 4,
   "id": "9953c77f",
   "metadata": {},
   "outputs": [
    {
     "data": {
      "text/plain": [
       "<_io.TextIOWrapper name='source.txt' mode='r' encoding='cp1252'>"
      ]
     },
     "execution_count": 4,
     "metadata": {},
     "output_type": "execute_result"
    }
   ],
   "source": [
    "file # wrapper"
   ]
  },
  {
   "cell_type": "code",
   "execution_count": 5,
   "id": "b85c7dd3",
   "metadata": {},
   "outputs": [
    {
     "data": {
      "text/plain": [
       "'It is not so simple anymore!'"
      ]
     },
     "execution_count": 5,
     "metadata": {},
     "output_type": "execute_result"
    }
   ],
   "source": [
    "file.read() # once clicked -> output; clicked any more than once -> empty string"
   ]
  },
  {
   "cell_type": "code",
   "execution_count": 6,
   "id": "3a6f9898",
   "metadata": {},
   "outputs": [
    {
     "data": {
      "text/plain": [
       "'It is not so simple anymore!'"
      ]
     },
     "execution_count": 6,
     "metadata": {},
     "output_type": "execute_result"
    }
   ],
   "source": [
    "# re-writing the above lines of code in a shorter format (better practice as it avoids clutter.)\n",
    "file = open(filename, mode = 'r')\n",
    "text = file.read()\n",
    "text"
   ]
  },
  {
   "cell_type": "code",
   "execution_count": 7,
   "id": "edb3af89",
   "metadata": {},
   "outputs": [],
   "source": [
    "# closing the file (most important action; leaving an open connection is endangering the file and our control over it.)\n",
    "file.close()"
   ]
  },
  {
   "cell_type": "code",
   "execution_count": 8,
   "id": "2e439e4f",
   "metadata": {},
   "outputs": [
    {
     "data": {
      "text/plain": [
       "True"
      ]
     },
     "execution_count": 8,
     "metadata": {},
     "output_type": "execute_result"
    }
   ],
   "source": [
    "file.closed"
   ]
  },
  {
   "cell_type": "markdown",
   "id": "99b65095",
   "metadata": {},
   "source": [
    "## with - instead of using Python's open() function alone, we can rather combine it with the 'with' statement."
   ]
  },
  {
   "cell_type": "markdown",
   "id": "54c53747",
   "metadata": {},
   "source": [
    "### with statement allows us to have the control over the desired status of the file as well as its contents. As it by default closes the file. This is a better practise."
   ]
  },
  {
   "cell_type": "code",
   "execution_count": 9,
   "id": "b413ee50",
   "metadata": {},
   "outputs": [],
   "source": [
    "filename = 'source.txt'"
   ]
  },
  {
   "cell_type": "code",
   "execution_count": 10,
   "id": "d40ec9cc",
   "metadata": {},
   "outputs": [],
   "source": [
    "file = open(filename, mode = 'r')\n",
    "text = file.read()\n",
    "file.close()"
   ]
  },
  {
   "cell_type": "code",
   "execution_count": 11,
   "id": "d46c4845",
   "metadata": {},
   "outputs": [],
   "source": [
    "with open(filename, mode = \"r\") as out_file:\n",
    "    out_file.read()"
   ]
  },
  {
   "cell_type": "code",
   "execution_count": 12,
   "id": "e454a957",
   "metadata": {},
   "outputs": [
    {
     "name": "stdout",
     "output_type": "stream",
     "text": [
      "It is not so simple anymore!\n"
     ]
    }
   ],
   "source": [
    "print(text) # content"
   ]
  },
  {
   "cell_type": "code",
   "execution_count": 13,
   "id": "57750710",
   "metadata": {},
   "outputs": [
    {
     "name": "stdout",
     "output_type": "stream",
     "text": [
      "<_io.TextIOWrapper name='source.txt' mode='r' encoding='cp1252'>\n"
     ]
    }
   ],
   "source": [
    "print(out_file) # wrapper; empty"
   ]
  },
  {
   "cell_type": "markdown",
   "id": "2a64254f",
   "metadata": {},
   "source": [
    "## Using 'w' mode, we intend to write within the file (manipulate the information of the file)"
   ]
  },
  {
   "cell_type": "code",
   "execution_count": 14,
   "id": "66e389c5",
   "metadata": {},
   "outputs": [],
   "source": [
    "with open(filename, mode = 'w') as out_file:\n",
    "    out_file.write('It is not so simple anymore!')"
   ]
  },
  {
   "cell_type": "code",
   "execution_count": 15,
   "id": "6e326554",
   "metadata": {},
   "outputs": [
    {
     "name": "stdout",
     "output_type": "stream",
     "text": [
      "<_io.TextIOWrapper name='source.txt' mode='w' encoding='cp1252'>\n"
     ]
    }
   ],
   "source": [
    "print(out_file)"
   ]
  },
  {
   "cell_type": "code",
   "execution_count": 16,
   "id": "307d7e1a",
   "metadata": {},
   "outputs": [
    {
     "name": "stdout",
     "output_type": "stream",
     "text": [
      "It is not so simple anymore!\n"
     ]
    }
   ],
   "source": [
    "print(text) #bcz the changes are NOW saved in the og text file. & if we want to see 'em we run it from the top."
   ]
  },
  {
   "cell_type": "markdown",
   "id": "2cc8aca7",
   "metadata": {},
   "source": [
    "# Importing .csv files with Pandas."
   ]
  },
  {
   "cell_type": "markdown",
   "id": "3606afdc",
   "metadata": {},
   "source": [
    "### pandas can turn the information into a table (dataFrame) using a default parser. But in some cases the data would be messier and to be sure that our data is not messy we use Sublime, Notebook++, and Adam. (To eyeball our Data.)"
   ]
  },
  {
   "cell_type": "code",
   "execution_count": 17,
   "id": "e61b2d87",
   "metadata": {
    "tags": []
   },
   "outputs": [
    {
     "data": {
      "text/plain": [
       "'LoanID,StringID,Product,CustomerGender,Location,Region,TotalPrice,StartDate,Deposit,DailyRate,TotalDaysYr,AmtPaid36,AmtPaid60,AmtPaid360,LoanStatus\\n1,LoanID_1,Product B,Female,Location 3,Region 2,17600,04/07/2018,2200,45,365,3221,4166,14621,Active\\n2,LoanID_2,Product D,Female,Location 6,Region 6,,02/01/2019,2200,45,365,3161,4096,16041,Active\\n3,LoanID_3,Product B,Male,Location 8,Region 3,16600,08/12/2016,1000,45,365,2260,3205,16340,\\n4,LoanID_4,Product A,Male,Location 26,Region 2,17600,,2200,45,365,3141,4166,16321,Active\\n5,LoanID_5,Product B,Female,Location 34,Region 3,21250,28/10/2017,2200,55,365,3570,4745,14720,Active\\n6,LoanID_6,Product A,Male,Location 34,Region 1,,19/04/2019,2200,45,365,3301,4066,15141,Active\\n7,LoanID_7,Product A,Male,Location 25,,21250,04/07/2020,2200,55,365,1951,3176,18701,Active\\n8,LoanID_8,Product D,Male,Location 46,Region 5,17600,24/04/2018,2200,45,365,4071,4056,16351,Active\\n9,LoanID_9,Product A,Male,Location 156,Region 6,23250,03/09/2019,5000,55,365,5850,7375,21250,\\n10,LoanID_10,Product C,Male,Location 21,Region 9,21250,25/07/2020,2200,55,365,2051,3176,18351,Active\\n11,LoanID_11,Product B,Female,Location 13,Region 6,17600,01/05/2018,2200,45,365,3260,4405,17380,Active\\n12,LoanID_12,Product D,Female,Location 25,Region 6,21250,29/03/2017,2200,55,365,3190,4115,11790,Active\\n13,LoanID_13,Product B,Female,Location 579,Region 3,17600,03/10/2018,2200,45,365,3221,5086,14441,Active\\n14,LoanID_14,Product A,Male,Location 602,Region 3,21750,18/09/2019,3000,55,365,1780,1605,6010,Active\\n15,LoanID_15,Product A,Male,Location 10,Region 7,23250,20/05/2019,5000,55,365,5600,6825,22000,Active\\n16,LoanID_16,Product B,Male,Location 44,Region 2,17600,31/05/2018,2200,45,365,3221,4726,16001,Active\\n17,LoanID_17,Product A,Male,Location 25,Region 3,23250,29/08/2019,5000,55,365,4100,4735,9010,Active\\n18,LoanID_18,Product B,Male,Location 44,Region 6,17600,06/06/2018,2200,45,365,3501,4126,16381,Active\\n19,LoanID_19,Product B,Male,Location 26,Region 6,17600,27/03/2019,2200,45,365,3228,4206,16781,Active\\n20,LoanID_20,Product E,NotSpecified,Location 30,Region 6,55625,11/10/2019,8000,120,365,12226,15176,46626,Active\\n21,LoanID_21,Product B,Female,Location 48,Region 1,17600,12/05/2018,2200,45,365,3660,4685,17200,Active\\n22,LoanID_22,Product A,Female,Location 196,Region 4,23250,07/07/2019,5000,55,365,6300,8325,22875,Active\\n23,LoanID_23,Product A,Female,Location 64,Region 12,20250,13/02/2020,1000,55,365,1500,2475,13700,Active\\n24,LoanID_24,Product C,NotSpecified,Location 91,Region 2,16600,21/12/2016,1000,45,365,2340,4485,15520,Active\\n25,LoanID_25,Product D,Female,Location 62,Region 6,21250,02/10/2017,2200,55,365,3651,4676,20101,Active\\n26,LoanID_26,Product A,Male,Location 75,Region 2,23250,11/09/2019,5000,55,365,6400,6525,15800,Active\\n27,LoanID_27,Product A,Male,Location 26,Region 1,20250,07/11/2019,1000,55,365,450,1675,8500,Active\\n28,LoanID_28,Product F,Male,Location 42,Region 4,70225,17/04/2020,8000,150,365,14601,16771,65001,Active\\n29,LoanID_29,Product D,Male,Location 233,Region 6,21250,14/12/2017,2200,55,365,5921,6746,16191,Active\\n30,LoanID_30,Product B,Female,Location 95,Region 2,17600,09/05/2019,2200,45,365,3741,4766,17311,Active\\n31,LoanID_31,Product B,Male,Location 78,Region 3,17600,24/02/2018,2200,45,365,3141,4156,17361,Active\\n32,LoanID_32,Product B,Female,Location 25,Region 6,17600,09/08/2018,2200,45,365,3530,4235,17024,Active\\n33,LoanID_33,Product A,Male,Location 6,Region 5,20250,07/03/2020,1000,55,365,-2770,-2945,2160,Active\\n34,LoanID_34,Product B,Female,Location 61,Region 2,17600,22/02/2018,2200,45,365,3700,4725,17400,Active\\n35,LoanID_35,Product A,Male,Location 87,Region 6,20250,08/02/2020,1000,55,365,350,775,6050,Active\\n36,LoanID_36,Product B,Female,Location 19,Region 1,17600,24/07/2018,2200,45,365,3221,3846,13721,Active\\n37,LoanID_37,Product B,Male,Location 8,Region 6,17600,24/03/2018,2200,45,365,3020,4125,16400,Active\\n38,LoanID_38,Product B,Female,Location 115,Region 3,17600,22/02/2019,2200,45,365,3141,3486,10081,Active\\n39,LoanID_39,Product C,Male,Location 350,Region 4,16600,13/09/2016,1000,45,365,2800,3425,12610,Active\\n40,LoanID_40,Product B,Male,Location 377,Region 6,17600,12/10/2018,2200,45,365,3501,4326,17141,Active\\n41,LoanID_41,Product B,Male,Location 17,Region 6,17600,27/06/2018,2200,45,365,3181,4526,16801,Active\\n42,LoanID_42,Product B,Female,Location 113,Region 6,17600,26/02/2019,2200,45,365,3140,3945,10220,Active\\n43,LoanID_43,Product A,Female,Location 42,Region 2,20250,17/10/2019,1000,55,365,-200,125,9918,Active\\n44,LoanID_44,Product C,Male,Location 602,Region 4,16600,04/02/2017,1000,45,365,2220,3445,13010,Active\\n45,LoanID_45,Product A,Female,Location 81,Region 6,20250,03/06/2020,1000,55,365,-1900,-625,14850,Active\\n46,LoanID_46,Product B,Male,Location 58,Region 2,17600,24/05/2018,2200,45,365,3151,4006,12971,Active\\n47,LoanID_47,Product B,Male,Location 212,Region 2,17600,20/02/2018,2200,45,365,4701,4526,16561,Active\\n48,LoanID_48,Product B,Male,Location 53,Region 6,17600,10/05/2018,2200,45,365,3071,3936,9931,Active\\n49,LoanID_49,Product D,Male,Location 46,Region 6,21250,17/05/2017,2200,55,365,3500,4725,20400,Active\\n50,LoanID_50,Product A,Male,Location 3,Region 7,23250,17/06/2020,5000,55,365,5550,6875,22750,Active\\n51,LoanID_51,Product B,Male,Location 91,Region 3,17600,07/02/2019,2200,45,365,3360,4385,12360,Active\\n52,LoanID_52,Product A,Male,Location 337,Region 1,21250,11/12/2019,2200,55,365,1751,2826,14451,Active\\n53,LoanID_53,Product D,Female,Location 41,Region 6,21250,09/06/2017,2200,55,365,4061,4886,17261,Active\\n54,LoanID_54,Product B,Female,Location 42,Region 1,17600,12/04/2019,2200,45,365,3121,3686,12161,Active\\n55,LoanID_55,Product B,Male,Location 632,Region 6,17600,05/01/2019,2200,45,365,3301,4486,17381,Active\\n56,LoanID_56,Product B,Male,Location 73,Region 6,17600,21/03/2018,2200,45,365,3300,4365,12920,Active\\n57,LoanID_57,Product B,Female,Location 10,Region 6,,10/08/2018,2200,45,365,3361,4291,8276,Active\\n58,LoanID_58,Product B,Male,Location 53,Region 2,17600,12/01/2019,2200,45,365,3231,4256,17178,\\n59,LoanID_59,Product B,Female,Location 214,Region 6,17600,25/10/2018,2200,45,365,3500,4205,14280,Active\\n60,LoanID_60,Product B,Female,Location 218,Region 6,17600,12/06/2018,2200,45,365,3180,3325,10040,Active\\n61,LoanID_61,Product A,Female,Location 38,Region 6,20250,12/02/2020,1000,55,365,1150,2075,13000,Active\\n62,LoanID_62,Product C,Female,Location 172,Region 6,16600,09/11/2016,1000,45,365,2220,3165,11360,Active\\n63,LoanID_63,Product C,Male,Location 197,Region 1,16600,24/01/2017,1000,45,365,2300,3325,15400,Active\\n64,LoanID_64,Product D,NotSpecified,Location 61,Region 3,21250,07/07/2017,2200,55,365,2350,2275,3480,Active\\n65,LoanID_65,Product B,Male,Location 13,Region 6,17600,06/03/2019,2200,45,365,3181,4166,16706,Active\\n66,LoanID_66,Product A,Female,Location 101,Region 1,23250,04/08/2019,5000,55,365,14600,14425,22650,Active\\n67,LoanID_67,Product A,Male,Location 185,Region 7,23250,27/05/2019,5000,55,365,5500,6875,18570,Active\\n68,LoanID_68,Product D,Female,Location 129,Region 3,21250,09/04/2017,2200,55,365,3401,4426,15431,Active\\n69,LoanID_69,Product A,Female,Location 113,Region 6,21250,17/12/2019,2200,55,365,1601,2826,13451,Active\\n70,LoanID_70,Product B,Male,Location 62,Region 6,17600,11/11/2018,2200,45,365,3781,6006,17241,Active\\n71,LoanID_71,Product C,Female,Location 235,Region 1,16600,07/08/2016,1000,45,365,2480,3225,15620,Active\\n72,LoanID_72,Product B,Male,Location 3,Region 6,17600,16/09/2018,2200,45,365,3501,3326,13921,Active\\n73,LoanID_73,Product B,Male,Location 142,Region 16,17600,17/04/2018,2200,45,365,5001,5026,17191,Active\\n74,LoanID_74,Product A,Male,Location 50,Region 5,23250,25/04/2020,5000,55,365,6480,7305,18350,Active\\n75,LoanID_75,Product A,Male,Location 76,Region 1,21750,14/09/2019,3000,55,365,2350,3525,12400,Active\\n76,LoanID_76,Product A,Male,Location 11,Region 2,23250,11/09/2019,5000,55,365,5450,6725,18400,Active\\n77,LoanID_77,Product A,Male,Location 75,Region 2,20250,31/01/2020,1000,55,365,900,1775,13650,Active\\n78,LoanID_78,Product D,Male,Location 33,Region 6,21250,28/07/2017,2200,55,365,3651,4776,20801,Active\\n79,LoanID_79,Product D,Female,Location 22,Region 6,21250,05/11/2017,2200,55,365,3581,4836,20007,Active\\n80,LoanID_80,Product D,Male,Location 145,Region 3,21250,29/08/2017,2200,55,365,7150,7075,19300,Active\\n81,LoanID_81,Product A,NotSpecified,Location 44,Region 2,20250,28/11/2019,1000,55,365,500,1175,9450,Active\\n82,LoanID_82,Product B,Female,Location 203,Region 1,17600,10/06/2018,2200,45,365,4300,4515,15480,Active\\n83,LoanID_83,Product A,Female,Location 13,Region 2,23250,05/06/2019,5000,55,365,6350,7125,21900,Active\\n84,LoanID_84,Product D,Male,Location 94,Region 6,21250,22/07/2017,2200,55,365,3750,4875,20150,Active\\n85,LoanID_85,Product B,Female,Location 26,Region 3,17600,16/03/2018,2200,45,365,4101,4926,17551,Active\\n86,LoanID_86,Product A,Male,Location 94,Region 2,20250,03/06/2020,1000,55,365,-2350,-2075,2500,Active\\n87,LoanID_87,Product A,Female,Location 62,Region 7,23250,06/12/2019,5000,55,365,6100,6475,13980,Active\\n88,LoanID_88,Product C,Male,Location 573,Region 4,17600,27/04/2018,2200,45,365,3501,4206,11861,Active\\n89,LoanID_89,Product A,Male,Location 27,Region 5,20250,21/12/2019,1000,55,365,200,525,3850,Active\\n90,LoanID_90,Product B,Male,Location 17,Region 3,17600,23/12/2018,2200,45,365,3041,3546,16241,\\n91,LoanID_91,Product A,Male,Location 186,Region 7,,30/05/2019,5000,55,365,5450,6425,15400,Active\\n92,LoanID_92,Product D,Male,Location 27,Region 3,21250,22/04/2017,2200,55,365,3651,3976,15501,Active\\n93,LoanID_93,Product B,Male,Location 4,Region 1,17600,26/10/2018,2200,45,365,6781,6606,16491,Active\\n94,LoanID_94,Product B,Male,Location 377,Region 6,17600,15/04/2019,2200,45,365,3281,4196,14146,Active\\n95,LoanID_95,Product A,Female,Location 73,Region 2,20250,09/08/2019,1000,55,365,1830,2405,14200,Active\\n96,LoanID_96,Product B,Female,Location 4,Region 7,17600,11/05/2019,2200,45,365,3501,4981,9996,Active\\n97,LoanID_97,Product B,Female,Location 70,Region 3,17600,01/06/2018,2200,45,365,3500,4245,14240,Active\\n98,LoanID_98,Product A,Male,Location 45,Region 4,23250,25/12/2019,5000,55,365,5600,6725,15665,Active\\n99,LoanID_99,Product A,Male,Location 3,Region 4,23250,23/07/2019,5000,55,365,5600,6715,22600,Active\\n100,LoanID_100,Product B,Female,Location 262,Region 1,17600,30/08/2018,2200,45,365,3301,3126,10151,Active\\n101,LoanID_101,Product B,Male,Location 91,Region 2,17600,03/02/2018,2200,45,365,3501,4546,14061,Active\\n102,LoanID_102,Product A,Female,Location 111,Region 2,20250,29/02/2020,1000,55,365,-2050,-985,8010,Active\\n103,LoanID_103,Product B,Female,Location 84,Region 3,17600,15/05/2019,2200,45,365,4701,5726,16068,Active\\n104,LoanID_104,Product A,Male,Location 25,Region 6,23250,28/08/2019,5000,55,365,5000,5575,11100,Active\\n105,LoanID_105,Product A,Male,Location 108,Region 3,20250,08/02/2020,1000,55,365,2000,3925,19250,Active\\n106,LoanID_106,Product B,Male,Location 58,Region 2,17600,11/03/2018,2200,45,365,3661,4626,16851,Active\\n107,LoanID_107,Product B,Male,Location 48,Region 6,17600,26/03/2019,2200,45,365,3281,3726,11118,Active\\n108,LoanID_108,Product A,Female,Location 7,Region 3,20250,13/08/2019,1000,55,365,2830,3265,18575,Active\\n109,LoanID_109,Product B,Female,Location 87,Region 1,17600,05/05/2018,2200,45,365,3101,4086,15721,Active\\n110,LoanID_110,Product A,Male,Location 74,Region 2,23250,23/05/2019,5000,55,365,5200,5575,11700,Active\\n111,LoanID_111,Product B,Male,Location 17,Region 1,17600,24/02/2018,2200,45,365,2941,3566,13601,Active\\n112,LoanID_112,Product C,Male,Location 53,Region 6,16600,10/12/2016,1000,45,365,2170,3265,16216,Active\\n113,LoanID_113,Product B,Male,Location 53,Region 6,17600,07/11/2018,2200,45,365,3541,4286,17441,Active\\n114,LoanID_114,Product D,Female,Location 73,Region 6,21250,16/12/2017,2200,55,365,6351,7676,21201,Active\\n115,LoanID_115,Product B,Male,Location 4,Region 3,17600,29/04/2019,2200,45,365,4700,6825,15400,Active\\n116,LoanID_116,Product A,Male,Location 73,Region 1,20250,07/05/2020,1000,55,365,-1760,-515,13200,Active\\n117,LoanID_117,Product A,Female,Location 450,Region 4,20250,06/05/2020,1000,55,365,-1350,-75,14850,Active\\n118,LoanID_118,Product A,Female,Location 48,Region 2,20250,22/11/2019,1000,55,365,-250,525,13200,Active\\n119,LoanID_119,Product C,NotSpecified,Location 47,Region 3,16600,26/06/2016,1000,45,365,2200,3525,11000,Active\\n120,LoanID_120,Product A,Male,Location 37,Region 3,23250,30/07/2019,5000,55,365,5600,6475,17600,Active\\n121,LoanID_121,Product A,Male,Location 6,Region 4,23250,03/08/2019,5000,55,365,5500,6765,17625,Active\\n122,LoanID_122,Product B,Female,Location 43,Region 2,17600,09/04/2018,2200,45,365,3801,5126,17151,Active\\n123,LoanID_123,Product D,NotSpecified,Location 19,Region 6,21250,09/07/2017,2200,55,365,4100,5925,15590,Active\\n124,LoanID_124,Product B,Female,Location 25,Region 6,17600,25/07/2018,2200,45,365,3180,4205,15400,Active\\n125,LoanID_125,Product B,Male,Location 286,Region 6,17600,16/08/2018,2200,45,365,3221,4126,11451,Active\\n126,LoanID_126,Product A,Female,Location 11,Region 1,21750,11/09/2019,3000,55,365,2250,2575,15750,Active\\n127,LoanID_127,Product A,Male,Location 89,Region 2,21250,30/07/2020,2200,55,365,2050,3275,18800,\\n128,LoanID_128,Product B,NotSpecified,Location 24,Region 2,17600,31/10/2018,2200,45,365,3060,3685,12480,Active\\n129,LoanID_129,Product B,Female,Location 97,Region 6,17600,05/06/2018,2200,45,365,3581,4166,10781,Active\\n130,LoanID_130,Product B,Male,Location 144,Region 3,17600,15/02/2019,2200,45,365,3601,5426,12801,Active\\n131,LoanID_131,Product C,Male,Location 40,Region 1,16600,18/01/2017,1000,45,365,2260,3185,14740,Active\\n132,LoanID_132,Product B,Female,Location 3,Region 2,17600,25/04/2019,2200,45,365,3861,4086,11761,Active\\n133,LoanID_133,Product C,Male,Location 128,Region 6,16600,24/07/2016,1000,45,365,2460,3505,13200,Active\\n134,LoanID_134,Product A,Male,Location 19,Region 2,20250,28/12/2019,1000,55,365,740,2045,15174,Active\\n135,LoanID_135,Product D,Male,Location 46,Region 6,17600,17/02/2018,2200,45,365,3301,4256,17311,Active\\n136,LoanID_136,Product B,Male,Location 73,Region 7,17600,23/03/2018,2200,45,365,3500,4525,17159,Active\\n137,LoanID_137,Product D,Male,Location 169,Region 2,21250,18/05/2017,2200,55,365,4051,4876,15251,Active\\n138,LoanID_138,Product A,Male,Location 399,Region 2,20250,05/02/2020,1000,55,365,850,2175,18250,Active\\n139,LoanID_139,Product C,Female,Location 23,Region 6,16600,12/08/2016,1000,45,365,2220,3245,15870,Active\\n140,LoanID_140,Product B,Female,Location 191,Region 3,17600,23/04/2019,2200,45,365,4041,3866,9201,Active\\n141,LoanID_141,Product B,Male,Location 38,Region 1,17600,20/03/2019,2200,45,365,3140,4245,14240,Active\\n142,LoanID_142,Product B,Male,Location 142,Region 3,17600,05/05/2018,2200,45,365,3540,4565,16820,Active\\n143,LoanID_143,Product C,Male,Location 8,Region 9,16600,03/08/2016,1000,45,365,2200,3345,16130,Active\\n144,LoanID_144,Product B,Male,Location 178,Region 2,17600,26/10/2018,2200,45,365,3370,4125,16890,Active\\n145,LoanID_145,Product C,Female,Location 8,Region 2,16600,11/05/2016,1000,45,365,2420,3445,15936,Active\\n146,LoanID_146,Product A,Male,Location 510,Region 3,20250,20/01/2020,1000,55,365,850,2675,7900,Active\\n147,LoanID_147,Product A,Male,Location 19,Region 7,23250,13/03/2020,5000,55,365,5700,6925,22200,Active\\n148,LoanID_148,Product A,Female,Location 25,Region 3,21250,14/07/2020,2200,55,365,1701,3026,18551,Active\\n149,LoanID_149,Product A,Female,Location 600,Region 1,20250,06/10/2019,1000,55,365,400,775,7750,Active\\n150,LoanID_150,Product A,Male,Location 62,Region 8,23250,08/10/2019,5000,55,365,5500,6225,19300,Active\\n151,LoanID_151,Product B,Male,Location 188,Region 5,17600,21/08/2018,2200,45,365,3540,4505,13460,Active\\n152,LoanID_152,Product A,Male,Location 67,Region 1,23250,03/11/2019,5000,55,365,5890,6765,14520,Active\\n153,LoanID_153,Product E,Female,Location 49,Region 6,55625,22/07/2020,8000,120,365,12351,15551,35514,Active\\n154,LoanID_154,Product E,Male,Location 29,Region 3,55625,08/01/2020,8000,120,365,11851,15376,27876,Active\\n155,LoanID_155,Product B,NotSpecified,Location 17,Region 2,17600,18/12/2018,2200,45,365,3000,4405,11915,Active\\n156,LoanID_156,Product A,Female,Location 62,Region 3,23250,11/03/2020,5000,55,365,5500,6375,17450,Active\\n157,LoanID_157,Product A,Female,Location 53,Region 3,23250,08/06/2019,5000,55,365,5600,6825,17150,Active\\n158,LoanID_158,Product A,Male,Location 75,Region 6,23250,22/12/2019,5000,55,365,4850,6075,14930,Active\\n159,LoanID_159,Product A,Female,Location 214,Region 6,23250,03/09/2019,5000,55,365,6100,6925,17590,Active\\n160,LoanID_160,Product C,Female,Location 70,Region 3,16600,20/07/2016,1000,45,365,2205,3185,14125,\\n161,LoanID_161,Product A,Male,Location 377,Region 3,,21/12/2019,1000,55,365,900,1925,10350,Active\\n162,LoanID_162,Product B,Female,Location 222,Region 6,17600,29/01/2019,2200,45,365,3500,4325,16900,Active\\n163,LoanID_163,Product A,Female,Location 3,Region 10,23250,11/03/2020,5000,55,365,5400,6625,15650,Active\\n164,LoanID_164,Product D,Female,Location 386,Region 3,21250,16/08/2017,2200,55,365,3250,4375,17995,Active\\n165,LoanID_165,Product A,Female,Location 88,Region 1,23250,06/06/2019,5000,55,365,5150,4975,7400,Active\\n166,LoanID_166,Product B,Male,Location 104,Region 3,17600,29/09/2018,2200,45,365,3500,4525,15560,Active\\n167,LoanID_167,Product A,Female,Location 21,Region 2,20250,26/03/2020,1000,55,365,-2450,-2175,2100,Active\\n168,LoanID_168,Product A,NotSpecified,Location 405,Region 3,21250,17/12/2019,2200,55,365,1600,3775,10050,Active\\n169,LoanID_169,Product B,Male,Location 6,Region 2,17600,13/09/2018,2200,45,365,3051,3876,13341,Active\\n170,LoanID_170,Product D,Male,Location 62,Region 1,21250,24/05/2017,2200,55,365,3551,4776,11881,Active\\n171,LoanID_171,Product B,Male,Location 114,Region 2,17600,30/08/2018,2200,45,365,3380,4325,17290,Active\\n172,LoanID_172,Product B,Male,Location 259,Region 2,17600,04/05/2018,2200,45,365,3141,4126,9561,Active\\n173,LoanID_173,Product D,Female,Location 13,Region 1,21250,12/11/2017,2200,55,365,3851,5176,19521,Active\\n174,LoanID_174,Product A,NotSpecified,Location 182,Region 1,21250,07/01/2020,2200,55,365,1681,2966,13277,Active\\n175,LoanID_175,Product B,Male,Location 12,Region 3,17600,18/12/2018,2200,45,365,3201,4166,15621,Active\\n176,LoanID_176,Product A,Male,Location 228,Region 5,21250,27/12/2019,2200,55,365,1951,2976,14561,Active\\n177,LoanID_177,Product A,Female,Location 6,Region 6,20250,07/08/2019,1000,55,365,710,2190,18070,Active\\n178,LoanID_178,Product B,Female,Location 149,Region 8,17600,09/05/2018,2200,45,365,3501,4706,17421,Active\\n179,LoanID_179,Product A,Female,Location 90,Region 1,21750,04/09/2019,3000,55,365,2600,4025,17650,Active\\n180,LoanID_180,Product D,Male,Location 46,Region 2,21250,19/10/2017,2200,55,365,3601,4576,17348,Active\\n181,LoanID_181,Product A,Male,Location 104,Region 6,23250,31/08/2019,5000,55,365,5430,6675,17922,Active\\n182,LoanID_182,Product B,Male,Location 109,Region 1,17600,20/08/2018,2200,45,365,2661,2966,8241,Active\\n183,LoanID_183,Product A,Female,Location 111,Region 13,21250,16/07/2020,2200,55,365,950,1825,11850,Active\\n184,LoanID_184,Product D,Female,Location 19,Region 3,21250,30/03/2017,2200,55,365,3451,4976,17551,Active\\n185,LoanID_185,Product B,Female,Location 37,Region 2,17600,31/08/2018,2200,45,365,3390,4255,15524,Active\\n186,LoanID_186,Product A,Male,Location 441,Region 2,21250,03/01/2020,2200,55,365,1451,2326,8551,Active\\n187,LoanID_187,Product A,Male,Location 46,Region 2,21750,28/09/2019,3000,55,365,2150,3775,19200,Active\\n188,LoanID_188,Product B,Male,Location 22,Region 6,17600,23/07/2018,2200,45,365,4751,4576,17451,Active\\n189,LoanID_189,Product B,Male,Location 8,Region 3,17600,16/12/2018,2200,45,365,3500,4165,17240,Active\\n190,LoanID_190,Product A,Female,Location 421,Region 6,23250,12/06/2019,5000,55,365,5500,6775,13150,Active\\n191,LoanID_191,Product A,Female,Location 641,Region 3,23250,28/08/2019,5000,55,365,5600,6725,18230,Active\\n192,LoanID_192,Product A,Male,Location 195,Region 4,23250,11/07/2019,5000,55,365,7450,9275,21600,Active\\n193,LoanID_193,Product B,Male,Location 94,Region 6,17600,04/01/2019,2200,45,365,3361,4486,17421,\\n194,LoanID_194,Product E,Female,Location 30,Region 3,55625,08/06/2020,8000,120,365,12601,15926,53751,Active\\n195,LoanID_195,Product B,Male,Location 44,Region 6,17600,23/05/2018,2200,45,365,3661,5178,17323,Active\\n196,LoanID_196,Product A,Male,Location 20,Region 2,23250,06/06/2019,5000,55,365,5500,6625,20830,Active\\n197,LoanID_197,Product B,Male,Location 26,Region 3,17600,28/11/2018,2200,45,365,3620,4245,17000,Active\\n198,LoanID_198,Product D,Male,Location 22,Region 6,21250,28/08/2017,2200,55,365,3701,4976,20551,Active\\n199,LoanID_199,Product A,Male,Location 161,Region 12,23250,22/06/2020,5000,55,365,5553,5548,14443,Active\\n200,LoanID_200,Product C,Male,Location 117,Region 2,16600,27/05/2016,1000,45,365,2180,3565,15920,Active\\n201,LoanID_201,Product D,Female,Location 4,Region 3,21250,24/06/2017,2200,55,365,3750,5025,15400,Active\\n202,LoanID_202,Product B,Female,Location 200,Region 4,17600,13/05/2018,2200,45,365,3801,5676,13551,Active\\n203,LoanID_203,Product E,Male,Location 10,Region 2,55625,21/12/2019,8000,120,365,12370,15995,46745,Active\\n204,LoanID_204,Product B,NotSpecified,Location 106,Region 2,17600,03/01/2019,2200,45,365,3591,3736,8676,Active\\n205,LoanID_205,Product B,Male,Location 30,Region 3,17600,05/03/2018,2200,45,365,3701,4366,16691,Active\\n206,LoanID_206,Product A,Male,Location 25,Region 4,23250,21/04/2020,5000,55,365,5330,6435,15520,Active\\n207,LoanID_207,Product A,Female,Location 42,Region 2,20250,07/02/2020,1000,55,365,1350,2175,14800,Active\\n208,LoanID_208,Product A,Female,Location 31,Region 3,20250,09/12/2019,1000,55,365,730,1515,15000,Active\\n209,LoanID_209,Product A,Female,Location 111,Region 6,20250,14/11/2019,1000,55,365,1550,2675,18200,Active\\n210,LoanID_210,Product A,Male,Location 48,Region 3,23250,10/06/2020,5000,55,365,5400,6725,19900,Active\\n211,LoanID_211,Product C,Female,Location 44,Region 3,16600,31/12/2016,1000,45,365,3200,3625,13720,Active\\n212,LoanID_212,Product A,Male,Location 89,Region 6,23250,06/09/2019,5000,55,365,5080,5165,13910,Active\\n213,LoanID_213,Product C,Female,Location 122,Region 1,16600,24/09/2016,1000,45,365,2660,3605,15340,Active\\n214,LoanID_214,Product B,Male,Location 541,Region 2,17600,24/05/2018,2200,45,365,3131,4156,16831,Active\\n215,LoanID_215,Product A,Female,Location 67,Region 3,23250,30/05/2019,5000,55,365,5250,6325,16650,Active\\n216,LoanID_216,Product A,Female,Location 111,Region 3,23250,27/03/2020,5000,55,365,5400,6525,19950,Active\\n217,LoanID_217,Product B,Male,Location 87,Region 3,17600,10/05/2018,2200,45,365,3260,4365,16600,Active\\n218,LoanID_218,Product A,Male,Location 495,Region 2,21750,25/09/2019,3000,55,365,2220,3625,18750,Active\\n219,LoanID_219,Product A,Female,Location 193,Region 15,20250,23/04/2020,1000,55,365,-1550,-25,14450,Active\\n220,LoanID_220,Product B,Male,Location 39,Region 2,17600,23/04/2019,2200,45,365,3321,4266,16741,Active\\n221,LoanID_221,Product B,Male,Location 25,Region 7,,08/03/2018,2200,45,365,3301,4326,15721,Active\\n222,LoanID_222,Product B,Male,Location 26,Region 1,17600,27/12/2018,2200,45,365,3501,4166,12341,Active\\n223,LoanID_223,Product A,Female,Location 9,Region 2,23250,03/09/2019,5000,55,365,5450,6625,15400,Active\\n224,LoanID_224,Product A,Female,Location 86,Region 6,20250,01/01/2020,1000,55,365,450,925,6500,Active\\n225,LoanID_225,Product B,Male,Location 107,Region 4,17600,19/11/2018,2200,45,365,3517,4542,15457,Active\\n226,LoanID_226,Product B,Male,Location 44,Region 2,17600,06/02/2019,2200,45,365,3501,4246,14121,Active\\n227,LoanID_227,Product A,Female,Location 25,Region 6,20250,20/10/2019,1000,55,365,750,1625,14600,Active\\n228,LoanID_228,Product A,Male,Location 198,Region 1,20250,21/04/2020,1000,55,365,-1800,-475,15400,Active\\n229,LoanID_229,Product B,Male,Location 34,Region 3,17600,10/03/2018,2200,45,365,3450,4145,15490,\\n230,LoanID_230,Product D,Male,Location 46,Region 2,21250,28/09/2017,2200,55,365,2901,3551,5676,Active\\n231,LoanID_231,Product A,Female,Location 318,Region 2,23250,21/06/2019,5000,55,365,4860,6135,14050,Active\\n232,LoanID_232,Product C,Female,Location 11,Region 3,16600,15/03/2017,1000,45,365,2140,3205,15980,Active\\n233,LoanID_233,Product B,Female,Location 104,Region 1,17600,05/09/2018,2200,45,365,3220,4245,16560,Active\\n234,LoanID_234,Product B,Male,Location 135,Region 3,17600,22/03/2018,2200,45,365,4701,4526,17071,Active\\n235,LoanID_235,Product E,Male,Location 113,Region 2,55625,22/04/2020,8000,120,365,12576,15626,39251,Active\\n236,LoanID_236,Product A,Male,Location 177,Region 2,20250,26/05/2020,1000,55,365,-1700,-425,13900,\\n237,LoanID_237,Product A,Male,Location 87,Region 3,23250,04/06/2019,5000,55,365,5700,6725,19300,Active\\n238,LoanID_238,Product B,Female,Location 94,Region 2,17600,23/04/2019,2200,45,365,3421,4426,14921,Active\\n239,LoanID_239,Product A,Female,Location 25,Region 3,23250,13/06/2019,5000,55,365,5350,6675,9250,Active\\n240,LoanID_240,Product A,Male,Location 25,Region 6,20250,28/03/2020,1000,55,365,-1600,-525,11300,Active\\n241,LoanID_241,Product A,Male,Location 32,Region 3,20250,24/03/2020,1000,55,365,-1750,-125,13350,Active\\n242,LoanID_242,Product A,Male,Location 591,Region 6,21750,27/09/2019,3000,55,365,1950,2575,12250,Active\\n243,LoanID_243,Product A,NotSpecified,Location 6,Region 6,21750,17/09/2019,3000,55,365,2050,2655,8860,Active\\n244,LoanID_244,Product B,Male,Location 39,Region 6,17600,22/04/2018,2200,45,365,2861,3886,11431,Active\\n245,LoanID_245,Product B,Male,Location 218,Region 6,17600,09/01/2019,2200,45,365,3251,4366,14541,Active\\n246,LoanID_246,Product A,Male,Location 488,Region 6,23250,27/10/2019,5000,55,365,6350,7175,22650,Active\\n247,LoanID_247,Product B,NotSpecified,Location 142,Region 3,17600,23/04/2018,2200,45,365,3501,3856,8611,Active\\n248,LoanID_248,Product B,Male,Location 418,Region 6,17600,14/07/2018,2200,45,365,3660,4665,15020,Active\\n249,LoanID_249,Product B,NotSpecified,Location 34,Region 10,17600,01/11/2018,2200,45,365,3500,4525,16310,Active\\n250,LoanID_250,Product B,Female,Location 50,Region 4,17600,28/08/2018,2200,45,365,3501,4526,11681,Active\\n251,LoanID_251,Product C,Female,Location 84,Region 6,16600,01/11/2016,1000,45,365,2340,3265,15030,Active\\n252,LoanID_252,Product A,Female,Location 39,Region 6,20250,20/11/2019,1000,55,365,900,2025,17020,Active\\n253,LoanID_253,Product D,Female,Location 149,Region 6,21250,05/05/2017,2200,55,365,3900,4975,20650,Active\\n254,LoanID_254,Product A,Male,Location 49,Region 3,23250,16/02/2020,5000,55,365,7600,7425,17210,Active\\n255,LoanID_255,Product A,Female,Location 58,Region 2,20250,17/11/2019,1000,55,365,850,1975,16250,Active\\n256,LoanID_256,Product A,Male,Location 32,Region 7,23250,22/07/2019,5000,55,365,5910,7205,22900,Active\\n257,LoanID_257,Product A,Female,Location 44,Region 6,23250,21/02/2020,5000,55,365,6100,8175,22250,Active\\n258,LoanID_258,Product A,Male,Location 587,Region 3,23250,23/08/2019,5000,55,365,5700,6310,13715,Active\\n259,LoanID_259,Product B,Female,Location 129,Region 15,17600,23/01/2018,2200,45,365,3781,4806,14831,Active\\n260,LoanID_260,Product D,Male,Location 26,Region 4,21250,23/06/2017,2200,55,365,3401,4676,19351,Active\\n261,LoanID_261,Product B,Male,Location 58,Region 6,17600,27/10/2018,2200,45,365,4181,4606,14841,Active\\n262,LoanID_262,Product B,Male,Location 454,Region 6,17600,02/08/2018,2200,45,365,2850,3755,16070,Active\\n263,LoanID_263,Product B,Male,Location 45,Region 5,17600,08/11/2018,2200,45,365,3061,3846,12699,\\n264,LoanID_264,Product A,Female,Location 30,Region 15,20250,07/12/2019,1000,55,365,550,1625,10370,Active\\n265,LoanID_265,Product B,NotSpecified,Location 22,Region 11,17600,07/06/2018,2200,45,365,4020,5045,15500,Active\\n266,LoanID_266,Product B,NotSpecified,Location 19,Region 4,17600,16/02/2018,2200,45,365,4701,5026,16151,Active\\n267,LoanID_267,Product C,Male,Location 88,Region 6,16600,06/03/2017,1000,45,365,2400,3225,14000,Active\\n268,LoanID_268,Product B,Female,Location 8,Region 1,17600,03/10/2018,2200,45,365,3361,4226,16049,Active\\n269,LoanID_269,Product A,Male,Location 62,Region 4,23250,26/07/2019,5000,55,365,5500,6725,19550,Active\\n270,LoanID_270,Product A,Male,Location 26,Region 3,20250,13/10/2019,1000,55,365,1850,3275,18250,Active\\n271,LoanID_271,Product A,Female,Location 91,Region 2,,02/01/2020,5000,55,365,5550,6925,21750,Active\\n272,LoanID_272,Product A,Male,Location 97,Region 3,23250,01/02/2020,5000,55,365,5100,4925,14450,Active\\n273,LoanID_273,Product C,Female,Location 114,Region 7,16600,05/01/2017,1000,45,365,2280,3365,12740,Active\\n274,LoanID_274,Product C,Male,Location 61,Region 2,16600,11/08/2016,1000,45,365,2120,2985,10220,Active\\n275,LoanID_275,Product B,Male,Location 233,Region 3,17600,24/01/2018,2200,45,365,3101,3326,6241,Active\\n276,LoanID_276,Product A,Male,Location 30,Region 2,20250,09/08/2019,1000,55,365,650,1075,11770,Active\\n277,LoanID_277,Product B,NotSpecified,Location 49,Region 6,17600,27/03/2018,2200,45,365,3501,4206,16428,Active\\n278,LoanID_278,Product E,Female,Location 78,Region 3,55625,20/02/2020,8000,120,365,12101,15676,39626,Active\\n279,LoanID_279,Product B,Male,Location 61,Region 1,17600,23/05/2018,2200,45,365,3500,4485,17110,Active\\n280,LoanID_280,Product B,Male,Location 543,Region 7,17600,21/06/2018,2200,45,365,6620,8705,17570,Active\\n281,LoanID_281,Product B,Female,Location 25,Region 3,17600,08/04/2019,2200,45,365,3160,4215,15290,Active\\n282,LoanID_282,Product A,Male,Location 88,Region 1,20250,27/12/2019,1000,55,365,550,1975,13000,Active\\n283,LoanID_283,Product A,Male,Location 3,Region 6,23250,13/07/2019,5000,55,365,5950,6575,18850,\\n284,LoanID_284,Product A,Male,Location 489,Region 6,23250,11/04/2020,5000,55,365,5650,6825,16950,Active\\n285,LoanID_285,Product B,Male,Location 30,Region 6,17600,23/07/2018,2200,45,365,3519,4544,15469,Active\\n286,LoanID_286,Product A,Male,Location 60,Region 1,20250,12/11/2019,1000,55,365,900,2125,18550,Active\\n287,LoanID_287,Product A,Female,Location 67,Region 4,20250,07/06/2020,1000,55,365,-2000,-1275,8520,Active\\n288,LoanID_288,Product C,Male,Location 52,Region 5,16600,07/02/2017,1000,45,365,2410,3355,14940,Active\\n289,LoanID_289,Product E,Male,Location 38,Region 1,55625,06/05/2020,8000,120,365,12426,16501,46076,Active\\n290,LoanID_290,Product B,Female,Location 11,Region 3,17600,05/10/2018,2200,45,365,2981,4006,12901,Active\\n291,LoanID_291,Product B,Male,Location 113,Region 12,17600,30/10/2018,2200,45,365,3101,4006,11861,Active\\n292,LoanID_292,Product C,Male,Location 548,Region 8,16600,31/01/2017,1000,45,365,2000,3345,15650,Active\\n293,LoanID_293,Product D,Male,Location 161,Region 3,21250,10/11/2017,2200,55,365,3500,4675,18240,Active\\n294,LoanID_294,Product A,Female,Location 15,Region 1,20250,11/11/2019,1000,55,365,850,2275,12450,Active\\n295,LoanID_295,Product A,Female,Location 240,Region 4,20250,12/03/2020,1000,55,365,-1650,-475,14550,Active\\n296,LoanID_296,Product C,Male,Location 658,Region 3,16600,31/01/2017,1000,45,365,2180,3205,13560,Active\\n297,LoanID_297,Product C,Female,Location 94,Region 7,16600,05/02/2017,1000,45,365,2160,3065,9300,Active\\n298,LoanID_298,Product A,Female,Location 67,Region 1,20250,18/05/2020,1000,55,365,-2050,-825,4600,Active\\n299,LoanID_299,Product B,Male,Location 10,Region 6,17600,31/03/2019,2200,45,365,3501,4826,15561,Active\\n300,LoanID_300,Product D,Male,Location 113,Region 2,21250,26/09/2017,2200,55,365,3800,4925,16850,Active\\n301,LoanID_301,Product A,Female,Location 73,Region 2,21750,27/09/2019,3000,55,365,2220,3395,15095,Active\\n302,LoanID_302,Product B,NotSpecified,Location 87,Region 3,17600,19/02/2019,2200,45,365,3681,4556,17271,Active\\n303,LoanID_303,Product B,Male,Location 209,Region 2,17600,20/02/2018,2200,45,365,3520,4305,16420,Active\\n304,LoanID_304,Product B,Male,Location 151,Region 2,17600,24/11/2018,2200,45,365,3321,4346,17541,Active\\n305,LoanID_305,Product A,Male,Location 12,Region 2,23250,29/05/2019,5000,55,365,5600,6825,22550,Active\\n306,LoanID_306,Product B,Male,Location 53,Region 3,17600,20/04/2018,2200,45,365,3501,5726,11723,Active\\n307,LoanID_307,Product A,Male,Location 26,Region 2,23250,31/12/2019,5000,55,365,5550,6725,15650,Active\\n308,LoanID_308,Product A,Male,Location 192,Region 1,21250,16/01/2020,2200,55,365,1565,2990,11915,Active\\n309,LoanID_309,Product B,Male,Location 364,Region 6,17600,12/01/2019,2200,45,365,3355,4327,16790,Active\\n310,LoanID_310,Product A,Male,Location 33,Region 6,20250,12/01/2020,1000,55,365,300,825,4500,Active\\n311,LoanID_311,Product A,Female,Location 30,Region 1,23250,31/05/2019,5000,55,365,5640,6575,17730,Active\\n312,LoanID_312,Product B,Male,Location 39,Region 4,17600,01/06/2019,2200,45,365,6681,8706,16181,Active\\n313,LoanID_313,Product C,Male,Location 18,Region 7,16600,15/11/2016,1000,45,365,2300,3223,12938,Active\\n314,LoanID_314,Product B,Female,Location 45,Region 6,17600,13/04/2019,2200,45,365,6101,5926,12531,Active\\n315,LoanID_315,Product B,Male,Location 8,Region 3,17600,03/10/2018,2200,45,365,3801,4226,11201,Active\\n316,LoanID_316,Product C,Female,Location 503,Region 3,16600,09/12/2016,1000,45,365,2300,3325,15730,Active\\n317,LoanID_317,Product B,Male,Location 46,Region 3,17600,23/02/2019,2200,45,365,3460,4165,13290,Active\\n318,LoanID_318,Product D,Male,Location 61,Region 4,21250,06/06/2017,2200,55,365,3401,5066,12761,Active\\n319,LoanID_319,Product A,Male,Location 19,Region 6,20250,24/04/2020,1000,55,365,-1750,-475,12450,Active\\n320,LoanID_320,Product D,Male,Location 70,Region 3,21250,09/01/2018,2200,55,365,6551,7526,13151,Active\\n321,LoanID_321,Product B,Male,Location 482,Region 7,17600,24/02/2018,2200,45,365,3141,4166,17001,Active\\n322,LoanID_322,Product A,Male,Location 30,Region 6,23250,07/03/2020,5000,55,365,4440,4715,12138,Active\\n323,LoanID_323,Product B,Female,Location 460,Region 2,17600,24/01/2019,2200,45,365,3101,3926,11381,Active\\n324,LoanID_324,Product A,Male,Location 67,Region 6,23250,07/06/2020,5000,55,365,5400,6675,19350,Active\\n325,LoanID_325,Product A,Male,Location 22,Region 3,23250,15/08/2019,5000,55,365,5480,6695,20005,Active\\n326,LoanID_326,Product A,Female,Location 60,Region 3,20250,13/12/2019,1000,55,365,600,1475,17550,Active\\n327,LoanID_327,Product E,Male,Location 37,Region 3,55625,10/04/2020,8000,120,365,10101,10426,25126,Active\\n328,LoanID_328,Product C,Male,Location 71,Region 3,14775,06/01/2018,1000,30,365,2350,3400,9065,Active\\n329,LoanID_329,Product B,Male,Location 91,Region 3,17600,23/04/2018,2200,45,365,3501,4286,12101,Active\\n330,LoanID_330,Product B,Male,Location 10,Region 6,16300,24/03/2019,2200,45,365,3601,4326,15151,Active\\n331,LoanID_331,Product A,Female,Location 46,Region 3,,02/10/2019,5000,55,365,5220,5895,12530,Active\\n332,LoanID_332,Product A,Male,Location 8,Region 6,20450,02/10/2019,3000,55,365,2300,3525,17455,Active\\n333,LoanID_333,Product B,Male,Location 377,Region 5,16300,07/04/2018,2200,45,365,3361,4526,15781,\\n334,LoanID_334,Product A,Female,Location 3,Region 8,18950,24/01/2020,1000,55,365,450,1575,11305,Active\\n335,LoanID_335,Product A,Male,Location 350,Region 4,21950,05/07/2019,5000,55,365,5450,6725,20405,Active\\n336,LoanID_336,Product A,Male,Location 350,Region 2,19950,31/07/2020,2200,55,365,1850,3325,14695,Active\\n337,LoanID_337,Product A,Female,Location 3,Region 6,21950,12/02/2020,5000,55,365,5350,6625,17800,Active\\n338,LoanID_338,Product A,Female,Location 69,Region 10,18950,19/12/2019,1000,55,365,550,1775,16700,Active\\n339,LoanID_339,Product B,Female,Location 21,Region 1,16300,28/07/2018,2200,45,365,3580,4085,15760,Active\\n340,LoanID_340,Product C,Male,Location 30,Region 3,15300,09/02/2017,1000,45,365,2300,3125,14380,Active\\n341,LoanID_341,Product A,Male,Location 258,Region 1,19950,30/06/2020,2200,55,365,2751,3076,7801,Active\\n342,LoanID_342,Product A,Male,Location 204,Region 3,21950,22/05/2019,5000,55,365,5450,6475,15350,Active\\n343,LoanID_343,Product A,Female,Location 124,Region 6,21950,27/12/2019,5000,55,365,5400,6525,21350,Active\\n344,LoanID_344,Product B,NotSpecified,Location 62,Region 6,16300,06/12/2018,2200,45,365,3221,5306,16281,Active\\n345,LoanID_345,Product A,Male,Location 168,Region 2,21950,10/03/2020,5000,55,365,4350,4175,8400,Active\\n346,LoanID_346,Product D,Male,Location 35,Region 13,19950,13/10/2017,2200,55,365,3850,3875,5850,Active\\n347,LoanID_347,Product B,Female,Location 89,Region 6,16300,31/12/2018,2200,45,365,3301,4226,13191,Active\\n348,LoanID_348,Product A,Male,Location 296,Region 3,21950,20/06/2020,5000,55,365,5450,6775,16150,Active\\n349,LoanID_349,Product A,Male,Location 17,Region 1,18950,12/11/2019,1000,55,365,750,1925,17350,Active\\n350,LoanID_350,Product B,Male,Location 144,Region 1,16300,20/10/2018,2200,45,365,4001,4326,16961,Active\\n351,LoanID_351,Product B,Male,Location 111,Region 6,16300,30/01/2019,2200,45,365,3140,4165,10760,Active\\n352,LoanID_352,Product C,Male,Location 30,Region 2,15300,27/08/2016,1000,45,365,3100,3875,15900,Active\\n353,LoanID_353,Product A,Female,Location 111,Region 7,18950,21/11/2019,1000,55,365,650,1375,8560,Active\\n354,LoanID_354,Product B,Male,Location 29,Region 1,16300,14/12/2018,2200,45,365,3220,3885,10040,Active\\n355,LoanID_355,Product A,NotSpecified,Location 6,Region 6,19950,13/12/2019,2200,55,365,1351,3426,16201,Active\\n356,LoanID_356,Product B,Female,Location 136,Region 3,16300,24/01/2019,2200,45,365,3421,4146,13541,Active\\n357,LoanID_357,Product A,Male,Location 91,Region 6,21950,05/06/2020,5000,55,365,5700,7025,16400,Active\\n358,LoanID_358,Product B,Female,Location 86,Region 3,16300,29/03/2019,2200,45,365,3501,4166,17221,Active\\n359,LoanID_359,Product C,Female,Location 23,Region 6,15300,04/12/2016,1000,45,365,2280,3265,16105,Active\\n360,LoanID_360,Product A,Male,Location 91,Region 6,19950,18/07/2020,2200,55,365,1701,2946,12211,Active\\n361,LoanID_361,Product A,Male,Location 88,Region 7,21950,09/12/2019,5000,55,365,5200,5775,11650,Active\\n362,LoanID_362,Product D,Female,Location 28,Region 6,19950,19/12/2017,2200,55,365,6601,7926,19001,Active\\n363,LoanID_363,Product B,Female,Location 86,Region 4,16300,06/05/2019,2200,45,365,3380,4245,17420,Active\\n364,LoanID_364,Product A,Male,Location 91,Region 6,21950,08/09/2019,5000,55,365,5350,5925,15900,Active\\n365,LoanID_365,Product B,Female,Location 25,Region 2,16300,29/03/2018,2200,45,365,3360,4225,17213,Active\\n366,LoanID_366,Product B,NotSpecified,Location 45,Region 2,16300,11/12/2018,2200,45,365,2341,2526,9171,Active\\n367,LoanID_367,Product B,Female,Location 49,Region 2,16300,14/03/2018,2200,45,365,3201,4226,12241,Active\\n368,LoanID_368,Product D,Female,Location 39,Region 6,19950,27/10/2017,2200,55,365,3500,4775,20750,Active\\n369,LoanID_369,Product B,Female,Location 111,Region 2,16300,29/03/2018,2200,45,365,3901,3726,15601,Active\\n370,LoanID_370,Product B,Female,Location 17,Region 6,16300,25/04/2018,2200,45,365,3501,4326,16061,Active\\n371,LoanID_371,Product B,Male,Location 153,Region 6,16300,03/04/2018,2200,45,365,3421,4346,16791,Active\\n372,LoanID_372,Product A,Female,Location 188,Region 14,18950,08/04/2020,1000,55,365,-1850,-575,14900,Active\\n373,LoanID_373,Product D,Female,Location 99,Region 2,19950,21/09/2017,2200,55,365,3851,4841,14066,\\n374,LoanID_374,Product B,Female,Location 25,Region 2,16300,20/04/2019,2200,45,365,3501,4326,16461,Active\\n375,LoanID_375,Product B,Female,Location 9,Region 7,16300,29/03/2019,2200,45,365,2861,3886,13431,Active\\n376,LoanID_376,Product A,Male,Location 132,Region 1,21950,04/07/2019,5000,55,365,6200,7525,14500,Active\\n377,LoanID_377,Product A,Female,Location 22,Region 2,18950,14/03/2020,1000,55,365,-1650,-325,16250,Active\\n378,LoanID_378,Product A,Female,Location 427,Region 2,21950,22/04/2020,5000,55,365,5400,6975,22300,Active\\n379,LoanID_379,Product B,Female,Location 17,Region 2,16300,05/12/2018,2200,45,365,3601,4926,17371,Active\\n380,LoanID_380,Product A,Female,Location 118,Region 3,18950,09/01/2020,1000,55,365,1150,2175,18000,Active\\n381,LoanID_381,Product A,Male,Location 161,Region 3,,22/04/2020,1000,55,365,-1880,-755,3420,Active\\n382,LoanID_382,Product A,Male,Location 460,Region 4,19950,25/01/2020,2200,55,365,1401,1826,9501,Active\\n383,LoanID_383,Product A,Male,Location 45,Region 3,20450,27/09/2019,3000,55,365,2000,2875,8700,Active\\n384,LoanID_384,Product B,Male,Location 87,Region 10,16300,21/04/2018,2200,45,365,3340,4045,13570,Active\\n385,LoanID_385,Product B,Male,Location 21,Region 5,16300,07/10/2018,2200,45,365,3521,4546,14291,Active\\n386,LoanID_386,Product B,Female,Location 127,Region 6,16300,14/03/2018,2200,45,365,3501,4246,15501,Active\\n387,LoanID_387,Product B,Female,Location 145,Region 6,16300,21/08/2018,2200,45,365,3871,4556,16011,Active\\n388,LoanID_388,Product A,Male,Location 69,Region 3,19950,22/07/2020,2200,55,365,1651,2626,7351,Active\\n389,LoanID_389,Product B,Female,Location 30,Region 1,16300,20/02/2019,2200,45,365,3170,4195,9430,Active\\n390,LoanID_390,Product A,Male,Location 49,Region 6,21950,10/06/2020,5000,55,365,5600,6725,22350,Active\\n391,LoanID_391,Product C,NotSpecified,Location 91,Region 6,15300,06/12/2016,1000,45,365,2060,2805,12540,\\n392,LoanID_392,Product B,Male,Location 61,Region 6,16300,14/07/2018,2200,45,365,5601,5426,14551,\\n393,LoanID_393,Product B,Male,Location 159,Region 3,16300,12/05/2018,2200,45,365,3000,3965,13316,\\n394,LoanID_394,Product C,Male,Location 118,Region 4,15300,15/12/2016,1000,45,365,2340,3285,16160,\\n395,LoanID_395,Product B,Female,Location 13,Region 2,16300,02/03/2019,2200,45,365,3321,3766,13316,\\n396,LoanID_396,Product C,Female,Location 84,Region 5,15300,21/10/2016,1000,45,365,2380,3205,15280,\\n397,LoanID_397,Product A,Male,Location 30,Region 6,18950,15/11/2019,1000,55,365,550,1585,13230,\\n398,LoanID_398,Product A,Female,Location 111,Region 1,19950,21/07/2020,2200,55,365,1401,2446,16629,Active\\n399,LoanID_399,Product B,Male,Location 154,Region 4,16300,08/04/2018,2200,45,365,3440,4145,14900,Active\\n400,LoanID_400,Product B,Female,Location 175,Region 6,16300,25/06/2018,2200,45,365,3211,3816,9390,Active\\n401,LoanID_401,Product B,Male,Location 120,Region 3,16300,07/10/2018,2200,45,365,4801,6126,15401,Active\\n402,LoanID_402,Product B,Female,Location 60,Region 7,16300,07/02/2019,2200,45,365,3270,4265,12340,Active\\n403,LoanID_403,Product C,Male,Location 64,Region 2,15300,15/10/2016,1000,45,365,2020,3165,13620,Active\\n404,LoanID_404,Product B,Female,Location 52,Region 2,16300,05/05/2018,2200,45,365,3171,3556,7971,Active\\n405,LoanID_405,Product A,Female,Location 3,Region 1,18950,29/04/2020,1000,55,365,-2000,-1275,8690,Active\\n406,LoanID_406,Product B,NotSpecified,Location 82,Region 5,16300,24/02/2018,2200,45,365,3601,4431,16166,Active\\n407,LoanID_407,Product D,Male,Location 152,Region 3,19950,03/06/2017,2200,55,365,3550,4825,20350,Active\\n408,LoanID_408,Product A,NotSpecified,Location 60,Region 3,19950,06/01/2020,2200,55,365,1300,1725,7800,Active\\n409,LoanID_409,Product F,Male,Location 73,Region 6,68925,26/02/2020,8000,150,365,14560,17975,38903,Active\\n410,LoanID_410,Product C,Male,Location 142,Region 2,15300,17/09/2016,1000,45,365,2200,3405,14120,Active\\n411,LoanID_411,Product B,NotSpecified,Location 39,Region 6,16300,07/03/2018,2200,45,365,3361,4306,17250,Active\\n412,LoanID_412,Product B,Male,Location 21,Region 6,16300,23/11/2018,2200,45,365,3500,4275,16010,Active\\n413,LoanID_413,Product B,NotSpecified,Location 74,Region 1,16300,01/08/2018,2200,45,365,3500,4525,12780,\\n414,LoanID_414,Product C,Female,Location 56,Region 6,15300,18/03/2017,1000,45,365,3600,3425,11150,Active\\n415,LoanID_415,Product A,NotSpecified,Location 282,Region 2,21950,01/06/2020,5000,55,365,4900,5925,13005,Active\\n416,LoanID_416,Product A,NotSpecified,Location 113,Region 6,21950,24/07/2019,5000,55,365,5600,6925,18700,Active\\n417,LoanID_417,Product A,NotSpecified,Location 38,Region 6,18950,06/03/2020,1000,55,365,-1200,-925,12401,Active\\n418,LoanID_418,Product A,Female,Location 566,Region 6,21950,27/08/2019,5000,55,365,6600,7625,20310,Active\\n419,LoanID_419,Product B,Male,Location 365,Region 3,16300,02/08/2018,2200,45,365,3301,4266,16571,Active\\n420,LoanID_420,Product D,Male,Location 353,Region 7,19950,16/06/2017,2200,55,365,3400,4925,20600,Active\\n421,LoanID_421,Product E,Male,Location 66,Region 1,54325,23/02/2020,8000,120,365,12351,14176,26626,Active\\n422,LoanID_422,Product B,Male,Location 48,Region 6,16300,09/08/2018,2200,45,365,2140,2925,13480,Active\\n423,LoanID_423,Product D,Male,Location 108,Region 3,19950,18/10/2017,2200,55,365,3851,5176,17601,Active\\n424,LoanID_424,Product B,Male,Location 94,Region 4,16300,28/04/2019,2200,45,365,3251,4276,15491,Active\\n425,LoanID_425,Product A,Female,Location 61,Region 3,18950,13/11/2019,1000,55,365,600,2125,15950,Active\\n426,LoanID_426,Product C,Female,Location 45,Region 6,15300,25/10/2016,1000,45,365,2420,3285,15350,Active\\n427,LoanID_427,Product A,Male,Location 34,Region 6,18950,23/05/2020,1000,55,365,-1800,-525,14900,Active\\n428,LoanID_428,Product B,Male,Location 26,Region 2,16300,03/03/2019,2200,45,365,3501,4126,10876,Active\\n429,LoanID_429,Product B,NotSpecified,Location 2,Region 1,16300,28/03/2018,2200,45,365,3221,4426,17381,Active\\n430,LoanID_430,Product A,Male,Location 62,Region 6,18950,05/01/2020,1000,55,365,850,2025,13100,Active\\n431,LoanID_431,Product A,Female,Location 3,Region 2,,16/01/2020,1000,55,365,100,475,6650,Active\\n432,LoanID_432,Product A,NotSpecified,Location 29,Region 7,21950,21/04/2020,5000,55,365,5650,6975,22900,Active\\n433,LoanID_433,Product C,Male,Location 88,Region 13,13475,27/04/2018,1000,30,365,1415,1345,4240,Active\\n434,LoanID_434,Product C,Male,Location 34,Region 2,15300,24/07/2016,1000,45,365,2460,3285,16110,Active\\n435,LoanID_435,Product A,Female,Location 18,Region 2,21950,25/07/2019,5000,55,365,4700,5645,9648,Active\\n436,LoanID_436,Product A,Male,Location 214,Region 3,18950,28/10/2019,1000,55,365,240,465,11000,Active\\n437,LoanID_437,Product A,Male,Location 13,Region 1,21950,04/06/2019,5000,55,365,5850,6175,21500,Active\\n438,LoanID_438,Product A,Male,Location 84,Region 3,19950,10/12/2019,2200,55,365,1701,2926,14201,Active\\n439,LoanID_439,Product B,Female,Location 89,Region 6,16300,08/09/2018,2200,45,365,3180,4085,16930,Active\\n440,LoanID_440,Product D,Male,Location 22,Region 2,19950,30/08/2017,2200,55,365,3100,3525,5600,Active\\n441,LoanID_441,Product B,Male,Location 323,Region 2,16300,11/07/2018,2200,45,365,3340,4405,15100,Active\\n442,LoanID_442,Product A,Female,Location 473,Region 6,21950,22/04/2020,5000,55,365,5600,6925,22800,Active\\n443,LoanID_443,Product E,Female,Location 206,Region 6,54325,02/06/2020,8000,120,365,12801,16256,53681,Active\\n444,LoanID_444,Product C,Male,Location 57,Region 13,13475,03/03/2018,1000,30,365,2395,2990,4135,Active\\n445,LoanID_445,Product A,Female,Location 30,Region 6,21950,31/07/2019,5000,55,365,5450,6525,14470,Active\\n446,LoanID_446,Product C,Female,Location 9,Region 2,15300,23/10/2016,1000,45,365,2230,3435,15350,Active\\n447,LoanID_447,Product B,Male,Location 19,Region 2,16300,05/03/2019,2200,45,365,3501,4026,15041,Active\\n448,LoanID_448,Product A,Male,Location 68,Region 3,19950,07/07/2020,2200,55,365,1601,2526,11851,Active\\n449,LoanID_449,Product A,Male,Location 37,Region 3,18950,21/03/2020,1000,55,365,-2300,-1825,2830,Active\\n450,LoanID_450,Product B,Female,Location 61,Region 6,16300,13/04/2019,2200,45,365,3581,4186,16631,Active\\n451,LoanID_451,Product B,NotSpecified,Location 44,Region 6,16300,11/03/2018,2200,45,365,3380,4405,14520,Active\\n452,LoanID_452,Product C,Male,Location 32,Region 9,15300,31/08/2016,1000,45,365,2300,3325,15900,Active\\n453,LoanID_453,Product A,Female,Location 22,Region 6,19950,03/07/2020,2200,55,365,1251,1676,7651,\\n454,LoanID_454,Product B,Female,Location 145,Region 3,16300,01/05/2019,2200,45,365,3420,4365,17480,Active\\n455,LoanID_455,Product B,Female,Location 9,Region 7,16300,05/06/2018,2200,45,365,3800,3875,15110,Active\\n456,LoanID_456,Product B,Female,Location 30,Region 1,16300,14/05/2019,2200,45,365,3376,4261,17211,Active\\n457,LoanID_457,Product B,Male,Location 44,Region 6,16300,24/12/2018,2200,45,365,4001,4726,17241,Active\\n458,LoanID_458,Product A,Male,Location 62,Region 6,21950,24/05/2020,5000,55,365,5500,6275,21770,Active\\n459,LoanID_459,Product B,Female,Location 60,Region 3,16300,19/06/2018,2200,45,365,3201,4086,11951,Active\\n460,LoanID_460,Product B,Male,Location 4,Region 3,16300,20/04/2018,2200,45,365,3291,4256,16706,Active\\n461,LoanID_461,Product B,Male,Location 6,Region 6,16300,31/12/2018,2200,45,365,3800,4345,16200,Active\\n462,LoanID_462,Product A,Male,Location 73,Region 6,21950,27/08/2019,5000,55,365,5600,7425,23108,Active\\n463,LoanID_463,Product B,Male,Location 69,Region 6,16300,08/03/2019,2200,45,365,3241,4346,16831,Active\\n464,LoanID_464,Product B,Male,Location 166,Region 1,16300,22/05/2018,2200,45,365,3220,4165,12960,Active\\n465,LoanID_465,Product A,Male,Location 87,Region 6,18950,29/10/2019,1000,55,365,670,1925,13300,Active\\n466,LoanID_466,Product D,Male,Location 1,Region 5,19950,27/04/2017,2200,55,365,3950,5575,20625,Active\\n467,LoanID_467,Product D,Male,Location 227,Region 6,19950,20/05/2017,2200,55,365,3601,5056,19081,Active\\n468,LoanID_468,Product D,Male,Location 70,Region 15,19950,20/10/2017,2200,55,365,3200,4425,17850,Active\\n469,LoanID_469,Product A,Female,Location 79,Region 1,19950,02/07/2020,2200,55,365,1800,3125,17550,Active\\n470,LoanID_470,Product B,Male,Location 4,Region 1,16300,18/07/2018,2200,45,365,3261,4226,14181,Active\\n471,LoanID_471,Product B,Female,Location 296,Region 1,,24/11/2018,2200,45,365,3501,4346,14101,Active\\n472,LoanID_472,Product A,Male,Location 94,Region 4,19950,26/07/2020,2200,55,365,1800,3875,19000,Active\\n473,LoanID_473,Product A,Female,Location 642,Region 3,18950,13/01/2020,1000,55,365,810,1245,7160,Active\\n474,LoanID_474,Product B,Female,Location 3,Region 2,16300,17/07/2018,2200,45,365,7300,10125,17050,Active\\n475,LoanID_475,Product D,Female,Location 105,Region 6,19950,14/05/2017,2200,55,365,3551,4426,17846,Active\\n476,LoanID_476,Product B,Male,Location 91,Region 3,16300,11/05/2019,2200,45,365,4281,5386,17591,Active\\n477,LoanID_477,Product B,NotSpecified,Location 644,Region 6,16300,23/04/2019,2200,45,365,3301,4206,17036,Active\\n478,LoanID_478,Product A,Female,Location 11,Region 2,18950,13/05/2020,1000,55,365,-1600,-175,15600,Active\\n479,LoanID_479,Product B,Female,Location 547,Region 1,16300,15/12/2018,2200,45,365,3501,4556,13821,Active\\n480,LoanID_480,Product B,NotSpecified,Location 84,Region 3,16300,25/02/2019,2200,45,365,3301,4326,15001,Active\\n481,LoanID_481,Product A,Female,Location 61,Region 2,21950,27/06/2019,5000,55,365,5600,6935,18632,Active\\n482,LoanID_482,Product B,Female,Location 637,Region 2,16300,05/08/2018,2200,45,365,3220,4455,17470,Active\\n483,LoanID_483,Product A,Male,Location 97,Region 6,18950,27/10/2019,1000,55,365,-250,-425,650,Blocked\\n484,LoanID_484,Product B,Male,Location 46,Region 6,16300,24/04/2019,2200,45,365,9301,9126,10701,Blocked\\n485,LoanID_485,Product D,Male,Location 59,Region 10,19950,15/10/2017,2200,55,365,3850,4925,13110,Blocked\\n486,LoanID_486,Product B,Male,Location 574,Region 2,16300,29/03/2018,2200,45,365,2500,2325,3600,Blocked\\n487,LoanID_487,Product B,NotSpecified,Location 26,Region 1,16300,24/05/2018,2200,45,365,4900,4725,8250,Blocked\\n488,LoanID_488,Product A,Male,Location 49,Region 3,18950,12/02/2020,1000,55,365,450,1425,6950,Blocked\\n489,LoanID_489,Product D,Female,Location 39,Region 6,16300,11/02/2018,2200,45,365,3081,3376,8781,Blocked\\n490,LoanID_490,Product A,Male,Location 20,Region 1,18950,15/03/2020,1000,55,365,-1750,-605,2480,Blocked\\n491,LoanID_491,Product A,Male,Location 529,Region 6,19950,21/11/2019,2200,55,365,2051,2876,4801,Blocked\\n492,LoanID_492,Product B,NotSpecified,Location 554,Region 6,16300,19/01/2019,2200,45,365,3021,3266,5481,Blocked\\n493,LoanID_493,Product B,Male,Location 323,Region 2,16300,11/05/2019,2200,45,365,2101,1926,3001,\\n494,LoanID_494,Product A,Male,Location 108,Region 3,18950,27/11/2019,1000,55,365,250,75,1150,Blocked\\n495,LoanID_495,Product C,Male,Location 59,Region 2,15300,11/12/2016,1000,45,365,2180,2725,6280,Blocked\\n496,LoanID_496,Product C,Male,Location 114,Region 6,15300,02/06/2016,1000,45,365,2675,3560,16600,Finished Payment\\n497,LoanID_497,Product C,Male,Location 19,Region 6,15300,10/11/2016,1000,45,365,2340,3605,16600,Finished Payment\\n498,LoanID_498,Product B,Female,Location 48,Region 6,16300,08/09/2018,2200,45,365,3501,4526,17600,Finished Payment\\n499,LoanID_499,Product D,Female,Location 275,Region 3,19950,09/11/2017,2200,55,365,4100,5325,21250,Finished Payment\\n500,LoanID_500,Product D,Male,Location 27,Region 3,19950,24/08/2017,2200,55,365,3850,6175,21250,Finished Payment\\n501,LoanID_501,Product C,Male,Location 218,Region 6,15300,12/08/2016,1000,45,365,6900,7525,16600,Finished Payment\\n502,LoanID_502,Product C,Male,Location 17,Region 6,15300,01/10/2016,1000,45,365,2660,3635,16600,Finished Payment\\n503,LoanID_503,Product B,Male,Location 589,Region 4,16300,07/04/2018,2200,45,365,3501,4526,17600,Finished Payment\\n504,LoanID_504,Product C,Male,Location 66,Region 3,15300,04/01/2017,1000,45,365,2460,3345,16600,Finished Payment\\n505,LoanID_505,Product A,Female,Location 4,Region 7,21950,31/12/2019,5000,55,365,5700,6675,23250,Finished Payment\\n506,LoanID_506,Product C,Male,Location 34,Region 6,15300,10/09/2016,1000,45,365,2340,3205,16600,Finished Payment\\n507,LoanID_507,Product B,Female,Location 53,Region 6,16300,23/08/2018,2200,45,365,6301,6126,17600,Finished Payment\\n508,LoanID_508,Product B,Male,Location 66,Region 6,16300,11/09/2018,2200,45,365,3380,4285,17600,Finished Payment\\n509,LoanID_509,Product A,Male,Location 79,Region 4,21950,28/02/2020,5000,55,365,5450,6975,23250,Finished Payment\\n510,LoanID_510,Product B,Male,Location 91,Region 4,16300,19/04/2019,2200,45,365,5301,6626,17600,Finished Payment\\n511,LoanID_511,Product B,Male,Location 160,Region 2,16300,20/12/2018,2200,45,365,12100,13125,17600,Finished Payment\\n512,LoanID_512,Product B,Male,Location 25,Region 4,16300,16/03/2019,2200,45,365,2961,4286,17600,Finished Payment\\n513,LoanID_513,Product C,Male,Location 34,Region 5,15300,27/04/2016,1000,45,365,2840,3535,16600,\\n514,LoanID_514,Product B,Female,Location 410,Region 3,16300,19/11/2018,2200,45,365,3301,4066,17600,Finished Payment\\n515,LoanID_515,Product A,Male,Location 62,Region 1,21950,12/05/2020,5000,55,365,7500,7825,23250,Finished Payment\\n516,LoanID_516,Product A,Male,Location 146,Region 6,21950,14/12/2019,5000,55,365,5800,7325,23250,Finished Payment\\n517,LoanID_517,Product B,Male,Location 91,Region 4,16300,15/04/2019,2200,45,365,3501,4006,17600,Finished Payment\\n518,LoanID_518,Product B,Male,Location 221,Region 1,16300,26/05/2018,2200,45,365,5301,5126,17600,Finished Payment\\n519,LoanID_519,Product D,Male,Location 95,Region 6,19950,22/10/2017,2200,55,365,3851,5176,21250,Finished Payment\\n520,LoanID_520,Product B,Male,Location 50,Region 2,16300,24/02/2018,2200,45,365,7655,7997,17600,Finished Payment\\n521,LoanID_521,Product C,Female,Location 60,Region 3,,02/03/2017,1000,45,365,2300,4525,16600,Finished Payment\\n522,LoanID_522,Product B,Male,Location 62,Region 3,16300,28/01/2019,2200,45,365,3201,4276,17600,Finished Payment\\n523,LoanID_523,Product C,Female,Location 10,Region 7,15300,27/11/2015,1000,45,365,2324,3996,15617,Finished Payment\\n524,LoanID_524,Product A,NotSpecified,Location 265,Region 3,21950,16/01/2020,5000,55,365,7350,11142,22267,Finished Payment\\n525,LoanID_525,Product B,Female,Location 9,Region 6,16300,07/05/2018,2200,45,365,4450,5942,16617,Finished Payment\\n526,LoanID_526,Product B,Male,Location 40,Region 4,16300,11/01/2019,2200,45,365,3251,4743,16617,Finished Payment\\n527,LoanID_527,Product C,NotSpecified,Location 62,Region 6,15300,05/07/2016,1000,45,365,2050,3542,15617,Finished Payment\\n528,LoanID_528,Product C,Female,Location 44,Region 8,15300,04/12/2016,1000,45,365,2400,3742,15617,Finished Payment\\n529,LoanID_529,Product B,Male,Location 111,Region 3,16300,07/03/2018,2200,45,365,4070,6562,16617,Finished Payment\\n530,LoanID_530,Product C,Male,Location 34,Region 6,15300,31/01/2017,1000,45,365,3730,4702,15617,Finished Payment\\n531,LoanID_531,Product A,Male,Location 23,Region 6,21950,16/08/2019,5000,55,365,5350,7142,22267,Finished Payment\\n532,LoanID_532,Product B,Male,Location 2,Region 6,16300,15/02/2018,2200,45,365,3030,6322,16617,Finished Payment\\n533,LoanID_533,Product D,Male,Location 569,Region 15,19950,19/09/2017,2200,55,365,3200,4742,20267,Finished Payment\\n534,LoanID_534,Product C,Female,Location 157,Region 5,15300,28/11/2016,1000,45,365,2050,3612,15617,Finished Payment\\n535,LoanID_535,Product E,NotSpecified,Location 84,Region 3,54325,20/03/2020,8000,120,365,14851,17367,54642,Finished Payment\\n536,LoanID_536,Product B,NotSpecified,Location 3,Region 3,16300,01/03/2019,2200,45,365,3231,4623,16617,Finished Payment\\n537,LoanID_537,Product A,Male,Location 648,Region 7,21950,09/08/2019,5000,55,365,5750,7642,22267,Finished Payment\\n538,LoanID_538,Product C,Male,Location 144,Region 9,15300,28/05/2016,1000,45,365,2050,3542,15617,Finished Payment\\n539,LoanID_539,Product D,NotSpecified,Location 30,Region 8,19950,09/08/2017,2200,55,365,4101,6393,20267,\\n540,LoanID_540,Product D,Male,Location 37,Region 3,19950,10/12/2017,2200,55,365,6250,8042,20267,Finished Payment\\n541,LoanID_541,Product C,Male,Location 50,Region 6,15300,13/01/2017,1000,45,365,2870,5162,15617,Finished Payment\\n542,LoanID_542,Product B,Male,Location 19,Region 4,16300,16/05/2019,2200,45,365,3251,4443,16617,Finished Payment\\n543,LoanID_543,Product B,Male,Location 10,Region 6,16300,11/12/2018,2200,45,365,3350,4842,16617,\\n544,LoanID_544,Product B,Female,Location 146,Region 3,16300,07/02/2018,2200,45,365,3251,4743,16617,Finished Payment\\n545,LoanID_545,Product A,Male,Location 2,Region 1,21950,28/05/2019,5000,55,365,5350,7292,22267,Finished Payment\\n546,LoanID_546,Product C,Male,Location 40,Region 1,15300,19/04/2017,1000,45,365,3250,3542,15617,Finished Payment\\n547,LoanID_547,Product A,NotSpecified,Location 34,Region 7,21950,27/06/2019,5000,55,365,6150,8142,22267,Finished Payment\\n548,LoanID_548,Product D,Female,Location 78,Region 2,19950,22/08/2017,2200,55,365,3600,5182,20267,Finished Payment\\n549,LoanID_549,Product C,NotSpecified,Location 53,Region 6,15300,30/12/2016,1000,45,365,2050,3492,15617,Finished Payment\\n550,LoanID_550,Product B,Male,Location 30,Region 2,16300,08/02/2019,2200,45,365,4331,5623,16617,Finished Payment\\n551,LoanID_551,Product A,NotSpecified,Location 89,Region 4,21950,06/08/2019,5000,55,365,6350,11642,22267,Finished Payment\\n552,LoanID_552,Product A,Male,Location 165,Region 6,21950,28/07/2019,5000,55,365,5950,7242,22267,Finished Payment\\n553,LoanID_553,Product D,Female,Location 22,Region 3,19950,15/08/2017,2200,55,365,5351,7343,20267,Finished Payment\\n554,LoanID_554,Product B,Male,Location 651,Region 7,16300,03/04/2019,2200,45,365,3551,5343,16617,Finished Payment\\n555,LoanID_555,Product D,Male,Location 20,Region 3,19950,07/06/2017,2200,55,365,4250,5542,20267,Finished Payment\\n556,LoanID_556,Product A,Male,Location 19,Region 3,21950,02/07/2019,5000,55,365,9250,9542,22267,Finished Payment\\n557,LoanID_557,Product D,Female,Location 13,Region 17,19950,18/10/2017,2200,55,365,4351,7143,20267,Finished Payment\\n558,LoanID_558,Product D,Male,Location 13,Region 2,19950,26/11/2017,2200,55,365,6101,7643,20267,Finished Payment\\n559,LoanID_559,Product B,NotSpecified,Location 266,Region 1,16300,06/01/2019,2200,45,365,5330,9902,16617,Finished Payment\\n560,LoanID_560,Product C,Female,Location 266,Region 1,15300,19/03/2017,1000,45,365,10510,10802,15617,Finished Payment\\n561,LoanID_561,Product B,Male,Location 39,Region 6,16300,25/01/2019,2200,45,365,6750,7742,16617,Finished Payment\\n562,LoanID_562,Product C,Male,Location 88,Region 6,15300,18/04/2017,1000,45,365,2250,3742,15617,Finished Payment\\n563,LoanID_563,Product B,Female,Location 77,Region 3,16300,16/10/2018,2200,45,365,3250,4742,16617,Finished Payment\\n564,LoanID_564,Product B,NotSpecified,Location 200,Region 3,16300,12/05/2018,2200,45,365,3351,4743,16617,Finished Payment\\n565,LoanID_565,Product D,Female,Location 34,Region 6,19950,25/05/2017,2200,55,365,3851,5443,20267,Finished Payment\\n566,LoanID_566,Product B,Female,Location 158,Region 6,16300,18/12/2018,2200,45,365,5051,6343,16617,Finished Payment\\n567,LoanID_567,Product A,Female,Location 20,Region 6,21950,05/06/2019,5000,55,365,5303,7095,22267,Finished Payment\\n568,LoanID_568,Product A,Female,Location 336,Region 14,21950,06/06/2020,5000,55,365,4950,6542,22267,Finished Payment\\n569,LoanID_569,Product E,Male,Location 72,Region 3,54325,29/10/2019,8000,120,365,16601,16893,54642,Finished Payment\\n570,LoanID_570,Product B,Male,Location 463,Region 3,16300,03/07/2018,2200,45,365,2971,4383,16617,Finished Payment\\n571,LoanID_571,Product D,Male,Location 253,Region 1,,15/11/2017,2200,55,365,6181,8603,20267,Finished Payment\\n572,LoanID_572,Product A,Male,Location 5,Region 1,21950,11/06/2019,5000,55,365,5600,6942,22267,Finished Payment\\n573,LoanID_573,Product D,Male,Location 431,Region 2,19950,21/04/2017,2200,55,365,4251,5443,20267,Finished Payment\\n574,LoanID_574,Product C,Male,Location 73,Region 6,15300,13/02/2017,1000,45,365,2350,3642,15617,Finished Payment\\n575,LoanID_575,Product C,Male,Location 64,Region 2,15300,05/03/2017,1000,45,365,4450,7452,15617,Finished Payment\\n576,LoanID_576,Product B,Male,Location 45,Region 1,16300,14/04/2018,2200,45,365,3250,4782,16617,Finished Payment\\n577,LoanID_577,Product D,Female,Location 113,Region 6,19950,08/09/2017,2200,55,365,3600,5392,20267,Finished Payment\\n578,LoanID_578,Product B,Male,Location 39,Region 6,16300,03/10/2018,2200,45,365,2971,4663,16617,Finished Payment\\n579,LoanID_579,Product C,Female,Location 515,Region 6,15300,06/09/2016,1000,45,365,2320,3473,15617,Finished Payment\\n580,LoanID_580,Product D,Male,Location 323,Region 6,19950,20/09/2017,2200,55,365,4100,7392,20267,Finished Payment\\n581,LoanID_581,Product C,Female,Location 22,Region 6,15300,26/08/2016,1000,45,365,3350,5142,15617,Finished Payment\\n582,LoanID_582,Product B,Female,Location 226,Region 6,16300,16/01/2019,2200,45,365,4451,5343,16617,Finished Payment\\n583,LoanID_583,Product A,Female,Location 26,Region 3,21950,19/02/2020,5000,55,365,5250,7192,22267,\\n584,LoanID_584,Product C,Male,Location 26,Region 1,15300,20/01/2017,1000,45,365,2350,4142,15617,Finished Payment\\n585,LoanID_585,Product A,NotSpecified,Location 22,Region 2,21950,04/08/2019,5000,55,365,6300,8492,22267,Finished Payment\\n586,LoanID_586,Product A,Male,Location 94,Region 6,21950,31/01/2020,5000,55,365,6100,7392,22267,Finished Payment\\n587,LoanID_587,Product A,Male,Location 69,Region 3,18950,23/11/2019,1000,55,365,1900,3292,19267,Finished Payment\\n588,LoanID_588,Product C,Female,Location 135,Region 6,15300,02/12/2016,1000,45,365,2390,3682,15617,Finished Payment\\n589,LoanID_589,Product C,Female,Location 233,Region 6,15300,15/03/2016,1000,45,365,2250,3842,15617,Finished Payment\\n590,LoanID_590,Product B,Male,Location 94,Region 6,16300,27/03/2019,2200,45,365,3191,4483,16617,Finished Payment\\n591,LoanID_591,Product A,Male,Location 253,Region 6,18950,05/08/2019,1000,55,365,1100,2392,19267,Finished Payment\\n592,LoanID_592,Product B,Male,Location 140,Region 2,16300,07/05/2018,2200,45,365,3011,4583,16617,Finished Payment\\n593,LoanID_593,Product B,Male,Location 39,Region 2,16300,21/04/2019,2200,45,365,4050,4542,16617,Finished Payment\\n594,LoanID_594,Product D,Male,Location 26,Region 6,19950,23/09/2017,2200,55,365,3600,5392,20267,Finished Payment\\n595,LoanID_595,Product A,Male,Location 515,Region 6,21950,18/10/2019,5000,55,365,5350,7142,22267,Finished Payment\\n596,LoanID_596,Product B,Male,Location 110,Region 1,16300,28/05/2018,2200,45,365,4451,4743,16617,Finished Payment\\n597,LoanID_597,Product A,Female,Location 127,Region 2,18950,10/12/2019,1000,55,365,750,2292,19267,Finished Payment\\n598,LoanID_598,Product C,Male,Location 73,Region 6,15300,30/11/2016,1000,45,365,2000,3552,15617,Finished Payment\\n599,LoanID_599,Product B,Male,Location 95,Region 3,16300,21/08/2018,2200,45,365,4451,7143,16617,Finished Payment\\n600,LoanID_600,Product A,Female,Location 202,Region 7,21950,17/12/2019,5000,55,365,5850,7642,22267,Finished Payment\\n601,LoanID_601,Product D,Male,Location 140,Region 1,19950,16/04/2017,2200,55,365,3451,5243,20267,Finished Payment\\n602,LoanID_602,Product D,Male,Location 634,Region 2,19950,23/12/2017,2200,55,365,8051,9943,20267,Finished Payment\\n603,LoanID_603,Product B,Female,Location 25,Region 2,16300,30/04/2019,2200,45,365,4330,5462,16617,Finished Payment\\n604,LoanID_604,Product A,Female,Location 6,Region 3,18950,13/01/2020,1000,55,365,600,2842,19267,Finished Payment\\n605,LoanID_605,Product D,Male,Location 25,Region 12,19950,14/12/2017,2200,55,365,6351,8143,20267,Finished Payment\\n606,LoanID_606,Product A,Male,Location 53,Region 2,20450,25/09/2019,3000,55,365,1800,3792,20767,Finished Payment\\n607,LoanID_607,Product C,Male,Location 69,Region 3,15300,08/02/2017,1000,45,365,12350,12642,15617,Finished Payment\\n608,LoanID_608,Product C,Male,Location 138,Region 3,15300,12/02/2017,1000,45,365,2170,3462,15617,Finished Payment\\n609,LoanID_609,Product B,Male,Location 86,Region 6,16300,01/02/2018,2200,45,365,3250,4742,16617,Finished Payment\\n610,LoanID_610,Product B,Female,Location 62,Region 3,16300,07/06/2018,2200,45,365,3171,4423,16617,Finished Payment\\n611,LoanID_611,Product D,Male,Location 67,Region 1,19950,30/03/2017,2200,55,365,3351,5143,20267,Finished Payment\\n612,LoanID_612,Product A,Male,Location 6,Region 1,21950,17/07/2019,5000,55,365,6300,7592,22267,Finished Payment\\n613,LoanID_613,Product D,Male,Location 95,Region 8,19950,21/09/2017,2200,55,365,3371,5013,20267,Finished Payment\\n614,LoanID_614,Product A,Male,Location 39,Region 14,18950,18/02/2020,1000,55,365,-900,392,19267,Finished Payment\\n615,LoanID_615,Product C,Male,Location 30,Region 6,15300,02/08/2016,1000,45,365,2010,3642,15617,Finished Payment\\n616,LoanID_616,Product B,Male,Location 30,Region 3,16300,20/05/2019,2200,45,365,3251,5993,16617,Finished Payment\\n617,LoanID_617,Product A,Male,Location 23,Region 3,21950,27/08/2019,5000,55,365,9900,12192,22267,Finished Payment\\n618,LoanID_618,Product B,Male,Location 21,Region 2,16300,04/01/2019,2200,45,365,2930,4442,16617,Finished Payment\\n619,LoanID_619,Product A,Female,Location 217,Region 2,18950,11/02/2020,1000,55,365,600,2392,19267,Finished Payment\\n620,LoanID_620,Product C,Female,Location 84,Region 7,15300,24/08/2016,1000,45,365,3250,3542,15617,Finished Payment\\n621,LoanID_621,Product A,Female,Location 443,Region 6,,07/06/2019,5000,55,365,10350,15642,22267,Finished Payment\\n622,LoanID_622,Product C,Female,Location 195,Region 1,15300,16/12/2016,1000,45,365,3750,4042,15617,Finished Payment\\n623,LoanID_623,Product B,Male,Location 86,Region 6,16300,17/03/2018,2200,45,365,3251,4743,16617,Finished Payment\\n624,LoanID_624,Product C,Male,Location 10,Region 6,15300,12/07/2016,1000,45,365,2350,3632,15617,Finished Payment\\n625,LoanID_625,Product B,Female,Location 113,Region 18,16300,21/03/2018,2200,45,365,3251,5043,16617,Finished Payment\\n626,LoanID_626,Product A,Male,Location 32,Region 3,21950,21/07/2019,5000,55,365,5300,7392,22267,Finished Payment\\n627,LoanID_627,Product A,Female,Location 9,Region 2,21950,05/06/2020,5000,55,365,5600,7392,22267,Finished Payment\\n628,LoanID_628,Product B,NotSpecified,Location 627,Region 2,16300,30/11/2018,2200,45,365,3450,4382,16617,Finished Payment\\n629,LoanID_629,Product C,Male,Location 19,Region 6,15300,27/12/2016,1000,45,365,2050,3542,15617,Finished Payment\\n630,LoanID_630,Product D,Male,Location 11,Region 3,19950,12/10/2017,2200,55,365,3600,5392,20267,Finished Payment\\n631,LoanID_631,Product B,NotSpecified,Location 113,Region 1,16300,14/03/2019,2200,45,365,3451,4723,16617,Finished Payment\\n632,LoanID_632,Product B,Male,Location 113,Region 2,16300,16/04/2019,2200,45,365,4471,4763,16617,Finished Payment\\n633,LoanID_633,Product B,Female,Location 123,Region 6,16300,13/06/2018,2200,45,365,4451,4743,16617,\\n634,LoanID_634,Product A,Male,Location 70,Region 6,21950,20/07/2019,5000,55,365,5350,7142,22267,Finished Payment\\n635,LoanID_635,Product B,Male,Location 158,Region 3,16300,16/04/2019,2200,45,365,3331,5503,16617,Finished Payment\\n636,LoanID_636,Product A,Male,Location 8,Region 2,18950,30/04/2020,1000,55,365,-2100,-208,19267,Finished Payment\\n637,LoanID_637,Product B,Male,Location 23,Region 6,16300,13/04/2018,2200,45,365,3250,5542,16617,Finished Payment\\n638,LoanID_638,Product B,Male,Location 1,Region 7,16300,23/03/2018,2200,45,365,3210,4702,16617,Finished Payment\\n639,LoanID_639,Product C,Female,Location 528,Region 2,15300,05/10/2016,1000,45,365,1790,13582,15617,Finished Payment\\n640,LoanID_640,Product C,Female,Location 44,Region 6,15300,27/09/2016,1000,45,365,2050,3942,15617,Finished Payment\\n641,LoanID_641,Product B,Male,Location 357,Region 2,16300,09/01/2019,2200,45,365,3311,4403,16617,Finished Payment\\n642,LoanID_642,Product B,NotSpecified,Location 187,Region 4,16300,30/01/2019,2200,45,365,4811,5103,16617,Finished Payment\\n643,LoanID_643,Product D,Female,Location 17,Region 1,19950,22/04/2017,2200,55,365,3450,5742,20267,Finished Payment\\n644,LoanID_644,Product D,Male,Location 22,Region 6,19950,15/08/2017,2200,55,365,8601,8893,20267,Finished Payment\\n645,LoanID_645,Product D,Female,Location 46,Region 4,19950,24/08/2017,2200,55,365,3350,6642,20267,Finished Payment\\n646,LoanID_646,Product B,Female,Location 350,Region 6,16300,29/04/2018,2200,45,365,4751,6543,16617,Finished Payment\\n647,LoanID_647,Product D,Male,Location 45,Region 1,19950,03/05/2017,2200,55,365,4251,5743,20267,Finished Payment\\n648,LoanID_648,Product B,Male,Location 111,Region 15,16300,26/02/2018,2200,45,365,3051,4583,16617,Finished Payment\\n649,LoanID_649,Product D,Male,Location 27,Region 7,19950,20/06/2017,2200,55,365,3350,5242,20267,Finished Payment\\n650,LoanID_650,Product B,Female,Location 59,Region 2,16300,28/06/2018,2200,45,365,3251,5343,16617,Finished Payment\\n651,LoanID_651,Product B,Female,Location 2,Region 3,16300,30/03/2019,2200,45,365,3051,4463,16617,Finished Payment\\n652,LoanID_652,Product C,Female,Location 9,Region 2,15300,14/03/2017,1000,45,365,2050,3472,15617,Finished Payment\\n653,LoanID_653,Product B,Female,Location 22,Region 6,16300,19/01/2019,2200,45,365,3150,4422,16617,Finished Payment\\n654,LoanID_654,Product D,Male,Location 6,Region 2,19950,07/12/2017,2200,55,365,8351,8643,20267,Finished Payment\\n655,LoanID_655,Product B,Male,Location 59,Region 2,16300,24/11/2018,2200,45,365,3130,4662,16617,Finished Payment\\n656,LoanID_656,Product B,Male,Location 44,Region 3,16300,15/02/2019,2200,45,365,3251,7543,16617,Finished Payment\\n657,LoanID_657,Product A,Male,Location 91,Region 1,21950,26/07/2019,5000,55,365,7100,8892,22267,Finished Payment\\n658,LoanID_658,Product D,Female,Location 11,Region 1,19950,11/04/2017,2200,55,365,3351,5143,20267,Finished Payment\\n659,LoanID_659,Product B,Male,Location 188,Region 4,16300,07/04/2018,2200,45,365,3510,6902,16617,Finished Payment\\n660,LoanID_660,Product B,Male,Location 58,Region 2,17300,27/03/2019,2200,45,365,2951,4438,16617,Finished Payment\\n661,LoanID_661,Product B,Male,Location 315,Region 1,17300,02/06/2018,2200,45,365,3851,6543,16617,Finished Payment\\n662,LoanID_662,Product D,Male,Location 70,Region 3,20950,29/08/2017,2200,55,365,3200,5092,20267,Finished Payment\\n663,LoanID_663,Product B,NotSpecified,Location 112,Region 1,17300,28/08/2018,2200,45,365,4330,4622,16617,Finished Payment\\n664,LoanID_664,Product C,Female,Location 302,Region 6,16300,08/11/2016,1000,45,365,2520,4492,15617,Finished Payment\\n665,LoanID_665,Product A,Female,Location 25,Region 6,22950,20/08/2019,5000,55,365,9150,11642,22267,Finished Payment\\n666,LoanID_666,Product C,Male,Location 61,Region 16,16300,23/07/2016,1000,45,365,2350,3722,15617,Finished Payment\\n667,LoanID_667,Product C,Male,Location 49,Region 6,16300,30/12/2016,1000,45,365,3280,3572,15617,Finished Payment\\n668,LoanID_668,Product A,Male,Location 194,Region 1,22950,24/11/2019,5000,55,365,6050,6892,22267,Finished Payment\\n669,LoanID_669,Product B,Male,Location 9,Region 6,17300,10/05/2018,2200,45,365,4451,4743,16617,Finished Payment\\n670,LoanID_670,Product C,Male,Location 97,Region 3,16300,17/12/2016,1000,45,365,2050,3502,15617,Finished Payment\\n671,LoanID_671,Product B,Female,Location 23,Region 1,17300,22/04/2018,2200,45,365,4451,5243,16617,Finished Payment\\n672,LoanID_672,Product B,Male,Location 332,Region 6,17300,08/08/2018,2200,45,365,3331,4823,16617,Finished Payment\\n673,LoanID_673,Product B,NotSpecified,Location 579,Region 3,17300,22/12/2018,2200,45,365,3471,4943,16617,\\n674,LoanID_674,Product B,NotSpecified,Location 192,Region 3,17300,18/03/2019,2200,45,365,2851,3583,16617,Finished Payment\\n675,LoanID_675,Product B,Female,Location 38,Region 6,17300,19/03/2019,2200,45,365,3250,5342,16617,Finished Payment\\n676,LoanID_676,Product D,Male,Location 47,Region 5,20950,01/06/2017,2200,55,365,3851,5143,20267,Finished Payment\\n677,LoanID_677,Product C,Female,Location 149,Region 2,16300,05/09/2016,1000,45,365,2050,4742,15617,Finished Payment\\n678,LoanID_678,Product B,Male,Location 208,Region 6,17300,09/09/2018,2200,45,365,4251,5743,16617,Finished Payment\\n679,LoanID_679,Product B,Male,Location 179,Region 6,17300,22/11/2018,2200,45,365,7801,8093,16617,Finished Payment\\n680,LoanID_680,Product C,Female,Location 199,Region 8,16300,25/05/2016,1000,45,365,2050,3577,15617,Finished Payment\\n681,LoanID_681,Product A,Male,Location 53,Region 7,,27/04/2020,5000,55,365,5200,6992,22267,Finished Payment\\n682,LoanID_682,Product A,Male,Location 25,Region 4,19950,10/08/2019,1000,55,365,650,1592,19267,Finished Payment\\n683,LoanID_683,Product A,NotSpecified,Location 2,Region 6,22950,09/11/2019,5000,55,365,9850,10142,22267,Finished Payment\\n684,LoanID_684,Product B,NotSpecified,Location 201,Region 12,17300,17/06/2018,2200,45,365,9051,9343,16617,Finished Payment\\n685,LoanID_685,Product B,Male,Location 174,Region 6,17300,16/08/2018,2200,45,365,3251,5013,16617,Finished Payment\\n686,LoanID_686,Product B,NotSpecified,Location 52,Region 7,17300,04/12/2018,2200,45,365,4451,4743,16617,Finished Payment\\n687,LoanID_687,Product A,Male,Location 87,Region 3,22950,23/08/2019,5000,55,365,5350,7642,22267,Finished Payment\\n688,LoanID_688,Product A,Male,Location 87,Region 6,22950,30/08/2019,5000,55,365,6350,7642,22267,Finished Payment\\n689,LoanID_689,Product C,Male,Location 38,Region 6,16300,13/01/2017,1000,45,365,2050,3912,15617,Finished Payment\\n690,LoanID_690,Product B,NotSpecified,Location 30,Region 2,17300,27/10/2018,2200,45,365,2970,4456,16617,Finished Payment\\n691,LoanID_691,Product C,Male,Location 62,Region 7,16300,16/12/2016,1000,45,365,2050,3462,15617,Finished Payment\\n692,LoanID_692,Product C,Male,Location 46,Region 4,16300,28/10/2016,1000,45,365,2730,4022,15617,Finished Payment\\n693,LoanID_693,Product A,Male,Location 474,Region 3,22950,19/07/2019,5000,55,365,8810,13092,22267,Finished Payment\\n694,LoanID_694,Product B,Male,Location 192,Region 3,17300,04/08/2018,2200,45,365,3291,4743,16617,Finished Payment\\n695,LoanID_695,Product B,Female,Location 25,Region 4,17300,18/03/2018,2200,45,365,3250,4742,16617,Finished Payment\\n696,LoanID_696,Product B,Male,Location 30,Region 5,17300,23/03/2018,2200,45,365,3291,4803,16617,Finished Payment\\n697,LoanID_697,Product C,Male,Location 184,Region 6,16300,30/09/2016,1000,45,365,2050,3842,15617,Finished Payment\\n698,LoanID_698,Product B,NotSpecified,Location 61,Region 7,17300,28/04/2018,2200,45,365,3250,4742,16617,Finished Payment\\n699,LoanID_699,Product C,Female,Location 47,Region 3,16300,29/12/2016,1000,45,365,1930,3982,15617,Finished Payment\\n700,LoanID_700,Product D,Female,Location 21,Region 3,20950,31/03/2017,2200,55,365,4850,6142,20267,Finished Payment\\n701,LoanID_701,Product B,Male,Location 13,Region 2,17300,17/06/2018,2200,45,365,2970,4392,16617,Finished Payment\\n702,LoanID_702,Product C,Male,Location 3,Region 1,16300,11/03/2017,1000,45,365,1850,3482,15617,Finished Payment\\n703,LoanID_703,Product B,Male,Location 70,Region 2,17300,10/02/2019,2200,45,365,3251,5143,16617,Finished Payment\\n704,LoanID_704,Product A,Male,Location 350,Region 2,22950,10/08/2019,5000,55,365,6800,7492,22267,Finished Payment\\n705,LoanID_705,Product D,NotSpecified,Location 61,Region 6,20950,10/06/2017,2200,55,365,5851,8143,20267,Finished Payment\\n706,LoanID_706,Product B,Male,Location 25,Region 3,17300,14/12/2018,2200,45,365,3251,5973,16617,Finished Payment\\n707,LoanID_707,Product B,Female,Location 19,Region 4,17300,24/04/2019,2200,45,365,2731,3543,16617,Finished Payment\\n708,LoanID_708,Product B,Male,Location 350,Region 6,17300,07/09/2018,2200,45,365,3251,4743,16617,Finished Payment\\n709,LoanID_709,Product C,Male,Location 58,Region 2,16300,22/12/2016,1000,45,365,2530,3822,15617,Finished Payment\\n710,LoanID_710,Product D,Male,Location 3,Region 2,20950,12/07/2017,2200,55,365,3451,4993,20267,Finished Payment\\n711,LoanID_711,Product D,Female,Location 63,Region 10,20950,26/10/2017,2200,55,365,4151,5343,20267,Finished Payment\\n712,LoanID_712,Product B,Male,Location 39,Region 5,17300,25/05/2018,2200,45,365,3891,5433,16617,Finished Payment\\n713,LoanID_713,Product A,Female,Location 512,Region 4,22950,21/02/2020,5000,55,365,5600,7592,22267,Finished Payment\\n714,LoanID_714,Product A,Female,Location 336,Region 6,22950,15/01/2020,5000,55,365,10350,10642,22267,Finished Payment\\n715,LoanID_715,Product C,Male,Location 403,Region 6,16300,06/05/2017,1000,45,365,7590,7882,15617,Finished Payment\\n716,LoanID_716,Product C,Male,Location 421,Region 5,16300,04/06/2016,1000,45,365,2330,3822,15617,Finished Payment\\n717,LoanID_717,Product D,Male,Location 10,Region 6,20950,21/09/2017,2200,55,365,3601,5268,20267,Finished Payment\\n718,LoanID_718,Product B,Male,Location 30,Region 6,17300,30/03/2019,2200,45,365,3531,5023,16617,Finished Payment\\n719,LoanID_719,Product A,Male,Location 259,Region 7,22950,11/08/2019,5000,55,365,17500,18392,22267,Finished Payment\\n720,LoanID_720,Product A,Male,Location 350,Region 3,22950,05/10/2019,5000,55,365,5550,7142,22267,Finished Payment\\n721,LoanID_721,Product E,Female,Location 436,Region 3,55325,27/02/2020,8000,120,365,12851,16418,54642,Finished Payment\\n722,LoanID_722,Product A,Female,Location 53,Region 6,22950,19/05/2019,5000,55,365,9350,18392,22267,Finished Payment\\n723,LoanID_723,Product A,Male,Location 2,Region 7,21450,11/09/2019,3000,55,365,6600,6892,20767,Finished Payment\\n724,LoanID_724,Product B,Male,Location 227,Region 4,17300,14/03/2018,2200,45,365,3141,4423,16617,Finished Payment\\n725,LoanID_725,Product C,Female,Location 91,Region 6,16300,19/03/2016,1000,45,365,2370,3662,15617,Finished Payment\\n726,LoanID_726,Product C,Male,Location 17,Region 5,16300,05/06/2016,1000,45,365,2250,3742,15617,Finished Payment\\n727,LoanID_727,Product B,Male,Location 86,Region 6,17300,03/11/2018,2200,45,365,2931,4423,16617,Finished Payment\\n728,LoanID_728,Product B,Male,Location 84,Region 3,17300,10/06/2018,2200,45,365,3250,4742,16617,Finished Payment\\n729,LoanID_729,Product B,Male,Location 17,Region 3,17300,02/04/2019,2200,45,365,3050,4462,16617,Finished Payment\\n730,LoanID_730,Product B,Male,Location 88,Region 6,17300,30/05/2018,2200,45,365,3251,4743,16617,Finished Payment\\n731,LoanID_731,Product D,Male,Location 210,Region 2,,03/05/2017,2200,55,365,3701,5493,20267,Finished Payment\\n732,LoanID_732,Product B,Male,Location 13,Region 6,17300,24/03/2019,2200,45,365,3250,4742,16617,Finished Payment\\n733,LoanID_733,Product D,Female,Location 8,Region 5,20950,18/05/2017,2200,55,365,3701,5943,20267,Finished Payment\\n734,LoanID_734,Product B,Male,Location 73,Region 1,17300,23/04/2019,2200,45,365,3050,4762,16617,Finished Payment\\n735,LoanID_735,Product C,Female,Location 70,Region 6,16300,12/01/2017,1000,45,365,2050,3542,15617,Finished Payment\\n736,LoanID_736,Product B,Female,Location 57,Region 6,17300,27/01/2018,2200,45,365,3150,4342,16617,Finished Payment\\n737,LoanID_737,Product D,Male,Location 468,Region 4,20950,15/12/2017,2200,55,365,6300,7692,20267,Finished Payment\\n738,LoanID_738,Product A,NotSpecified,Location 464,Region 6,22950,25/08/2019,5000,55,365,5450,7542,22267,Finished Payment\\n739,LoanID_739,Product A,Male,Location 12,Region 3,22950,07/07/2019,5000,55,365,9850,10142,22267,Finished Payment\\n740,LoanID_740,Product C,NotSpecified,Location 57,Region 1,16300,22/10/2016,1000,45,365,2210,4002,15617,Finished Payment\\n741,LoanID_741,Product D,Male,Location 26,Region 1,20950,02/07/2017,2200,55,365,3350,5192,20267,Finished Payment\\n742,LoanID_742,Product D,Male,Location 39,Region 6,20950,21/12/2017,2200,55,365,6301,7593,20267,Finished Payment\\n743,LoanID_743,Product C,Male,Location 49,Region 4,16300,09/12/2016,1000,45,365,3350,3642,15617,Finished Payment\\n744,LoanID_744,Product D,Male,Location 38,Region 3,20950,24/08/2017,2200,55,365,3601,5893,20267,Finished Payment\\n745,LoanID_745,Product B,Male,Location 49,Region 6,17300,30/06/2018,2200,45,365,7751,8043,16617,Finished Payment\\n746,LoanID_746,Product C,Male,Location 19,Region 6,16300,09/02/2017,1000,45,365,2250,4042,15617,Finished Payment\\n747,LoanID_747,Product A,Female,Location 22,Region 3,22950,14/06/2019,5000,55,365,5600,7142,22267,Finished Payment\\n748,LoanID_748,Product A,Female,Location 46,Region 2,21450,20/09/2019,3000,55,365,3100,4392,20767,Finished Payment\\n749,LoanID_749,Product D,Male,Location 26,Region 1,20950,08/07/2017,2200,55,365,3850,5142,20267,Finished Payment\\n750,LoanID_750,Product B,Male,Location 19,Region 6,17300,17/04/2019,2200,45,365,4851,5143,16617,Finished Payment\\n751,LoanID_751,Product D,Female,Location 11,Region 2,20950,16/11/2017,2200,55,365,6301,8043,20267,Finished Payment\\n752,LoanID_752,Product C,Female,Location 23,Region 6,16300,24/02/2017,1000,45,365,3050,3782,15617,Finished Payment\\n753,LoanID_753,Product C,Female,Location 22,Region 1,16300,26/02/2017,1000,45,365,2910,4202,15617,\\n754,LoanID_754,Product A,Male,Location 350,Region 6,22950,15/10/2019,5000,55,365,5500,7692,22267,Finished Payment\\n755,LoanID_755,Product A,Male,Location 23,Region 2,22950,07/03/2020,5000,55,365,5100,6792,22267,Finished Payment\\n756,LoanID_756,Product B,Male,Location 3,Region 4,17300,08/08/2018,2200,45,365,4051,5543,16617,Finished Payment\\n757,LoanID_757,Product B,Male,Location 47,Region 6,17300,02/02/2019,2200,45,365,3300,4172,16617,Finished Payment\\n758,LoanID_758,Product A,Male,Location 98,Region 6,22950,26/07/2019,5000,55,365,5350,7042,22267,Finished Payment\\n759,LoanID_759,Product B,Male,Location 63,Region 6,17300,27/03/2019,2200,45,365,3251,4568,16617,Finished Payment\\n760,LoanID_760,Product B,Male,Location 102,Region 4,17300,27/07/2018,2200,45,365,2971,4383,16617,Finished Payment\\n761,LoanID_761,Product B,Female,Location 26,Region 7,17300,27/06/2018,2200,45,365,4450,5942,16617,Finished Payment\\n762,LoanID_762,Product A,Male,Location 325,Region 6,19950,18/03/2020,1000,55,365,-1900,-108,19267,Finished Payment\\n763,LoanID_763,Product B,Female,Location 41,Region 3,17300,21/10/2018,2200,45,365,3171,4703,16617,Finished Payment\\n764,LoanID_764,Product A,NotSpecified,Location 267,Region 3,22950,08/06/2019,5000,55,365,5300,6992,22267,Finished Payment\\n765,LoanID_765,Product A,Male,Location 3,Region 6,22950,03/06/2019,5000,55,365,6850,12142,22267,Finished Payment\\n766,LoanID_766,Product D,Male,Location 151,Region 1,20950,24/10/2017,2200,55,365,3600,5542,20267,Finished Payment\\n767,LoanID_767,Product B,Male,Location 88,Region 2,17300,21/12/2018,2200,45,365,5071,6363,16617,Finished Payment\\n768,LoanID_768,Product A,Female,Location 173,Region 6,22950,20/09/2019,5000,55,365,5600,7492,22267,Finished Payment\\n769,LoanID_769,Product D,NotSpecified,Location 40,Region 6,20950,12/04/2017,2200,55,365,3651,5043,20267,Finished Payment\\n770,LoanID_770,Product A,Male,Location 34,Region 6,22950,23/07/2019,5000,55,365,13750,14042,22267,Finished Payment\\n771,LoanID_771,Product B,Female,Location 617,Region 3,,15/05/2019,2200,45,365,3790,5082,16617,Finished Payment\\n772,LoanID_772,Product B,Male,Location 35,Region 6,17300,10/04/2018,2200,45,365,3250,4742,16617,Finished Payment\\n773,LoanID_773,Product A,Male,Location 25,Region 6,22950,22/05/2020,5000,55,365,6850,10142,22267,Finished Payment\\n774,LoanID_774,Product A,Female,Location 135,Region 6,22950,21/06/2019,5000,55,365,6850,8642,22267,Finished Payment\\n775,LoanID_775,Product B,Male,Location 49,Region 4,17300,04/09/2018,2200,45,365,3410,4902,16617,Finished Payment\\n776,LoanID_776,Product D,Male,Location 53,Region 6,20950,10/06/2017,2200,55,365,3200,5842,20267,Finished Payment\\n777,LoanID_777,Product B,Female,Location 86,Region 6,17300,01/05/2019,2200,45,365,4051,6743,16617,Finished Payment\\n778,LoanID_778,Product C,Male,Location 70,Region 6,16300,30/12/2016,1000,45,365,2880,5172,15617,Finished Payment\\n779,LoanID_779,Product B,Male,Location 141,Region 2,17300,28/12/2018,2200,45,365,3090,4862,16617,Finished Payment\\n780,LoanID_780,Product B,Male,Location 39,Region 3,17300,18/08/2018,2200,45,365,3250,4942,16617,Finished Payment\\n781,LoanID_781,Product A,Female,Location 30,Region 1,21450,23/09/2019,3000,55,365,3100,4892,20767,Finished Payment\\n782,LoanID_782,Product D,Male,Location 61,Region 3,20950,11/01/2018,2200,55,365,6351,7843,20267,Finished Payment\\n783,LoanID_783,Product C,Female,Location 23,Region 1,16300,13/08/2016,1000,45,365,2450,3542,15617,Finished Payment\\n784,LoanID_784,Product A,Female,Location 144,Region 6,22950,31/05/2019,5000,55,365,5350,7142,22267,Finished Payment\\n785,LoanID_785,Product B,Female,Location 4,Region 6,17300,01/02/2019,2200,45,365,3251,4743,16617,Finished Payment\\n786,LoanID_786,Product C,Female,Location 23,Region 3,16300,18/02/2017,1000,45,365,1850,3542,15617,Finished Payment\\n787,LoanID_787,Product B,Male,Location 3,Region 2,17300,10/04/2019,2200,45,365,2981,4723,16617,Finished Payment\\n788,LoanID_788,Product D,Male,Location 27,Region 1,20950,14/06/2017,2200,55,365,3300,5292,20267,Finished Payment\\n789,LoanID_789,Product B,Female,Location 38,Region 3,17300,14/01/2019,2200,45,365,3451,5443,16617,Finished Payment\\n790,LoanID_790,Product B,NotSpecified,Location 421,Region 2,17300,19/01/2019,2200,45,365,2951,4393,16617,Finished Payment\\n791,LoanID_791,Product C,Male,Location 300,Region 6,16300,06/09/2016,1000,45,365,3526,4978,15617,Finished Payment\\n792,LoanID_792,Product C,Male,Location 142,Region 1,16300,28/09/2016,1000,45,365,2130,3542,15617,Finished Payment\\n793,LoanID_793,Product A,Male,Location 11,Region 6,22950,01/09/2019,5000,55,365,5250,6892,22267,Finished Payment\\n794,LoanID_794,Product D,Female,Location 79,Region 1,20950,01/05/2017,2200,55,365,4351,5743,20267,Finished Payment\\n795,LoanID_795,Product B,Female,Location 46,Region 3,17300,17/03/2019,2200,45,365,3251,4743,16617,Finished Payment\\n796,LoanID_796,Product C,NotSpecified,Location 216,Region 6,16300,14/03/2017,1000,45,365,2050,4742,15617,Finished Payment\\n797,LoanID_797,Product B,Male,Location 84,Region 6,17300,23/04/2019,2200,45,365,3550,5842,16617,Finished Payment\\n798,LoanID_798,Product B,Female,Location 67,Region 2,17300,30/04/2019,2200,45,365,6251,8543,16617,Finished Payment\\n799,LoanID_799,Product D,Male,Location 282,Region 6,20950,15/11/2017,2200,55,365,6551,7743,20267,Finished Payment\\n800,LoanID_800,Product B,Male,Location 127,Region 6,17300,24/05/2018,2200,45,365,3481,4893,16617,Finished Payment\\n801,LoanID_801,Product A,Male,Location 140,Region 3,19950,07/01/2020,1000,55,365,1100,2792,19267,Finished Payment\\n802,LoanID_802,Product D,Male,Location 53,Region 6,20950,02/04/2017,2200,55,365,4851,8143,20267,Finished Payment\\n803,LoanID_803,Product A,Male,Location 58,Region 6,22950,14/07/2019,5000,55,365,5300,6892,22267,Finished Payment\\n804,LoanID_804,Product B,Female,Location 84,Region 3,17300,08/10/2018,2200,45,365,3351,4843,16617,Finished Payment\\n805,LoanID_805,Product A,Male,Location 25,Region 6,20950,02/08/2017,2200,55,365,4211,5503,20267,Finished Payment\\n806,LoanID_806,Product D,Male,Location 506,Region 6,22950,15/08/2019,5000,55,365,5350,5642,22267,Finished Payment\\n807,LoanID_807,Product B,Male,Location 18,Region 6,17300,31/03/2018,2200,45,365,3250,5542,16617,Finished Payment\\n808,LoanID_808,Product A,Male,Location 647,Region 3,17300,28/01/2018,2200,45,365,10051,11343,16617,Finished Payment\\n809,LoanID_809,Product A,Male,Location 153,Region 4,17300,02/03/2019,2200,45,365,3251,4743,16617,Finished Payment\\n810,LoanID_810,Product B,Female,Location 4,Region 1,16300,04/12/2016,1000,45,365,3350,4542,15617,Finished Payment\\n811,LoanID_811,Product B,NotSpecified,Location 6,Region 3,17300,06/10/2018,2200,45,365,8050,13342,16617,Finished Payment\\n812,LoanID_812,Product A,Male,Location 32,Region 12,17300,25/01/2018,2200,45,365,2930,4742,16617,Finished Payment\\n813,LoanID_813,Product A,Male,Location 266,Region 1,20950,26/10/2017,2200,55,365,4000,5392,20267,Finished Payment\\n814,LoanID_814,Product A,Male,Location 402,Region 17,20950,18/07/2017,2200,55,365,4601,7993,20267,Finished Payment\\n815,LoanID_815,Product B,Female,Location 266,Region 3,17300,19/01/2019,2200,45,365,3061,5323,16617,Finished Payment\\n816,LoanID_816,Product E,Male,Location 26,Region 2,16300,01/03/2017,1000,45,365,2850,4342,15617,Finished Payment\\n817,LoanID_817,Product B,Male,Location 48,Region 13,14475,28/04/2018,1000,30,365,2125,3417,13792,Finished Payment\\n818,LoanID_818,Product A,Female,Location 315,Region 1,16300,11/02/2017,1000,45,365,2050,3542,15617,Finished Payment\\n819,LoanID_819,Product B,NotSpecified,Location 47,Region 4,20950,23/03/2017,2200,55,365,3350,5142,20267,Finished Payment\\n820,LoanID_820,Product D,Male,Location 25,Region 1,17300,09/04/2018,2200,45,365,3151,4883,16617,Finished Payment\\n821,LoanID_821,Product A,Female,Location 27,Region 6,,23/06/2017,2200,55,365,3400,5492,20267,Finished Payment\\n822,LoanID_822,Product C,Male,Location 3,Region 7,22950,04/08/2019,5000,55,365,5250,7042,22267,Finished Payment\\n823,LoanID_823,Product D,Male,Location 26,Region 6,17300,17/05/2019,2200,45,365,3251,4513,16617,\\n824,LoanID_824,Product B,Male,Location 39,Region 1,20950,22/04/2017,2200,55,365,3400,5192,20267,\\n825,LoanID_825,Product E,Male,Location 3,Region 6,16300,26/01/2017,1000,45,365,2050,3542,15617,Finished Payment\\n826,LoanID_826,Product B,Male,Location 38,Region 6,16300,25/12/2016,1000,45,365,3290,3582,15617,Finished Payment\\n827,LoanID_827,Product B,NotSpecified,Location 67,Region 6,22950,23/05/2019,5000,55,365,5350,7242,22267,Finished Payment\\n828,LoanID_828,Product A,Male,Location 41,Region 3,22950,15/12/2019,5000,55,365,5450,6742,22267,Finished Payment\\n829,LoanID_829,Product A,Male,Location 46,Region 2,17300,26/07/2018,2200,45,365,4270,5822,16617,Finished Payment\\n830,LoanID_830,Product A,Male,Location 144,Region 3,17300,10/02/2019,2200,45,365,3791,4523,16617,Finished Payment\\n831,LoanID_831,Product A,Male,Location 239,Region 3,20950,17/10/2017,2200,55,365,3601,6393,20267,Finished Payment\\n832,LoanID_832,Product A,Male,Location 418,Region 1,20950,10/09/2017,2200,55,365,12601,15893,20267,Finished Payment\\n833,LoanID_833,Product C,Female,Location 11,Region 7,17300,04/02/2019,2200,45,365,3251,4743,16617,Finished Payment\\n834,LoanID_834,Product A,Male,Location 3,Region 2,17300,03/01/2019,2200,45,365,9051,9343,16617,\\n835,LoanID_835,Product C,NotSpecified,Location 25,Region 6,22950,04/09/2019,5000,55,365,6470,8362,22267,Finished Payment\\n836,LoanID_836,Product B,Female,Location 37,Region 6,16300,12/01/2017,1000,45,365,1950,3442,15617,Finished Payment\\n837,LoanID_837,Product A,Male,Location 13,Region 6,22950,10/06/2020,5000,55,365,6100,7192,22267,Finished Payment\\n838,LoanID_838,Product A,NotSpecified,Location 30,Region 4,17300,15/04/2018,2200,45,365,3551,5343,16617,Finished Payment\\n839,LoanID_839,Product B,Male,Location 8,Region 6,16300,11/02/2017,1000,45,365,2570,3822,15617,Finished Payment\\n840,LoanID_840,Product A,Female,Location 26,Region 6,20950,17/05/2017,2200,55,365,3350,5142,20267,Finished Payment\\n841,LoanID_841,Product A,Female,Location 18,Region 2,,16/06/2018,2200,45,365,3451,4743,16617,Finished Payment\\n842,LoanID_842,Product B,Male,Location 9,Region 1,17300,29/04/2018,2200,45,365,3251,4743,16617,Finished Payment\\n843,LoanID_843,Product B,Male,Location 54,Region 3,20950,20/12/2017,2200,55,365,6351,8143,20267,Finished Payment\\n844,LoanID_844,Product B,Male,Location 468,Region 9,20950,10/09/2017,2200,55,365,4051,5193,20267,Finished Payment\\n845,LoanID_845,Product A,Male,Location 50,Region 1,20950,06/05/2017,2200,55,365,4451,5543,20267,Finished Payment\\n846,LoanID_846,Product A,Male,Location 73,Region 6,17300,14/01/2019,2200,45,365,3601,4693,16617,Finished Payment\\n847,LoanID_847,Product B,Male,Location 34,Region 6,19950,05/10/2019,1000,55,365,50,842,19267,Finished Payment\\n848,LoanID_848,Product B,Male,Location 40,Region 2,16300,05/08/2016,1000,45,365,2850,4142,15617,Finished Payment\\n849,LoanID_849,Product A,Male,Location 30,Region 1,16300,17/06/2016,1000,45,365,5650,5942,15617,Finished Payment\\n850,LoanID_850,Product A,Male,Location 28,Region 6,16300,14/08/2016,1000,45,365,1850,4092,15617,Finished Payment\\n851,LoanID_851,Product B,Female,Location 137,Region 6,17300,06/02/2019,2200,45,365,2461,3713,16617,Finished Payment\\n852,LoanID_852,Product D,Male,Location 44,Region 6,20950,11/04/2017,2200,55,365,6351,6643,20267,Finished Payment\\n853,LoanID_853,Product A,Male,Location 91,Region 6,22950,30/05/2019,5000,55,365,5550,7342,22267,Finished Payment\\n854,LoanID_854,Product C,Female,Location 73,Region 2,20950,13/09/2017,2200,55,365,3600,5392,20267,Finished Payment\\n855,LoanID_855,Product B,Female,Location 74,Region 6,16300,17/01/2017,1000,45,365,2020,3712,15617,Finished Payment\\n856,LoanID_856,Product B,NotSpecified,Location 477,Region 6,16300,23/12/2016,1000,45,365,2650,3742,15617,Finished Payment\\n857,LoanID_857,Product E,Male,Location 586,Region 6,22950,27/08/2019,5000,55,365,5350,7142,22267,Finished Payment\\n858,LoanID_858,Product A,Male,Location 186,Region 2,16300,16/12/2016,1000,45,365,1970,3422,15617,Finished Payment\\n859,LoanID_859,Product B,Male,Location 472,Region 6,17300,23/10/2018,2200,45,365,3251,4743,16617,Finished Payment\\n860,LoanID_860,Product B,Male,Location 374,Region 6,17300,08/04/2018,2200,45,365,3250,13942,16617,Finished Payment\\n861,LoanID_861,Product A,Female,Location 75,Region 6,22950,21/11/2019,5000,55,365,9830,10922,22267,Finished Payment\\n862,LoanID_862,Product A,Male,Location 19,Region 4,22950,16/10/2019,5000,55,365,6100,7392,22267,Finished Payment\\n863,LoanID_863,Product B,Male,Location 87,Region 6,17300,07/03/2019,2200,45,365,3250,4742,16617,Finished Payment\\n864,LoanID_864,Product A,Female,Location 13,Region 4,22950,04/03/2020,5000,55,365,13350,13642,22267,Finished Payment\\n865,LoanID_865,Product B,Male,Location 17,Region 3,17300,03/04/2019,2200,45,365,3491,4503,16617,Finished Payment\\n866,LoanID_866,Product B,Male,Location 458,Region 2,17300,14/05/2019,2200,45,365,3531,5503,16617,Finished Payment\\n867,LoanID_867,Product D,Male,Location 180,Region 1,20950,24/06/2017,2200,55,365,3250,5142,20267,Finished Payment\\n868,LoanID_868,Product B,Male,Location 23,Region 2,17300,18/05/2018,2200,45,365,3211,4743,16617,Finished Payment\\n869,LoanID_869,Product A,Male,Location 8,Region 4,22950,22/04/2020,5000,55,365,6850,8592,22267,Finished Payment\\n870,LoanID_870,Product B,Female,Location 160,Region 6,17300,13/11/2018,2200,45,365,3551,6843,16617,Finished Payment\\n871,LoanID_871,Product A,Male,Location 547,Region 3,22950,27/07/2019,5000,55,365,5350,7042,22267,Finished Payment\\n872,LoanID_872,Product C,Male,Location 11,Region 2,16300,06/08/2016,1000,45,365,2170,4022,15617,Finished Payment\\n873,LoanID_873,Product B,Female,Location 61,Region 2,17300,15/02/2019,2200,45,365,4750,5042,16617,Finished Payment\\n874,LoanID_874,Product B,Female,Location 25,Region 3,17300,22/11/2018,2200,45,365,3850,5142,16617,Finished Payment\\n875,LoanID_875,Product B,Female,Location 149,Region 6,17300,09/10/2018,2200,45,365,3251,4743,16617,Finished Payment\\n876,LoanID_876,Product C,Male,Location 653,Region 8,16300,01/03/2017,1000,45,365,2100,3442,15617,Finished Payment\\n877,LoanID_877,Product D,NotSpecified,Location 91,Region 2,20950,28/11/2017,2200,55,365,9751,10043,20267,Finished Payment\\n878,LoanID_878,Product A,Female,Location 30,Region 2,22950,31/10/2019,5000,55,365,5250,6942,22267,Finished Payment\\n879,LoanID_879,Product C,Male,Location 26,Region 2,16300,08/07/2016,1000,45,365,4650,4942,15617,Finished Payment\\n880,LoanID_880,Product B,Female,Location 203,Region 3,17300,31/01/2019,2200,45,365,4211,5121,16617,Finished Payment\\n881,LoanID_881,Product A,Male,Location 73,Region 6,,02/02/2020,5000,55,365,5700,7492,22267,Finished Payment\\n882,LoanID_882,Product B,Male,Location 3,Region 6,17300,14/03/2018,2200,45,365,3890,4782,16617,Finished Payment\\n883,LoanID_883,Product C,Male,Location 16,Region 7,16300,03/01/2017,1000,45,365,2050,3902,15617,Finished Payment\\n884,LoanID_884,Product C,Male,Location 27,Region 5,16300,01/05/2016,1000,45,365,3250,4742,15617,\\n885,LoanID_885,Product B,NotSpecified,Location 1,Region 2,17300,29/09/2018,2200,45,365,3600,4392,16617,Finished Payment\\n886,LoanID_886,Product B,Male,Location 612,Region 2,17300,27/05/2018,2200,45,365,2841,4423,16617,Finished Payment\\n887,LoanID_887,Product D,Male,Location 122,Region 6,20950,14/10/2017,2200,55,365,3601,5393,20267,Finished Payment\\n888,LoanID_888,Product C,Male,Location 44,Region 6,16300,10/12/2016,1000,45,365,2350,3642,15617,Finished Payment\\n889,LoanID_889,Product D,Female,Location 505,Region 2,20950,17/11/2017,2200,55,365,6601,7893,20267,Finished Payment\\n890,LoanID_890,Product B,Male,Location 114,Region 2,17300,29/04/2018,2200,45,365,3050,4542,16617,Finished Payment\\n891,LoanID_891,Product B,Female,Location 111,Region 3,17300,01/01/2019,2200,45,365,4451,4743,16617,Finished Payment\\n892,LoanID_892,Product B,Female,Location 23,Region 2,17300,30/11/2018,2200,45,365,3251,4743,16617,Finished Payment\\n893,LoanID_893,Product A,Male,Location 197,Region 3,22950,23/02/2020,5000,55,365,6850,7142,22267,Finished Payment\\n894,LoanID_894,Product D,Male,Location 631,Region 1,20950,11/10/2017,2200,55,365,3600,5392,20267,Finished Payment\\n895,LoanID_895,Product A,Male,Location 42,Region 2,22950,11/11/2019,5000,55,365,6850,8642,22267,Finished Payment\\n896,LoanID_896,Product B,Male,Location 117,Region 2,17300,10/02/2018,2200,45,365,3250,5942,16617,Finished Payment\\n897,LoanID_897,Product A,Female,Location 58,Region 3,22950,04/07/2019,5000,55,365,5550,7692,22267,Finished Payment\\n898,LoanID_898,Product B,Male,Location 84,Region 3,17300,13/01/2019,2200,45,365,3251,4463,16617,Finished Payment\\n899,LoanID_899,Product A,Female,Location 218,Region 6,22950,29/09/2019,5000,55,365,5200,6992,22267,Finished Payment\\n900,LoanID_900,Product D,Female,Location 299,Region 10,20950,04/11/2017,2200,55,365,7101,7393,20267,Finished Payment\\n901,LoanID_901,Product A,Male,Location 65,Region 6,22950,08/02/2020,5000,55,365,5600,7342,22267,Finished Payment\\n902,LoanID_902,Product A,Male,Location 342,Region 2,22950,31/07/2019,5000,55,365,7100,9392,22267,Finished Payment\\n903,LoanID_903,Product A,Male,Location 46,Region 2,22950,01/09/2019,5000,55,365,5630,7042,22267,Finished Payment\\n904,LoanID_904,Product D,Male,Location 155,Region 6,20950,26/10/2017,2200,55,365,3351,5143,20267,Finished Payment\\n905,LoanID_905,Product A,Male,Location 10,Region 3,19950,07/11/2019,1000,55,365,2000,4392,19267,Finished Payment\\n906,LoanID_906,Product B,NotSpecified,Location 39,Region 6,17300,12/04/2018,2200,45,365,3251,7143,16617,Finished Payment\\n907,LoanID_907,Product B,Male,Location 53,Region 2,17300,17/12/2018,2200,45,365,3250,4742,16617,Finished Payment\\n908,LoanID_908,Product A,Male,Location 9,Region 2,22950,14/07/2019,5000,55,365,8050,9842,22267,Finished Payment\\n909,LoanID_909,Product C,Male,Location 6,Region 2,16300,09/01/2016,1000,45,365,5010,5902,15617,Finished Payment\\n910,LoanID_910,Product A,Female,Location 3,Region 6,22950,26/06/2019,5000,55,365,6750,8542,22267,Finished Payment\\n911,LoanID_911,Product D,Female,Location 135,Region 1,,10/07/2017,2200,55,365,3250,5142,20267,Finished Payment\\n912,LoanID_912,Product C,Male,Location 45,Region 1,16300,24/09/2016,1000,45,365,1930,4102,15617,Finished Payment\\n913,LoanID_913,Product E,Female,Location 10,Region 6,55325,12/02/2020,8000,120,365,18851,22143,54642,Finished Payment\\n914,LoanID_914,Product D,Male,Location 21,Region 5,20950,21/11/2017,2200,55,365,6901,8743,20267,Finished Payment\\n915,LoanID_915,Product C,Female,Location 38,Region 1,16300,16/12/2016,1000,45,365,2050,3542,15617,Finished Payment\\n916,LoanID_916,Product A,Female,Location 511,Region 3,20950,29/07/2020,2200,55,365,1501,3193,20267,Finished Payment\\n917,LoanID_917,Product A,Male,Location 353,Region 2,22950,23/07/2019,5000,55,365,6450,8242,22267,Finished Payment\\n918,LoanID_918,Product B,Female,Location 461,Region 3,17300,30/03/2019,2200,45,365,4051,6343,16617,Finished Payment\\n919,LoanID_919,Product D,Male,Location 34,Region 15,20950,22/09/2017,2200,55,365,3201,5093,20267,Finished Payment\\n920,LoanID_920,Product A,Male,Location 25,Region 1,22950,13/07/2019,5000,55,365,5580,7322,22267,Finished Payment\\n921,LoanID_921,Product C,NotSpecified,Location 11,Region 8,16300,24/02/2016,1000,45,365,2850,4382,15617,Finished Payment\\n922,LoanID_922,Product D,Female,Location 145,Region 1,20950,18/08/2017,2200,55,365,3501,5293,20267,Finished Payment\\n923,LoanID_923,Product B,Male,Location 10,Region 6,17300,23/07/2018,2200,45,365,2870,4302,16617,Finished Payment\\n924,LoanID_924,Product D,Male,Location 6,Region 6,20950,06/12/2017,2200,55,365,5801,7693,20267,Finished Payment\\n925,LoanID_925,Product B,Male,Location 57,Region 3,17300,30/10/2018,2200,45,365,4451,5943,16617,Finished Payment\\n926,LoanID_926,Product C,Male,Location 61,Region 5,16300,25/05/2016,1000,45,365,1975,3667,15617,Finished Payment\\n927,LoanID_927,Product D,Male,Location 25,Region 2,20950,26/11/2017,2200,55,365,11851,12143,20267,Finished Payment\\n928,LoanID_928,Product A,Male,Location 18,Region 3,22950,14/09/2019,5000,55,365,6350,7642,22267,Finished Payment\\n929,LoanID_929,Product B,Female,Location 159,Region 2,17300,18/02/2019,2200,45,365,4051,6743,16617,Finished Payment\\n930,LoanID_930,Product B,Male,Location 82,Region 7,17300,29/03/2019,2200,45,365,4650,4942,16617,Finished Payment\\n931,LoanID_931,Product B,Male,Location 22,Region 4,17300,11/12/2018,2200,45,365,3251,4743,16617,Finished Payment\\n932,LoanID_932,Product D,Male,Location 22,Region 15,20950,26/10/2017,2200,55,365,6101,6393,20267,Finished Payment\\n933,LoanID_933,Product B,NotSpecified,Location 17,Region 6,17300,25/04/2018,2200,45,365,3251,5983,16617,Finished Payment\\n934,LoanID_934,Product D,Male,Location 244,Region 6,20950,16/07/2017,2200,55,365,4280,6122,20267,\\n935,LoanID_935,Product C,Male,Location 218,Region 1,22950,29/04/2020,5000,55,365,5100,7492,22267,Finished Payment\\n936,LoanID_936,Product B,Female,Location 21,Region 3,17300,15/07/2018,2200,45,365,4450,5942,16617,Finished Payment\\n937,LoanID_937,Product B,Male,Location 207,Region 3,22950,07/06/2019,5000,55,365,11830,14122,22267,Finished Payment\\n938,LoanID_938,Product A,Male,Location 94,Region 1,16300,18/11/2016,1000,45,365,2350,3642,15617,Finished Payment\\n939,LoanID_939,Product A,Male,Location 597,Region 7,17300,28/04/2019,2200,45,365,3251,4743,16617,Finished Payment\\n940,LoanID_940,Product A,Female,Location 28,Region 7,19950,09/02/2020,1000,55,365,1250,2692,19267,Finished Payment\\n941,LoanID_941,Product A,Male,Location 6,Region 6,17300,27/05/2018,2200,45,365,3671,5163,16617,Finished Payment\\n942,LoanID_942,Product D,Female,Location 34,Region 9,20950,28/10/2017,2200,55,365,4101,5093,20267,Finished Payment\\n943,LoanID_943,Product D,NotSpecified,Location 105,Region 5,20950,20/09/2017,2200,55,365,3151,5093,20267,\\n944,LoanID_944,Product D,Female,Location 6,Region 3,17300,07/05/2019,2200,45,365,4051,5463,16617,Finished Payment\\n945,LoanID_945,Product A,Male,Location 199,Region 6,17300,23/04/2019,2200,45,365,5051,5343,16617,Finished Payment\\n946,LoanID_946,Product B,Female,Location 135,Region 3,17300,02/05/2019,2200,45,365,2931,4423,16617,Finished Payment\\n947,LoanID_947,Product A,Male,Location 10,Region 3,17300,26/01/2019,2200,45,365,5051,6643,16617,Finished Payment\\n948,LoanID_948,Product D,Male,Location 61,Region 1,17300,29/05/2018,2200,45,365,3251,4743,16617,Finished Payment\\n949,LoanID_949,Product B,Female,Location 353,Region 3,17300,02/10/2018,2200,45,365,3251,4743,16617,Finished Payment\\n950,LoanID_950,Product A,Male,Location 6,Region 1,22950,29/05/2019,5000,55,365,5300,6192,22267,Finished Payment\\n951,LoanID_951,Product A,Male,Location 17,Region 2,17300,17/09/2018,2200,45,365,3251,4743,16617,Finished Payment\\n952,LoanID_952,Product B,Male,Location 187,Region 3,17300,28/01/2019,2200,45,365,4850,5142,16617,Finished Payment\\n953,LoanID_953,Product A,Female,Location 22,Region 1,22950,01/07/2020,5000,55,365,5600,7892,22267,Finished Payment\\n954,LoanID_954,Product B,NotSpecified,Location 208,Region 1,55325,31/01/2020,8000,120,365,12851,16868,54642,Finished Payment\\n955,LoanID_955,Product A,Male,Location 146,Region 2,17300,24/07/2018,2200,45,365,3770,5062,16617,Finished Payment\\n956,LoanID_956,Product D,Male,Location 82,Region 1,16300,14/10/2016,1000,45,365,2750,4742,15617,Finished Payment\\n957,LoanID_957,Product B,Female,Location 210,Region 6,22950,05/03/2020,5000,55,365,6850,7142,22267,Finished Payment\\n958,LoanID_958,Product B,Female,Location 19,Region 6,16300,20/11/2016,1000,45,365,2980,4572,15617,Finished Payment\\n959,LoanID_959,Product A,Male,Location 352,Region 3,17300,20/01/2019,2200,45,365,5491,7143,16617,Finished Payment\\n960,LoanID_960,Product B,Male,Location 47,Region 3,17300,07/11/2018,2200,45,365,5251,6923,16617,Finished Payment\\n961,LoanID_961,Product B,Male,Location 91,Region 1,,29/09/2017,2200,55,365,3600,5392,20267,Finished Payment\\n962,LoanID_962,Product A,Male,Location 50,Region 2,17300,03/06/2018,2200,45,365,3251,4743,16617,Finished Payment\\n963,LoanID_963,Product A,Female,Location 533,Region 2,20950,14/07/2020,2200,55,365,1400,3192,20267,Finished Payment\\n964,LoanID_964,Product B,Male,Location 48,Region 3,17300,12/05/2018,2200,45,365,5371,6063,16617,Finished Payment\\n965,LoanID_965,Product B,Male,Location 56,Region 6,17300,07/02/2019,2200,45,365,3050,3342,16617,Finished Payment\\n966,LoanID_966,Product A,Female,Location 24,Region 6,22950,22/03/2020,5000,55,365,5850,8142,22267,Finished Payment\\n967,LoanID_967,Product B,Male,Location 49,Region 3,17300,20/02/2019,2200,45,365,3251,4643,16617,Finished Payment\\n968,LoanID_968,Product A,Male,Location 114,Region 3,17300,07/06/2018,2200,45,365,4211,6223,16617,Finished Payment\\n969,LoanID_969,Product A,Female,Location 11,Region 6,20950,05/10/2017,2200,55,365,3600,5542,20267,Finished Payment\\n970,LoanID_970,Product B,Male,Location 113,Region 6,20950,12/01/2018,2200,55,365,6000,7892,20267,Finished Payment\\n971,LoanID_971,Product B,Male,Location 63,Region 6,16300,01/10/2016,1000,45,365,2050,3542,15617,Finished Payment\\n972,LoanID_972,Product A,Male,Location 9,Region 2,16300,21/07/2016,1000,45,365,2065,3574,15617,Finished Payment\\n973,LoanID_973,Product B,Male,Location 6,Region 2,22950,17/07/2019,5000,55,365,5850,7142,22267,Finished Payment\\n974,LoanID_974,Product A,Male,Location 384,Region 6,22950,23/07/2019,5000,55,365,5300,7092,22267,Finished Payment\\n975,LoanID_975,Product B,Female,Location 29,Region 6,17300,29/03/2019,2200,45,365,5130,6462,16617,Finished Payment\\n976,LoanID_976,Product C,Male,Location 25,Region 6,16300,06/07/2016,1000,45,365,2050,3742,15617,Finished Payment\\n977,LoanID_977,Product B,Male,Location 80,Region 2,20950,12/01/2018,2200,55,365,6351,7443,20267,Finished Payment\\n978,LoanID_978,Product D,Female,Location 62,Region 6,16300,29/09/2016,1000,45,365,2050,3542,15617,Finished Payment\\n979,LoanID_979,Product B,Female,Location 41,Region 6,55325,07/07/2020,8000,120,365,12851,17143,54642,Finished Payment\\n980,LoanID_980,Product A,Male,Location 113,Region 6,20950,15/04/2017,2200,55,365,3850,5142,20267,Finished Payment\\n981,LoanID_981,Product A,Female,Location 111,Region 6,17300,11/01/2019,2200,45,365,7290,10742,16617,Finished Payment\\n982,LoanID_982,Product A,Female,Location 53,Region 6,20950,01/05/2017,2200,55,365,4851,5143,20267,Finished Payment\\n983,LoanID_983,Product C,Male,Location 44,Region 3,,08/11/2018,2200,45,365,3268,4760,16617,Finished Payment\\n984,LoanID_984,Product A,Male,Location 94,Region 6,20950,13/04/2017,2200,55,365,3351,5643,20267,Finished Payment\\n985,LoanID_985,Product A,Male,Location 171,Region 3,17300,02/10/2018,2200,45,365,9251,9543,16617,Finished Payment\\n986,LoanID_986,Product B,NotSpecified,Location 464,Region 6,17300,25/04/2018,2200,45,365,3251,4743,16617,Finished Payment\\n987,LoanID_987,Product D,Male,Location 22,Region 3,17300,10/05/2018,2200,45,365,4351,7643,16617,Finished Payment\\n988,LoanID_988,Product B,Male,Location 26,Region 4,17300,05/05/2018,2200,45,365,3251,4743,16617,Finished Payment\\n989,LoanID_989,Product B,NotSpecified,Location 143,Region 3,20950,25/10/2017,2200,55,365,3601,5393,20267,Finished Payment\\n990,LoanID_990,Product A,Male,Location 353,Region 6,17300,25/07/2018,2200,45,365,3251,4403,16617,Finished Payment\\n991,LoanID_991,Product A,Male,Location 60,Region 5,17300,25/08/2018,2200,45,365,3531,5023,16617,Finished Payment\\n992,LoanID_992,Product B,Male,Location 44,Region 17,17300,06/02/2018,2200,45,365,4931,5223,16617,Finished Payment\\n993,LoanID_993,Product B,Female,Location 58,Region 1,16300,26/11/2016,1000,45,365,2970,4102,15617,Finished Payment\\n994,LoanID_994,Product B,Male,Location 39,Region 6,16300,02/04/2016,1000,45,365,2150,3567,15617,Finished Payment\\n995,LoanID_995,Product C,Male,Location 350,Region 2,17300,13/02/2018,2200,45,365,3450,4589,16617,Finished Payment\\n996,LoanID_996,Product B,NotSpecified,Location 45,Region 2,16300,07/01/2017,1000,45,365,2070,3582,15617,Finished Payment\\n997,LoanID_997,Product C,Male,Location 29,Region 6,22950,13/09/2019,5000,55,365,10350,10642,22267,Finished Payment\\n998,LoanID_998,Product A,Male,Location 106,Region 7,17300,18/07/2018,2200,45,365,5651,5943,16617,Finished Payment\\n999,LoanID_999,Product D,Female,Location 53,Region 1,17300,01/03/2018,2200,45,365,3190,4832,16617,Finished Payment\\n1000,LoanID_1000,Product B,Male,Location 3,Region 6,17300,20/10/2018,2200,45,365,2931,4103,16617,Finished Payment\\n1001,LoanID_1001,Product D,Female,Location 73,Region 2,22950,21/08/2019,5000,55,365,5150,7192,22267,Finished Payment\\n1002,LoanID_1002,Product A,Male,Location 29,Region 6,16300,05/04/2017,1000,45,365,2450,3742,15617,\\n1003,LoanID_1003,Product C,Female,Location 86,Region 2,17300,01/10/2018,2200,45,365,2890,4342,16617,Finished Payment\\n1004,LoanID_1004,Product B,Male,Location 62,Region 2,16300,21/06/2016,1000,45,365,1970,3582,15617,Finished Payment\\n1005,LoanID_1005,Product B,Male,Location 61,Region 1,20950,12/12/2017,2200,55,365,6101,7893,20267,Finished Payment\\n1006,LoanID_1006,Product B,Male,Location 197,Region 6,17300,01/05/2018,2200,45,365,4450,7142,16617,Finished Payment\\n1007,LoanID_1007,Product C,NotSpecified,Location 91,Region 1,17300,01/03/2019,2200,45,365,3331,4523,16617,Finished Payment\\n1008,LoanID_1008,Product B,Male,Location 111,Region 3,17300,29/06/2018,2200,45,365,8051,8743,16617,Finished Payment\\n1009,LoanID_1009,Product C,Male,Location 13,Region 2,20950,20/07/2017,2200,55,365,3850,5142,20267,Finished Payment\\n1010,LoanID_1010,Product A,Male,Location 22,Region 1,20950,18/11/2017,2200,55,365,5950,7492,20267,Finished Payment\\n1011,LoanID_1011,Product A,Male,Location 10,Region 1,20950,11/01/2018,2200,55,365,6001,8493,20267,Finished Payment\\n1012,LoanID_1012,Product A,Male,Location 50,Region 2,20950,18/04/2017,2200,55,365,3750,5442,20267,Finished Payment\\n1013,LoanID_1013,Product A,NotSpecified,Location 143,Region 2,22950,11/09/2019,5000,55,365,5250,6942,22267,Finished Payment\\n1014,LoanID_1014,Product A,Male,Location 44,Region 6,16300,18/09/2016,1000,45,365,2350,3642,15617,Finished Payment\\n1015,LoanID_1015,Product B,Male,Location 46,Region 4,22950,04/06/2019,5000,55,365,5400,7442,22267,Finished Payment\\n1016,LoanID_1016,Product A,Female,Location 69,Region 5,16300,24/12/2016,1000,45,365,2170,3542,15617,Finished Payment\\n1017,LoanID_1017,Product E,Male,Location 44,Region 5,17300,27/07/2018,2200,45,365,3310,5402,16617,Finished Payment\\n1018,LoanID_1018,Product E,Female,Location 23,Region 7,17300,10/05/2019,2200,45,365,4401,4693,16617,Finished Payment\\n1019,LoanID_1019,Product B,Male,Location 8,Region 3,16300,21/02/2017,1000,45,365,2010,3502,15617,Finished Payment\\n1020,LoanID_1020,Product A,Male,Location 57,Region 2,55325,06/02/2020,8000,120,365,15101,18893,54642,Finished Payment\\n1021,LoanID_1021,Product A,Male,Location 576,Region 6,,04/02/2017,1000,45,365,2230,4022,15617,Finished Payment\\n1022,LoanID_1022,Product A,Male,Location 6,Region 4,16300,07/12/2016,1000,45,365,2050,3982,15617,Finished Payment\\n1023,LoanID_1023,Product A,Male,Location 25,Region 1,16300,01/02/2017,1000,45,365,1450,3182,15617,Finished Payment\\n1024,LoanID_1024,Product C,Male,Location 22,Region 3,17300,09/04/2019,2200,45,365,3251,4943,16617,Finished Payment\\n1025,LoanID_1025,Product A,Male,Location 47,Region 3,17300,07/03/2019,2200,45,365,3291,4683,16617,Finished Payment\\n1026,LoanID_1026,Product B,Female,Location 84,Region 6,16300,25/09/2016,1000,45,365,2330,3742,15617,Finished Payment\\n1027,LoanID_1027,Product A,Female,Location 139,Region 1,17300,27/03/2019,2200,45,365,3251,4743,16617,Finished Payment\\n1028,LoanID_1028,Product D,Male,Location 113,Region 4,20950,23/03/2017,2200,55,365,3251,4943,20267,Finished Payment\\n1029,LoanID_1029,Product A,NotSpecified,Location 105,Region 5,16300,01/11/2016,1000,45,365,2370,3882,15617,Finished Payment\\n1030,LoanID_1030,Product B,Male,Location 2,Region 1,22950,29/03/2020,5000,55,365,7200,7492,22267,Finished Payment\\n1031,LoanID_1031,Product A,Female,Location 125,Region 2,22950,31/05/2020,5000,55,365,6200,7192,22267,Finished Payment\\n1032,LoanID_1032,Product A,Male,Location 30,Region 5,17300,27/02/2018,2200,45,365,3550,5342,16617,Finished Payment\\n1033,LoanID_1033,Product B,Male,Location 19,Region 7,20950,28/04/2017,2200,55,365,5851,8143,20267,Finished Payment\\n1034,LoanID_1034,Product D,Male,Location 181,Region 3,55325,18/01/2020,8000,120,365,15851,20143,54642,Finished Payment\\n1035,LoanID_1035,Product B,Female,Location 87,Region 6,17300,21/11/2018,2200,45,365,4471,4763,16617,Finished Payment\\n1036,LoanID_1036,Product B,Female,Location 30,Region 6,20950,02/05/2017,2200,55,365,3551,5343,20267,Finished Payment\\n1037,LoanID_1037,Product D,Male,Location 60,Region 2,17300,17/05/2018,2200,45,365,2990,4482,16617,Finished Payment\\n1038,LoanID_1038,Product A,Female,Location 4,Region 6,17300,26/12/2018,2200,45,365,2931,4483,16617,Finished Payment\\n1039,LoanID_1039,Product B,Male,Location 73,Region 6,17300,29/12/2018,2200,45,365,3251,4743,16617,Finished Payment\\n1040,LoanID_1040,Product A,Male,Location 82,Region 1,,28/03/2018,2200,45,365,4090,5582,16617,Finished Payment\\n1041,LoanID_1041,Product A,NotSpecified,Location 11,Region 4,17300,26/04/2018,2200,45,365,4051,5143,16617,Finished Payment\\n1042,LoanID_1042,Product B,Female,Location 26,Region 6,16300,25/10/2016,1000,45,365,1930,3462,15617,Finished Payment\\n1043,LoanID_1043,Product A,NotSpecified,Location 94,Region 6,17300,15/05/2019,2200,45,365,4451,4743,16617,Finished Payment\\n'"
      ]
     },
     "execution_count": 17,
     "metadata": {},
     "output_type": "execute_result"
    }
   ],
   "source": [
    "filename = 'Lending-company.csv'\n",
    "\n",
    "file = open(filename, mode = 'r')\n",
    "text = file.read()\n",
    "text"
   ]
  },
  {
   "cell_type": "code",
   "execution_count": 18,
   "id": "85b27ff6",
   "metadata": {},
   "outputs": [
    {
     "data": {
      "text/plain": [
       "str"
      ]
     },
     "execution_count": 18,
     "metadata": {},
     "output_type": "execute_result"
    }
   ],
   "source": [
    "type(text)  # so this comes out as a str and we want it in the form of a Table, clean (DataFrame), therefore..."
   ]
  },
  {
   "cell_type": "code",
   "execution_count": 19,
   "id": "74b22bda",
   "metadata": {},
   "outputs": [],
   "source": [
    "import pandas as pd"
   ]
  },
  {
   "cell_type": "code",
   "execution_count": 20,
   "id": "2471be37",
   "metadata": {},
   "outputs": [
    {
     "data": {
      "text/html": [
       "<div>\n",
       "<style scoped>\n",
       "    .dataframe tbody tr th:only-of-type {\n",
       "        vertical-align: middle;\n",
       "    }\n",
       "\n",
       "    .dataframe tbody tr th {\n",
       "        vertical-align: top;\n",
       "    }\n",
       "\n",
       "    .dataframe thead th {\n",
       "        text-align: right;\n",
       "    }\n",
       "</style>\n",
       "<table border=\"1\" class=\"dataframe\">\n",
       "  <thead>\n",
       "    <tr style=\"text-align: right;\">\n",
       "      <th></th>\n",
       "      <th>LoanID</th>\n",
       "      <th>StringID</th>\n",
       "      <th>Product</th>\n",
       "      <th>CustomerGender</th>\n",
       "      <th>Location</th>\n",
       "      <th>Region</th>\n",
       "      <th>TotalPrice</th>\n",
       "      <th>StartDate</th>\n",
       "      <th>Deposit</th>\n",
       "      <th>DailyRate</th>\n",
       "      <th>TotalDaysYr</th>\n",
       "      <th>AmtPaid36</th>\n",
       "      <th>AmtPaid60</th>\n",
       "      <th>AmtPaid360</th>\n",
       "      <th>LoanStatus</th>\n",
       "    </tr>\n",
       "  </thead>\n",
       "  <tbody>\n",
       "    <tr>\n",
       "      <th>0</th>\n",
       "      <td>1</td>\n",
       "      <td>LoanID_1</td>\n",
       "      <td>Product B</td>\n",
       "      <td>Female</td>\n",
       "      <td>Location 3</td>\n",
       "      <td>Region 2</td>\n",
       "      <td>17600.0</td>\n",
       "      <td>04/07/2018</td>\n",
       "      <td>2200</td>\n",
       "      <td>45</td>\n",
       "      <td>365</td>\n",
       "      <td>3221</td>\n",
       "      <td>4166</td>\n",
       "      <td>14621</td>\n",
       "      <td>Active</td>\n",
       "    </tr>\n",
       "    <tr>\n",
       "      <th>1</th>\n",
       "      <td>2</td>\n",
       "      <td>LoanID_2</td>\n",
       "      <td>Product D</td>\n",
       "      <td>Female</td>\n",
       "      <td>Location 6</td>\n",
       "      <td>Region 6</td>\n",
       "      <td>NaN</td>\n",
       "      <td>02/01/2019</td>\n",
       "      <td>2200</td>\n",
       "      <td>45</td>\n",
       "      <td>365</td>\n",
       "      <td>3161</td>\n",
       "      <td>4096</td>\n",
       "      <td>16041</td>\n",
       "      <td>Active</td>\n",
       "    </tr>\n",
       "    <tr>\n",
       "      <th>2</th>\n",
       "      <td>3</td>\n",
       "      <td>LoanID_3</td>\n",
       "      <td>Product B</td>\n",
       "      <td>Male</td>\n",
       "      <td>Location 8</td>\n",
       "      <td>Region 3</td>\n",
       "      <td>16600.0</td>\n",
       "      <td>08/12/2016</td>\n",
       "      <td>1000</td>\n",
       "      <td>45</td>\n",
       "      <td>365</td>\n",
       "      <td>2260</td>\n",
       "      <td>3205</td>\n",
       "      <td>16340</td>\n",
       "      <td>NaN</td>\n",
       "    </tr>\n",
       "    <tr>\n",
       "      <th>3</th>\n",
       "      <td>4</td>\n",
       "      <td>LoanID_4</td>\n",
       "      <td>Product A</td>\n",
       "      <td>Male</td>\n",
       "      <td>Location 26</td>\n",
       "      <td>Region 2</td>\n",
       "      <td>17600.0</td>\n",
       "      <td>NaN</td>\n",
       "      <td>2200</td>\n",
       "      <td>45</td>\n",
       "      <td>365</td>\n",
       "      <td>3141</td>\n",
       "      <td>4166</td>\n",
       "      <td>16321</td>\n",
       "      <td>Active</td>\n",
       "    </tr>\n",
       "    <tr>\n",
       "      <th>4</th>\n",
       "      <td>5</td>\n",
       "      <td>LoanID_5</td>\n",
       "      <td>Product B</td>\n",
       "      <td>Female</td>\n",
       "      <td>Location 34</td>\n",
       "      <td>Region 3</td>\n",
       "      <td>21250.0</td>\n",
       "      <td>28/10/2017</td>\n",
       "      <td>2200</td>\n",
       "      <td>55</td>\n",
       "      <td>365</td>\n",
       "      <td>3570</td>\n",
       "      <td>4745</td>\n",
       "      <td>14720</td>\n",
       "      <td>Active</td>\n",
       "    </tr>\n",
       "    <tr>\n",
       "      <th>...</th>\n",
       "      <td>...</td>\n",
       "      <td>...</td>\n",
       "      <td>...</td>\n",
       "      <td>...</td>\n",
       "      <td>...</td>\n",
       "      <td>...</td>\n",
       "      <td>...</td>\n",
       "      <td>...</td>\n",
       "      <td>...</td>\n",
       "      <td>...</td>\n",
       "      <td>...</td>\n",
       "      <td>...</td>\n",
       "      <td>...</td>\n",
       "      <td>...</td>\n",
       "      <td>...</td>\n",
       "    </tr>\n",
       "    <tr>\n",
       "      <th>1038</th>\n",
       "      <td>1039</td>\n",
       "      <td>LoanID_1039</td>\n",
       "      <td>Product B</td>\n",
       "      <td>Male</td>\n",
       "      <td>Location 73</td>\n",
       "      <td>Region 6</td>\n",
       "      <td>17300.0</td>\n",
       "      <td>29/12/2018</td>\n",
       "      <td>2200</td>\n",
       "      <td>45</td>\n",
       "      <td>365</td>\n",
       "      <td>3251</td>\n",
       "      <td>4743</td>\n",
       "      <td>16617</td>\n",
       "      <td>Finished Payment</td>\n",
       "    </tr>\n",
       "    <tr>\n",
       "      <th>1039</th>\n",
       "      <td>1040</td>\n",
       "      <td>LoanID_1040</td>\n",
       "      <td>Product A</td>\n",
       "      <td>Male</td>\n",
       "      <td>Location 82</td>\n",
       "      <td>Region 1</td>\n",
       "      <td>NaN</td>\n",
       "      <td>28/03/2018</td>\n",
       "      <td>2200</td>\n",
       "      <td>45</td>\n",
       "      <td>365</td>\n",
       "      <td>4090</td>\n",
       "      <td>5582</td>\n",
       "      <td>16617</td>\n",
       "      <td>Finished Payment</td>\n",
       "    </tr>\n",
       "    <tr>\n",
       "      <th>1040</th>\n",
       "      <td>1041</td>\n",
       "      <td>LoanID_1041</td>\n",
       "      <td>Product A</td>\n",
       "      <td>NotSpecified</td>\n",
       "      <td>Location 11</td>\n",
       "      <td>Region 4</td>\n",
       "      <td>17300.0</td>\n",
       "      <td>26/04/2018</td>\n",
       "      <td>2200</td>\n",
       "      <td>45</td>\n",
       "      <td>365</td>\n",
       "      <td>4051</td>\n",
       "      <td>5143</td>\n",
       "      <td>16617</td>\n",
       "      <td>Finished Payment</td>\n",
       "    </tr>\n",
       "    <tr>\n",
       "      <th>1041</th>\n",
       "      <td>1042</td>\n",
       "      <td>LoanID_1042</td>\n",
       "      <td>Product B</td>\n",
       "      <td>Female</td>\n",
       "      <td>Location 26</td>\n",
       "      <td>Region 6</td>\n",
       "      <td>16300.0</td>\n",
       "      <td>25/10/2016</td>\n",
       "      <td>1000</td>\n",
       "      <td>45</td>\n",
       "      <td>365</td>\n",
       "      <td>1930</td>\n",
       "      <td>3462</td>\n",
       "      <td>15617</td>\n",
       "      <td>Finished Payment</td>\n",
       "    </tr>\n",
       "    <tr>\n",
       "      <th>1042</th>\n",
       "      <td>1043</td>\n",
       "      <td>LoanID_1043</td>\n",
       "      <td>Product A</td>\n",
       "      <td>NotSpecified</td>\n",
       "      <td>Location 94</td>\n",
       "      <td>Region 6</td>\n",
       "      <td>17300.0</td>\n",
       "      <td>15/05/2019</td>\n",
       "      <td>2200</td>\n",
       "      <td>45</td>\n",
       "      <td>365</td>\n",
       "      <td>4451</td>\n",
       "      <td>4743</td>\n",
       "      <td>16617</td>\n",
       "      <td>Finished Payment</td>\n",
       "    </tr>\n",
       "  </tbody>\n",
       "</table>\n",
       "<p>1043 rows × 15 columns</p>\n",
       "</div>"
      ],
      "text/plain": [
       "      LoanID     StringID    Product CustomerGender     Location    Region  \\\n",
       "0          1     LoanID_1  Product B         Female   Location 3  Region 2   \n",
       "1          2     LoanID_2  Product D         Female   Location 6  Region 6   \n",
       "2          3     LoanID_3  Product B           Male   Location 8  Region 3   \n",
       "3          4     LoanID_4  Product A           Male  Location 26  Region 2   \n",
       "4          5     LoanID_5  Product B         Female  Location 34  Region 3   \n",
       "...      ...          ...        ...            ...          ...       ...   \n",
       "1038    1039  LoanID_1039  Product B           Male  Location 73  Region 6   \n",
       "1039    1040  LoanID_1040  Product A           Male  Location 82  Region 1   \n",
       "1040    1041  LoanID_1041  Product A   NotSpecified  Location 11  Region 4   \n",
       "1041    1042  LoanID_1042  Product B         Female  Location 26  Region 6   \n",
       "1042    1043  LoanID_1043  Product A   NotSpecified  Location 94  Region 6   \n",
       "\n",
       "      TotalPrice   StartDate  Deposit  DailyRate  TotalDaysYr  AmtPaid36  \\\n",
       "0        17600.0  04/07/2018     2200         45          365       3221   \n",
       "1            NaN  02/01/2019     2200         45          365       3161   \n",
       "2        16600.0  08/12/2016     1000         45          365       2260   \n",
       "3        17600.0         NaN     2200         45          365       3141   \n",
       "4        21250.0  28/10/2017     2200         55          365       3570   \n",
       "...          ...         ...      ...        ...          ...        ...   \n",
       "1038     17300.0  29/12/2018     2200         45          365       3251   \n",
       "1039         NaN  28/03/2018     2200         45          365       4090   \n",
       "1040     17300.0  26/04/2018     2200         45          365       4051   \n",
       "1041     16300.0  25/10/2016     1000         45          365       1930   \n",
       "1042     17300.0  15/05/2019     2200         45          365       4451   \n",
       "\n",
       "      AmtPaid60  AmtPaid360        LoanStatus  \n",
       "0          4166       14621            Active  \n",
       "1          4096       16041            Active  \n",
       "2          3205       16340               NaN  \n",
       "3          4166       16321            Active  \n",
       "4          4745       14720            Active  \n",
       "...         ...         ...               ...  \n",
       "1038       4743       16617  Finished Payment  \n",
       "1039       5582       16617  Finished Payment  \n",
       "1040       5143       16617  Finished Payment  \n",
       "1041       3462       15617  Finished Payment  \n",
       "1042       4743       16617  Finished Payment  \n",
       "\n",
       "[1043 rows x 15 columns]"
      ]
     },
     "execution_count": 20,
     "metadata": {},
     "output_type": "execute_result"
    }
   ],
   "source": [
    "pd.read_csv('Lending-company.csv', header = 0)"
   ]
  },
  {
   "cell_type": "code",
   "execution_count": 21,
   "id": "2aafefa8",
   "metadata": {},
   "outputs": [
    {
     "data": {
      "text/plain": [
       "pandas.core.frame.DataFrame"
      ]
     },
     "execution_count": 21,
     "metadata": {},
     "output_type": "execute_result"
    }
   ],
   "source": [
    "type(pd.read_csv(filename)) # here it is. (Easier to understand.)"
   ]
  },
  {
   "cell_type": "code",
   "execution_count": 22,
   "id": "ac4b7b27",
   "metadata": {
    "scrolled": true
   },
   "outputs": [
    {
     "data": {
      "text/html": [
       "<div>\n",
       "<style scoped>\n",
       "    .dataframe tbody tr th:only-of-type {\n",
       "        vertical-align: middle;\n",
       "    }\n",
       "\n",
       "    .dataframe tbody tr th {\n",
       "        vertical-align: top;\n",
       "    }\n",
       "\n",
       "    .dataframe thead th {\n",
       "        text-align: right;\n",
       "    }\n",
       "</style>\n",
       "<table border=\"1\" class=\"dataframe\">\n",
       "  <thead>\n",
       "    <tr style=\"text-align: right;\">\n",
       "      <th></th>\n",
       "      <th>LoanID</th>\n",
       "      <th>StringID</th>\n",
       "      <th>Product</th>\n",
       "      <th>CustomerGender</th>\n",
       "      <th>Location</th>\n",
       "      <th>Region</th>\n",
       "      <th>TotalPrice</th>\n",
       "      <th>StartDate</th>\n",
       "      <th>Deposit</th>\n",
       "      <th>DailyRate</th>\n",
       "      <th>TotalDaysYr</th>\n",
       "      <th>AmtPaid36</th>\n",
       "      <th>AmtPaid60</th>\n",
       "      <th>AmtPaid360</th>\n",
       "      <th>LoanStatus</th>\n",
       "    </tr>\n",
       "  </thead>\n",
       "  <tbody>\n",
       "    <tr>\n",
       "      <th>0</th>\n",
       "      <td>1</td>\n",
       "      <td>LoanID_1</td>\n",
       "      <td>Product B</td>\n",
       "      <td>Female</td>\n",
       "      <td>Location 3</td>\n",
       "      <td>Region 2</td>\n",
       "      <td>17600.0</td>\n",
       "      <td>04/07/2018</td>\n",
       "      <td>2200</td>\n",
       "      <td>45</td>\n",
       "      <td>365</td>\n",
       "      <td>3221</td>\n",
       "      <td>4166</td>\n",
       "      <td>14621</td>\n",
       "      <td>Active</td>\n",
       "    </tr>\n",
       "    <tr>\n",
       "      <th>1</th>\n",
       "      <td>2</td>\n",
       "      <td>LoanID_2</td>\n",
       "      <td>Product D</td>\n",
       "      <td>Female</td>\n",
       "      <td>Location 6</td>\n",
       "      <td>Region 6</td>\n",
       "      <td>NaN</td>\n",
       "      <td>02/01/2019</td>\n",
       "      <td>2200</td>\n",
       "      <td>45</td>\n",
       "      <td>365</td>\n",
       "      <td>3161</td>\n",
       "      <td>4096</td>\n",
       "      <td>16041</td>\n",
       "      <td>Active</td>\n",
       "    </tr>\n",
       "    <tr>\n",
       "      <th>2</th>\n",
       "      <td>3</td>\n",
       "      <td>LoanID_3</td>\n",
       "      <td>Product B</td>\n",
       "      <td>Male</td>\n",
       "      <td>Location 8</td>\n",
       "      <td>Region 3</td>\n",
       "      <td>16600.0</td>\n",
       "      <td>08/12/2016</td>\n",
       "      <td>1000</td>\n",
       "      <td>45</td>\n",
       "      <td>365</td>\n",
       "      <td>2260</td>\n",
       "      <td>3205</td>\n",
       "      <td>16340</td>\n",
       "      <td>NaN</td>\n",
       "    </tr>\n",
       "    <tr>\n",
       "      <th>3</th>\n",
       "      <td>4</td>\n",
       "      <td>LoanID_4</td>\n",
       "      <td>Product A</td>\n",
       "      <td>Male</td>\n",
       "      <td>Location 26</td>\n",
       "      <td>Region 2</td>\n",
       "      <td>17600.0</td>\n",
       "      <td>NaN</td>\n",
       "      <td>2200</td>\n",
       "      <td>45</td>\n",
       "      <td>365</td>\n",
       "      <td>3141</td>\n",
       "      <td>4166</td>\n",
       "      <td>16321</td>\n",
       "      <td>Active</td>\n",
       "    </tr>\n",
       "    <tr>\n",
       "      <th>4</th>\n",
       "      <td>5</td>\n",
       "      <td>LoanID_5</td>\n",
       "      <td>Product B</td>\n",
       "      <td>Female</td>\n",
       "      <td>Location 34</td>\n",
       "      <td>Region 3</td>\n",
       "      <td>21250.0</td>\n",
       "      <td>28/10/2017</td>\n",
       "      <td>2200</td>\n",
       "      <td>55</td>\n",
       "      <td>365</td>\n",
       "      <td>3570</td>\n",
       "      <td>4745</td>\n",
       "      <td>14720</td>\n",
       "      <td>Active</td>\n",
       "    </tr>\n",
       "    <tr>\n",
       "      <th>...</th>\n",
       "      <td>...</td>\n",
       "      <td>...</td>\n",
       "      <td>...</td>\n",
       "      <td>...</td>\n",
       "      <td>...</td>\n",
       "      <td>...</td>\n",
       "      <td>...</td>\n",
       "      <td>...</td>\n",
       "      <td>...</td>\n",
       "      <td>...</td>\n",
       "      <td>...</td>\n",
       "      <td>...</td>\n",
       "      <td>...</td>\n",
       "      <td>...</td>\n",
       "      <td>...</td>\n",
       "    </tr>\n",
       "    <tr>\n",
       "      <th>1038</th>\n",
       "      <td>1039</td>\n",
       "      <td>LoanID_1039</td>\n",
       "      <td>Product B</td>\n",
       "      <td>Male</td>\n",
       "      <td>Location 73</td>\n",
       "      <td>Region 6</td>\n",
       "      <td>17300.0</td>\n",
       "      <td>29/12/2018</td>\n",
       "      <td>2200</td>\n",
       "      <td>45</td>\n",
       "      <td>365</td>\n",
       "      <td>3251</td>\n",
       "      <td>4743</td>\n",
       "      <td>16617</td>\n",
       "      <td>Finished Payment</td>\n",
       "    </tr>\n",
       "    <tr>\n",
       "      <th>1039</th>\n",
       "      <td>1040</td>\n",
       "      <td>LoanID_1040</td>\n",
       "      <td>Product A</td>\n",
       "      <td>Male</td>\n",
       "      <td>Location 82</td>\n",
       "      <td>Region 1</td>\n",
       "      <td>NaN</td>\n",
       "      <td>28/03/2018</td>\n",
       "      <td>2200</td>\n",
       "      <td>45</td>\n",
       "      <td>365</td>\n",
       "      <td>4090</td>\n",
       "      <td>5582</td>\n",
       "      <td>16617</td>\n",
       "      <td>Finished Payment</td>\n",
       "    </tr>\n",
       "    <tr>\n",
       "      <th>1040</th>\n",
       "      <td>1041</td>\n",
       "      <td>LoanID_1041</td>\n",
       "      <td>Product A</td>\n",
       "      <td>NotSpecified</td>\n",
       "      <td>Location 11</td>\n",
       "      <td>Region 4</td>\n",
       "      <td>17300.0</td>\n",
       "      <td>26/04/2018</td>\n",
       "      <td>2200</td>\n",
       "      <td>45</td>\n",
       "      <td>365</td>\n",
       "      <td>4051</td>\n",
       "      <td>5143</td>\n",
       "      <td>16617</td>\n",
       "      <td>Finished Payment</td>\n",
       "    </tr>\n",
       "    <tr>\n",
       "      <th>1041</th>\n",
       "      <td>1042</td>\n",
       "      <td>LoanID_1042</td>\n",
       "      <td>Product B</td>\n",
       "      <td>Female</td>\n",
       "      <td>Location 26</td>\n",
       "      <td>Region 6</td>\n",
       "      <td>16300.0</td>\n",
       "      <td>25/10/2016</td>\n",
       "      <td>1000</td>\n",
       "      <td>45</td>\n",
       "      <td>365</td>\n",
       "      <td>1930</td>\n",
       "      <td>3462</td>\n",
       "      <td>15617</td>\n",
       "      <td>Finished Payment</td>\n",
       "    </tr>\n",
       "    <tr>\n",
       "      <th>1042</th>\n",
       "      <td>1043</td>\n",
       "      <td>LoanID_1043</td>\n",
       "      <td>Product A</td>\n",
       "      <td>NotSpecified</td>\n",
       "      <td>Location 94</td>\n",
       "      <td>Region 6</td>\n",
       "      <td>17300.0</td>\n",
       "      <td>15/05/2019</td>\n",
       "      <td>2200</td>\n",
       "      <td>45</td>\n",
       "      <td>365</td>\n",
       "      <td>4451</td>\n",
       "      <td>4743</td>\n",
       "      <td>16617</td>\n",
       "      <td>Finished Payment</td>\n",
       "    </tr>\n",
       "  </tbody>\n",
       "</table>\n",
       "<p>1043 rows × 15 columns</p>\n",
       "</div>"
      ],
      "text/plain": [
       "      LoanID     StringID    Product CustomerGender     Location    Region  \\\n",
       "0          1     LoanID_1  Product B         Female   Location 3  Region 2   \n",
       "1          2     LoanID_2  Product D         Female   Location 6  Region 6   \n",
       "2          3     LoanID_3  Product B           Male   Location 8  Region 3   \n",
       "3          4     LoanID_4  Product A           Male  Location 26  Region 2   \n",
       "4          5     LoanID_5  Product B         Female  Location 34  Region 3   \n",
       "...      ...          ...        ...            ...          ...       ...   \n",
       "1038    1039  LoanID_1039  Product B           Male  Location 73  Region 6   \n",
       "1039    1040  LoanID_1040  Product A           Male  Location 82  Region 1   \n",
       "1040    1041  LoanID_1041  Product A   NotSpecified  Location 11  Region 4   \n",
       "1041    1042  LoanID_1042  Product B         Female  Location 26  Region 6   \n",
       "1042    1043  LoanID_1043  Product A   NotSpecified  Location 94  Region 6   \n",
       "\n",
       "      TotalPrice   StartDate  Deposit  DailyRate  TotalDaysYr  AmtPaid36  \\\n",
       "0        17600.0  04/07/2018     2200         45          365       3221   \n",
       "1            NaN  02/01/2019     2200         45          365       3161   \n",
       "2        16600.0  08/12/2016     1000         45          365       2260   \n",
       "3        17600.0         NaN     2200         45          365       3141   \n",
       "4        21250.0  28/10/2017     2200         55          365       3570   \n",
       "...          ...         ...      ...        ...          ...        ...   \n",
       "1038     17300.0  29/12/2018     2200         45          365       3251   \n",
       "1039         NaN  28/03/2018     2200         45          365       4090   \n",
       "1040     17300.0  26/04/2018     2200         45          365       4051   \n",
       "1041     16300.0  25/10/2016     1000         45          365       1930   \n",
       "1042     17300.0  15/05/2019     2200         45          365       4451   \n",
       "\n",
       "      AmtPaid60  AmtPaid360        LoanStatus  \n",
       "0          4166       14621            Active  \n",
       "1          4096       16041            Active  \n",
       "2          3205       16340               NaN  \n",
       "3          4166       16321            Active  \n",
       "4          4745       14720            Active  \n",
       "...         ...         ...               ...  \n",
       "1038       4743       16617  Finished Payment  \n",
       "1039       5582       16617  Finished Payment  \n",
       "1040       5143       16617  Finished Payment  \n",
       "1041       3462       15617  Finished Payment  \n",
       "1042       4743       16617  Finished Payment  \n",
       "\n",
       "[1043 rows x 15 columns]"
      ]
     },
     "execution_count": 22,
     "metadata": {},
     "output_type": "execute_result"
    }
   ],
   "source": [
    "# re-writing the above lines of code in a shorter format (better practice as it avoids clutter.)\n",
    "filename = 'Lending-company.csv'\n",
    "my_csv_data = pd.read_csv(filename)\n",
    "my_csv_data"
   ]
  },
  {
   "cell_type": "code",
   "execution_count": 23,
   "id": "f406a8e8",
   "metadata": {},
   "outputs": [
    {
     "data": {
      "text/plain": [
       "pandas.core.frame.DataFrame"
      ]
     },
     "execution_count": 23,
     "metadata": {},
     "output_type": "execute_result"
    }
   ],
   "source": [
    "type(my_csv_data)"
   ]
  },
  {
   "cell_type": "code",
   "execution_count": 24,
   "id": "b9176487",
   "metadata": {},
   "outputs": [
    {
     "name": "stdout",
     "output_type": "stream",
     "text": [
      "      LoanID     StringID    Product CustomerGender     Location    Region  \\\n",
      "0          1     LoanID_1  Product B         Female   Location 3  Region 2   \n",
      "1          2     LoanID_2  Product D         Female   Location 6  Region 6   \n",
      "2          3     LoanID_3  Product B           Male   Location 8  Region 3   \n",
      "3          4     LoanID_4  Product A           Male  Location 26  Region 2   \n",
      "4          5     LoanID_5  Product B         Female  Location 34  Region 3   \n",
      "...      ...          ...        ...            ...          ...       ...   \n",
      "1038    1039  LoanID_1039  Product B           Male  Location 73  Region 6   \n",
      "1039    1040  LoanID_1040  Product A           Male  Location 82  Region 1   \n",
      "1040    1041  LoanID_1041  Product A   NotSpecified  Location 11  Region 4   \n",
      "1041    1042  LoanID_1042  Product B         Female  Location 26  Region 6   \n",
      "1042    1043  LoanID_1043  Product A   NotSpecified  Location 94  Region 6   \n",
      "\n",
      "      TotalPrice   StartDate  Deposit  DailyRate  TotalDaysYr  AmtPaid36  \\\n",
      "0        17600.0  04/07/2018     2200         45          365       3221   \n",
      "1            NaN  02/01/2019     2200         45          365       3161   \n",
      "2        16600.0  08/12/2016     1000         45          365       2260   \n",
      "3        17600.0         NaN     2200         45          365       3141   \n",
      "4        21250.0  28/10/2017     2200         55          365       3570   \n",
      "...          ...         ...      ...        ...          ...        ...   \n",
      "1038     17300.0  29/12/2018     2200         45          365       3251   \n",
      "1039         NaN  28/03/2018     2200         45          365       4090   \n",
      "1040     17300.0  26/04/2018     2200         45          365       4051   \n",
      "1041     16300.0  25/10/2016     1000         45          365       1930   \n",
      "1042     17300.0  15/05/2019     2200         45          365       4451   \n",
      "\n",
      "      AmtPaid60  AmtPaid360        LoanStatus  \n",
      "0          4166       14621            Active  \n",
      "1          4096       16041            Active  \n",
      "2          3205       16340               NaN  \n",
      "3          4166       16321            Active  \n",
      "4          4745       14720            Active  \n",
      "...         ...         ...               ...  \n",
      "1038       4743       16617  Finished Payment  \n",
      "1039       5582       16617  Finished Payment  \n",
      "1040       5143       16617  Finished Payment  \n",
      "1041       3462       15617  Finished Payment  \n",
      "1042       4743       16617  Finished Payment  \n",
      "\n",
      "[1043 rows x 15 columns]\n"
     ]
    }
   ],
   "source": [
    "print(my_csv_data)"
   ]
  },
  {
   "cell_type": "markdown",
   "id": "231f4a84",
   "metadata": {},
   "source": [
    "# Importing Data with the Index_col Parameter. "
   ]
  },
  {
   "cell_type": "code",
   "execution_count": 25,
   "id": "89ea6daf",
   "metadata": {},
   "outputs": [
    {
     "data": {
      "text/html": [
       "<div>\n",
       "<style scoped>\n",
       "    .dataframe tbody tr th:only-of-type {\n",
       "        vertical-align: middle;\n",
       "    }\n",
       "\n",
       "    .dataframe tbody tr th {\n",
       "        vertical-align: top;\n",
       "    }\n",
       "\n",
       "    .dataframe thead th {\n",
       "        text-align: right;\n",
       "    }\n",
       "</style>\n",
       "<table border=\"1\" class=\"dataframe\">\n",
       "  <thead>\n",
       "    <tr style=\"text-align: right;\">\n",
       "      <th></th>\n",
       "      <th>LoanID</th>\n",
       "      <th>StringID</th>\n",
       "      <th>Product</th>\n",
       "      <th>CustomerGender</th>\n",
       "      <th>Location</th>\n",
       "      <th>Region</th>\n",
       "      <th>TotalPrice</th>\n",
       "      <th>StartDate</th>\n",
       "      <th>Deposit</th>\n",
       "      <th>DailyRate</th>\n",
       "      <th>TotalDaysYr</th>\n",
       "      <th>AmtPaid36</th>\n",
       "      <th>AmtPaid60</th>\n",
       "      <th>AmtPaid360</th>\n",
       "      <th>LoanStatus</th>\n",
       "    </tr>\n",
       "  </thead>\n",
       "  <tbody>\n",
       "    <tr>\n",
       "      <th>0</th>\n",
       "      <td>1</td>\n",
       "      <td>LoanID_1</td>\n",
       "      <td>Product B</td>\n",
       "      <td>Female</td>\n",
       "      <td>Location 3</td>\n",
       "      <td>Region 2</td>\n",
       "      <td>17600.0</td>\n",
       "      <td>04/07/2018</td>\n",
       "      <td>2200</td>\n",
       "      <td>45</td>\n",
       "      <td>365</td>\n",
       "      <td>3221</td>\n",
       "      <td>4166</td>\n",
       "      <td>14621</td>\n",
       "      <td>Active</td>\n",
       "    </tr>\n",
       "    <tr>\n",
       "      <th>1</th>\n",
       "      <td>2</td>\n",
       "      <td>LoanID_2</td>\n",
       "      <td>Product D</td>\n",
       "      <td>Female</td>\n",
       "      <td>Location 6</td>\n",
       "      <td>Region 6</td>\n",
       "      <td>NaN</td>\n",
       "      <td>02/01/2019</td>\n",
       "      <td>2200</td>\n",
       "      <td>45</td>\n",
       "      <td>365</td>\n",
       "      <td>3161</td>\n",
       "      <td>4096</td>\n",
       "      <td>16041</td>\n",
       "      <td>Active</td>\n",
       "    </tr>\n",
       "    <tr>\n",
       "      <th>2</th>\n",
       "      <td>3</td>\n",
       "      <td>LoanID_3</td>\n",
       "      <td>Product B</td>\n",
       "      <td>Male</td>\n",
       "      <td>Location 8</td>\n",
       "      <td>Region 3</td>\n",
       "      <td>16600.0</td>\n",
       "      <td>08/12/2016</td>\n",
       "      <td>1000</td>\n",
       "      <td>45</td>\n",
       "      <td>365</td>\n",
       "      <td>2260</td>\n",
       "      <td>3205</td>\n",
       "      <td>16340</td>\n",
       "      <td>NaN</td>\n",
       "    </tr>\n",
       "    <tr>\n",
       "      <th>3</th>\n",
       "      <td>4</td>\n",
       "      <td>LoanID_4</td>\n",
       "      <td>Product A</td>\n",
       "      <td>Male</td>\n",
       "      <td>Location 26</td>\n",
       "      <td>Region 2</td>\n",
       "      <td>17600.0</td>\n",
       "      <td>NaN</td>\n",
       "      <td>2200</td>\n",
       "      <td>45</td>\n",
       "      <td>365</td>\n",
       "      <td>3141</td>\n",
       "      <td>4166</td>\n",
       "      <td>16321</td>\n",
       "      <td>Active</td>\n",
       "    </tr>\n",
       "    <tr>\n",
       "      <th>4</th>\n",
       "      <td>5</td>\n",
       "      <td>LoanID_5</td>\n",
       "      <td>Product B</td>\n",
       "      <td>Female</td>\n",
       "      <td>Location 34</td>\n",
       "      <td>Region 3</td>\n",
       "      <td>21250.0</td>\n",
       "      <td>28/10/2017</td>\n",
       "      <td>2200</td>\n",
       "      <td>55</td>\n",
       "      <td>365</td>\n",
       "      <td>3570</td>\n",
       "      <td>4745</td>\n",
       "      <td>14720</td>\n",
       "      <td>Active</td>\n",
       "    </tr>\n",
       "    <tr>\n",
       "      <th>...</th>\n",
       "      <td>...</td>\n",
       "      <td>...</td>\n",
       "      <td>...</td>\n",
       "      <td>...</td>\n",
       "      <td>...</td>\n",
       "      <td>...</td>\n",
       "      <td>...</td>\n",
       "      <td>...</td>\n",
       "      <td>...</td>\n",
       "      <td>...</td>\n",
       "      <td>...</td>\n",
       "      <td>...</td>\n",
       "      <td>...</td>\n",
       "      <td>...</td>\n",
       "      <td>...</td>\n",
       "    </tr>\n",
       "    <tr>\n",
       "      <th>1038</th>\n",
       "      <td>1039</td>\n",
       "      <td>LoanID_1039</td>\n",
       "      <td>Product B</td>\n",
       "      <td>Male</td>\n",
       "      <td>Location 73</td>\n",
       "      <td>Region 6</td>\n",
       "      <td>17300.0</td>\n",
       "      <td>29/12/2018</td>\n",
       "      <td>2200</td>\n",
       "      <td>45</td>\n",
       "      <td>365</td>\n",
       "      <td>3251</td>\n",
       "      <td>4743</td>\n",
       "      <td>16617</td>\n",
       "      <td>Finished Payment</td>\n",
       "    </tr>\n",
       "    <tr>\n",
       "      <th>1039</th>\n",
       "      <td>1040</td>\n",
       "      <td>LoanID_1040</td>\n",
       "      <td>Product A</td>\n",
       "      <td>Male</td>\n",
       "      <td>Location 82</td>\n",
       "      <td>Region 1</td>\n",
       "      <td>NaN</td>\n",
       "      <td>28/03/2018</td>\n",
       "      <td>2200</td>\n",
       "      <td>45</td>\n",
       "      <td>365</td>\n",
       "      <td>4090</td>\n",
       "      <td>5582</td>\n",
       "      <td>16617</td>\n",
       "      <td>Finished Payment</td>\n",
       "    </tr>\n",
       "    <tr>\n",
       "      <th>1040</th>\n",
       "      <td>1041</td>\n",
       "      <td>LoanID_1041</td>\n",
       "      <td>Product A</td>\n",
       "      <td>NotSpecified</td>\n",
       "      <td>Location 11</td>\n",
       "      <td>Region 4</td>\n",
       "      <td>17300.0</td>\n",
       "      <td>26/04/2018</td>\n",
       "      <td>2200</td>\n",
       "      <td>45</td>\n",
       "      <td>365</td>\n",
       "      <td>4051</td>\n",
       "      <td>5143</td>\n",
       "      <td>16617</td>\n",
       "      <td>Finished Payment</td>\n",
       "    </tr>\n",
       "    <tr>\n",
       "      <th>1041</th>\n",
       "      <td>1042</td>\n",
       "      <td>LoanID_1042</td>\n",
       "      <td>Product B</td>\n",
       "      <td>Female</td>\n",
       "      <td>Location 26</td>\n",
       "      <td>Region 6</td>\n",
       "      <td>16300.0</td>\n",
       "      <td>25/10/2016</td>\n",
       "      <td>1000</td>\n",
       "      <td>45</td>\n",
       "      <td>365</td>\n",
       "      <td>1930</td>\n",
       "      <td>3462</td>\n",
       "      <td>15617</td>\n",
       "      <td>Finished Payment</td>\n",
       "    </tr>\n",
       "    <tr>\n",
       "      <th>1042</th>\n",
       "      <td>1043</td>\n",
       "      <td>LoanID_1043</td>\n",
       "      <td>Product A</td>\n",
       "      <td>NotSpecified</td>\n",
       "      <td>Location 94</td>\n",
       "      <td>Region 6</td>\n",
       "      <td>17300.0</td>\n",
       "      <td>15/05/2019</td>\n",
       "      <td>2200</td>\n",
       "      <td>45</td>\n",
       "      <td>365</td>\n",
       "      <td>4451</td>\n",
       "      <td>4743</td>\n",
       "      <td>16617</td>\n",
       "      <td>Finished Payment</td>\n",
       "    </tr>\n",
       "  </tbody>\n",
       "</table>\n",
       "<p>1043 rows × 15 columns</p>\n",
       "</div>"
      ],
      "text/plain": [
       "      LoanID     StringID    Product CustomerGender     Location    Region  \\\n",
       "0          1     LoanID_1  Product B         Female   Location 3  Region 2   \n",
       "1          2     LoanID_2  Product D         Female   Location 6  Region 6   \n",
       "2          3     LoanID_3  Product B           Male   Location 8  Region 3   \n",
       "3          4     LoanID_4  Product A           Male  Location 26  Region 2   \n",
       "4          5     LoanID_5  Product B         Female  Location 34  Region 3   \n",
       "...      ...          ...        ...            ...          ...       ...   \n",
       "1038    1039  LoanID_1039  Product B           Male  Location 73  Region 6   \n",
       "1039    1040  LoanID_1040  Product A           Male  Location 82  Region 1   \n",
       "1040    1041  LoanID_1041  Product A   NotSpecified  Location 11  Region 4   \n",
       "1041    1042  LoanID_1042  Product B         Female  Location 26  Region 6   \n",
       "1042    1043  LoanID_1043  Product A   NotSpecified  Location 94  Region 6   \n",
       "\n",
       "      TotalPrice   StartDate  Deposit  DailyRate  TotalDaysYr  AmtPaid36  \\\n",
       "0        17600.0  04/07/2018     2200         45          365       3221   \n",
       "1            NaN  02/01/2019     2200         45          365       3161   \n",
       "2        16600.0  08/12/2016     1000         45          365       2260   \n",
       "3        17600.0         NaN     2200         45          365       3141   \n",
       "4        21250.0  28/10/2017     2200         55          365       3570   \n",
       "...          ...         ...      ...        ...          ...        ...   \n",
       "1038     17300.0  29/12/2018     2200         45          365       3251   \n",
       "1039         NaN  28/03/2018     2200         45          365       4090   \n",
       "1040     17300.0  26/04/2018     2200         45          365       4051   \n",
       "1041     16300.0  25/10/2016     1000         45          365       1930   \n",
       "1042     17300.0  15/05/2019     2200         45          365       4451   \n",
       "\n",
       "      AmtPaid60  AmtPaid360        LoanStatus  \n",
       "0          4166       14621            Active  \n",
       "1          4096       16041            Active  \n",
       "2          3205       16340               NaN  \n",
       "3          4166       16321            Active  \n",
       "4          4745       14720            Active  \n",
       "...         ...         ...               ...  \n",
       "1038       4743       16617  Finished Payment  \n",
       "1039       5582       16617  Finished Payment  \n",
       "1040       5143       16617  Finished Payment  \n",
       "1041       3462       15617  Finished Payment  \n",
       "1042       4743       16617  Finished Payment  \n",
       "\n",
       "[1043 rows x 15 columns]"
      ]
     },
     "execution_count": 25,
     "metadata": {},
     "output_type": "execute_result"
    }
   ],
   "source": [
    "filename = 'Lending-company.csv'\n",
    "file = pd.read_csv(filename)\n",
    "file"
   ]
  },
  {
   "cell_type": "code",
   "execution_count": 26,
   "id": "982018bc",
   "metadata": {},
   "outputs": [],
   "source": [
    "# the unique values' column is apt to be the index (LoanId). So we remove the initial indexing. "
   ]
  },
  {
   "cell_type": "code",
   "execution_count": 27,
   "id": "7ac49d54",
   "metadata": {},
   "outputs": [
    {
     "data": {
      "text/html": [
       "<div>\n",
       "<style scoped>\n",
       "    .dataframe tbody tr th:only-of-type {\n",
       "        vertical-align: middle;\n",
       "    }\n",
       "\n",
       "    .dataframe tbody tr th {\n",
       "        vertical-align: top;\n",
       "    }\n",
       "\n",
       "    .dataframe thead th {\n",
       "        text-align: right;\n",
       "    }\n",
       "</style>\n",
       "<table border=\"1\" class=\"dataframe\">\n",
       "  <thead>\n",
       "    <tr style=\"text-align: right;\">\n",
       "      <th></th>\n",
       "      <th>StringID</th>\n",
       "      <th>Product</th>\n",
       "      <th>CustomerGender</th>\n",
       "      <th>Location</th>\n",
       "      <th>Region</th>\n",
       "      <th>TotalPrice</th>\n",
       "      <th>StartDate</th>\n",
       "      <th>Deposit</th>\n",
       "      <th>DailyRate</th>\n",
       "      <th>TotalDaysYr</th>\n",
       "      <th>AmtPaid36</th>\n",
       "      <th>AmtPaid60</th>\n",
       "      <th>AmtPaid360</th>\n",
       "      <th>LoanStatus</th>\n",
       "    </tr>\n",
       "    <tr>\n",
       "      <th>LoanID</th>\n",
       "      <th></th>\n",
       "      <th></th>\n",
       "      <th></th>\n",
       "      <th></th>\n",
       "      <th></th>\n",
       "      <th></th>\n",
       "      <th></th>\n",
       "      <th></th>\n",
       "      <th></th>\n",
       "      <th></th>\n",
       "      <th></th>\n",
       "      <th></th>\n",
       "      <th></th>\n",
       "      <th></th>\n",
       "    </tr>\n",
       "  </thead>\n",
       "  <tbody>\n",
       "    <tr>\n",
       "      <th>1</th>\n",
       "      <td>LoanID_1</td>\n",
       "      <td>Product B</td>\n",
       "      <td>Female</td>\n",
       "      <td>Location 3</td>\n",
       "      <td>Region 2</td>\n",
       "      <td>17600.0</td>\n",
       "      <td>04/07/2018</td>\n",
       "      <td>2200</td>\n",
       "      <td>45</td>\n",
       "      <td>365</td>\n",
       "      <td>3221</td>\n",
       "      <td>4166</td>\n",
       "      <td>14621</td>\n",
       "      <td>Active</td>\n",
       "    </tr>\n",
       "    <tr>\n",
       "      <th>2</th>\n",
       "      <td>LoanID_2</td>\n",
       "      <td>Product D</td>\n",
       "      <td>Female</td>\n",
       "      <td>Location 6</td>\n",
       "      <td>Region 6</td>\n",
       "      <td>NaN</td>\n",
       "      <td>02/01/2019</td>\n",
       "      <td>2200</td>\n",
       "      <td>45</td>\n",
       "      <td>365</td>\n",
       "      <td>3161</td>\n",
       "      <td>4096</td>\n",
       "      <td>16041</td>\n",
       "      <td>Active</td>\n",
       "    </tr>\n",
       "    <tr>\n",
       "      <th>3</th>\n",
       "      <td>LoanID_3</td>\n",
       "      <td>Product B</td>\n",
       "      <td>Male</td>\n",
       "      <td>Location 8</td>\n",
       "      <td>Region 3</td>\n",
       "      <td>16600.0</td>\n",
       "      <td>08/12/2016</td>\n",
       "      <td>1000</td>\n",
       "      <td>45</td>\n",
       "      <td>365</td>\n",
       "      <td>2260</td>\n",
       "      <td>3205</td>\n",
       "      <td>16340</td>\n",
       "      <td>NaN</td>\n",
       "    </tr>\n",
       "    <tr>\n",
       "      <th>4</th>\n",
       "      <td>LoanID_4</td>\n",
       "      <td>Product A</td>\n",
       "      <td>Male</td>\n",
       "      <td>Location 26</td>\n",
       "      <td>Region 2</td>\n",
       "      <td>17600.0</td>\n",
       "      <td>NaN</td>\n",
       "      <td>2200</td>\n",
       "      <td>45</td>\n",
       "      <td>365</td>\n",
       "      <td>3141</td>\n",
       "      <td>4166</td>\n",
       "      <td>16321</td>\n",
       "      <td>Active</td>\n",
       "    </tr>\n",
       "    <tr>\n",
       "      <th>5</th>\n",
       "      <td>LoanID_5</td>\n",
       "      <td>Product B</td>\n",
       "      <td>Female</td>\n",
       "      <td>Location 34</td>\n",
       "      <td>Region 3</td>\n",
       "      <td>21250.0</td>\n",
       "      <td>28/10/2017</td>\n",
       "      <td>2200</td>\n",
       "      <td>55</td>\n",
       "      <td>365</td>\n",
       "      <td>3570</td>\n",
       "      <td>4745</td>\n",
       "      <td>14720</td>\n",
       "      <td>Active</td>\n",
       "    </tr>\n",
       "    <tr>\n",
       "      <th>6</th>\n",
       "      <td>LoanID_6</td>\n",
       "      <td>Product A</td>\n",
       "      <td>Male</td>\n",
       "      <td>Location 34</td>\n",
       "      <td>Region 1</td>\n",
       "      <td>NaN</td>\n",
       "      <td>19/04/2019</td>\n",
       "      <td>2200</td>\n",
       "      <td>45</td>\n",
       "      <td>365</td>\n",
       "      <td>3301</td>\n",
       "      <td>4066</td>\n",
       "      <td>15141</td>\n",
       "      <td>Active</td>\n",
       "    </tr>\n",
       "    <tr>\n",
       "      <th>7</th>\n",
       "      <td>LoanID_7</td>\n",
       "      <td>Product A</td>\n",
       "      <td>Male</td>\n",
       "      <td>Location 25</td>\n",
       "      <td>NaN</td>\n",
       "      <td>21250.0</td>\n",
       "      <td>04/07/2020</td>\n",
       "      <td>2200</td>\n",
       "      <td>55</td>\n",
       "      <td>365</td>\n",
       "      <td>1951</td>\n",
       "      <td>3176</td>\n",
       "      <td>18701</td>\n",
       "      <td>Active</td>\n",
       "    </tr>\n",
       "    <tr>\n",
       "      <th>8</th>\n",
       "      <td>LoanID_8</td>\n",
       "      <td>Product D</td>\n",
       "      <td>Male</td>\n",
       "      <td>Location 46</td>\n",
       "      <td>Region 5</td>\n",
       "      <td>17600.0</td>\n",
       "      <td>24/04/2018</td>\n",
       "      <td>2200</td>\n",
       "      <td>45</td>\n",
       "      <td>365</td>\n",
       "      <td>4071</td>\n",
       "      <td>4056</td>\n",
       "      <td>16351</td>\n",
       "      <td>Active</td>\n",
       "    </tr>\n",
       "    <tr>\n",
       "      <th>9</th>\n",
       "      <td>LoanID_9</td>\n",
       "      <td>Product A</td>\n",
       "      <td>Male</td>\n",
       "      <td>Location 156</td>\n",
       "      <td>Region 6</td>\n",
       "      <td>23250.0</td>\n",
       "      <td>03/09/2019</td>\n",
       "      <td>5000</td>\n",
       "      <td>55</td>\n",
       "      <td>365</td>\n",
       "      <td>5850</td>\n",
       "      <td>7375</td>\n",
       "      <td>21250</td>\n",
       "      <td>NaN</td>\n",
       "    </tr>\n",
       "    <tr>\n",
       "      <th>10</th>\n",
       "      <td>LoanID_10</td>\n",
       "      <td>Product C</td>\n",
       "      <td>Male</td>\n",
       "      <td>Location 21</td>\n",
       "      <td>Region 9</td>\n",
       "      <td>21250.0</td>\n",
       "      <td>25/07/2020</td>\n",
       "      <td>2200</td>\n",
       "      <td>55</td>\n",
       "      <td>365</td>\n",
       "      <td>2051</td>\n",
       "      <td>3176</td>\n",
       "      <td>18351</td>\n",
       "      <td>Active</td>\n",
       "    </tr>\n",
       "  </tbody>\n",
       "</table>\n",
       "</div>"
      ],
      "text/plain": [
       "         StringID    Product CustomerGender      Location    Region  \\\n",
       "LoanID                                                                \n",
       "1        LoanID_1  Product B         Female    Location 3  Region 2   \n",
       "2        LoanID_2  Product D         Female    Location 6  Region 6   \n",
       "3        LoanID_3  Product B           Male    Location 8  Region 3   \n",
       "4        LoanID_4  Product A           Male   Location 26  Region 2   \n",
       "5        LoanID_5  Product B         Female   Location 34  Region 3   \n",
       "6        LoanID_6  Product A           Male   Location 34  Region 1   \n",
       "7        LoanID_7  Product A           Male   Location 25       NaN   \n",
       "8        LoanID_8  Product D           Male   Location 46  Region 5   \n",
       "9        LoanID_9  Product A           Male  Location 156  Region 6   \n",
       "10      LoanID_10  Product C           Male   Location 21  Region 9   \n",
       "\n",
       "        TotalPrice   StartDate  Deposit  DailyRate  TotalDaysYr  AmtPaid36  \\\n",
       "LoanID                                                                       \n",
       "1          17600.0  04/07/2018     2200         45          365       3221   \n",
       "2              NaN  02/01/2019     2200         45          365       3161   \n",
       "3          16600.0  08/12/2016     1000         45          365       2260   \n",
       "4          17600.0         NaN     2200         45          365       3141   \n",
       "5          21250.0  28/10/2017     2200         55          365       3570   \n",
       "6              NaN  19/04/2019     2200         45          365       3301   \n",
       "7          21250.0  04/07/2020     2200         55          365       1951   \n",
       "8          17600.0  24/04/2018     2200         45          365       4071   \n",
       "9          23250.0  03/09/2019     5000         55          365       5850   \n",
       "10         21250.0  25/07/2020     2200         55          365       2051   \n",
       "\n",
       "        AmtPaid60  AmtPaid360 LoanStatus  \n",
       "LoanID                                    \n",
       "1            4166       14621     Active  \n",
       "2            4096       16041     Active  \n",
       "3            3205       16340        NaN  \n",
       "4            4166       16321     Active  \n",
       "5            4745       14720     Active  \n",
       "6            4066       15141     Active  \n",
       "7            3176       18701     Active  \n",
       "8            4056       16351     Active  \n",
       "9            7375       21250        NaN  \n",
       "10           3176       18351     Active  "
      ]
     },
     "execution_count": 27,
     "metadata": {},
     "output_type": "execute_result"
    }
   ],
   "source": [
    "filename = 'Lending-company.csv'\n",
    "file = pd.read_csv(filename, index_col = 'LoanID')\n",
    "file.head(10)"
   ]
  },
  {
   "cell_type": "code",
   "execution_count": 28,
   "id": "a1f7ec12",
   "metadata": {},
   "outputs": [],
   "source": [
    "# here we go!"
   ]
  },
  {
   "cell_type": "code",
   "execution_count": 29,
   "id": "0722e0be",
   "metadata": {},
   "outputs": [
    {
     "data": {
      "text/html": [
       "<div>\n",
       "<style scoped>\n",
       "    .dataframe tbody tr th:only-of-type {\n",
       "        vertical-align: middle;\n",
       "    }\n",
       "\n",
       "    .dataframe tbody tr th {\n",
       "        vertical-align: top;\n",
       "    }\n",
       "\n",
       "    .dataframe thead th {\n",
       "        text-align: right;\n",
       "    }\n",
       "</style>\n",
       "<table border=\"1\" class=\"dataframe\">\n",
       "  <thead>\n",
       "    <tr style=\"text-align: right;\">\n",
       "      <th></th>\n",
       "      <th>ProductName</th>\n",
       "      <th>ProductPrice</th>\n",
       "    </tr>\n",
       "  </thead>\n",
       "  <tbody>\n",
       "    <tr>\n",
       "      <th>A</th>\n",
       "      <td>Product A</td>\n",
       "      <td>22250</td>\n",
       "    </tr>\n",
       "    <tr>\n",
       "      <th>B</th>\n",
       "      <td>Product B</td>\n",
       "      <td>16600</td>\n",
       "    </tr>\n",
       "    <tr>\n",
       "      <th>C</th>\n",
       "      <td>Product C</td>\n",
       "      <td>12500</td>\n",
       "    </tr>\n",
       "  </tbody>\n",
       "</table>\n",
       "</div>"
      ],
      "text/plain": [
       "  ProductName  ProductPrice\n",
       "A   Product A         22250\n",
       "B   Product B         16600\n",
       "C   Product C         12500"
      ]
     },
     "execution_count": 29,
     "metadata": {},
     "output_type": "execute_result"
    }
   ],
   "source": [
    "# to understand how this actually works...\n",
    "data = {'ProductName':['Product A', 'Product B', 'Product C'], 'ProductPrice': [22250, 16600, 12500]}\n",
    "product_IDs = ['A', 'B', 'C']\n",
    "df = pd.DataFrame(data, index = product_IDs)\n",
    "df"
   ]
  },
  {
   "cell_type": "markdown",
   "id": "80c8900e",
   "metadata": {},
   "source": [
    "# Importing Data with NumPy"
   ]
  },
  {
   "cell_type": "code",
   "execution_count": 30,
   "id": "a3f06bbf",
   "metadata": {},
   "outputs": [],
   "source": [
    "import numpy as np"
   ]
  },
  {
   "cell_type": "markdown",
   "id": "0bcccdf3",
   "metadata": {},
   "source": [
    "## np.loadtxt()vs np.genfromtxt()\n"
   ]
  },
  {
   "cell_type": "code",
   "execution_count": 31,
   "id": "3fa0449f",
   "metadata": {},
   "outputs": [
    {
     "data": {
      "text/plain": [
       "array([[ 2000.,    40.,   365.,  3121.,  4241., 13621.],\n",
       "       [ 2000.,    40.,   365.,  3061.,  4171., 15041.],\n",
       "       [ 1000.,    40.,   365.,  2160.,  3280., 15340.],\n",
       "       ...,\n",
       "       [ 2000.,    40.,   365.,  4201.,  5001., 16600.],\n",
       "       [ 1000.,    40.,   365.,  2080.,  3320., 15600.],\n",
       "       [ 2000.,    40.,   365.,  4601.,  4601., 16600.]])"
      ]
     },
     "execution_count": 31,
     "metadata": {},
     "output_type": "execute_result"
    }
   ],
   "source": [
    "lending_company_data_1 = np.loadtxt('Lending-Company-Numeric-Data.csv', delimiter = ',')\n",
    "lending_company_data_1"
   ]
  },
  {
   "cell_type": "code",
   "execution_count": 32,
   "id": "4d47886f",
   "metadata": {},
   "outputs": [
    {
     "data": {
      "text/plain": [
       "array([[ 2000.,    40.,   365.,  3121.,  4241., 13621.],\n",
       "       [ 2000.,    40.,   365.,  3061.,  4171., 15041.],\n",
       "       [ 1000.,    40.,   365.,  2160.,  3280., 15340.],\n",
       "       ...,\n",
       "       [ 2000.,    40.,   365.,  4201.,  5001., 16600.],\n",
       "       [ 1000.,    40.,   365.,  2080.,  3320., 15600.],\n",
       "       [ 2000.,    40.,   365.,  4601.,  4601., 16600.]])"
      ]
     },
     "execution_count": 32,
     "metadata": {},
     "output_type": "execute_result"
    }
   ],
   "source": [
    "lending_company_data_2 = np.genfromtxt('Lending-Company-Numeric-Data.csv', delimiter = ',')\n",
    "lending_company_data_2"
   ]
  },
  {
   "cell_type": "code",
   "execution_count": 33,
   "id": "ee7ea4b8",
   "metadata": {},
   "outputs": [
    {
     "data": {
      "text/plain": [
       "True"
      ]
     },
     "execution_count": 33,
     "metadata": {},
     "output_type": "execute_result"
    }
   ],
   "source": [
    "# even though the outputs from both the functions appear similar, but we check if they're actually same...\n",
    "np.array_equal(lending_company_data_1, lending_company_data_2)"
   ]
  },
  {
   "cell_type": "markdown",
   "id": "75a7a73e",
   "metadata": {},
   "source": [
    "### yes THEY ARE SAME, when the dataSet is complete! but the difference between the two is, .loadtxt() is Faster, but it breaks if we feed it incomplete or ill-formatted datasets and .genfromtxt() is a bit slower, but it handles missing values better."
   ]
  },
  {
   "cell_type": "code",
   "execution_count": 34,
   "id": "52bee8f3",
   "metadata": {},
   "outputs": [],
   "source": [
    "# Understanding the 'Missing value' concept with an example."
   ]
  },
  {
   "cell_type": "code",
   "execution_count": 35,
   "id": "f0cbec5f",
   "metadata": {
    "tags": []
   },
   "outputs": [
    {
     "ename": "ValueError",
     "evalue": "could not convert string '' to float64 at row 11, column 4.",
     "output_type": "error",
     "traceback": [
      "\u001b[1;31m---------------------------------------------------------------------------\u001b[0m",
      "\u001b[1;31mValueError\u001b[0m                                Traceback (most recent call last)",
      "Cell \u001b[1;32mIn[35], line 1\u001b[0m\n\u001b[1;32m----> 1\u001b[0m lending_company_data_nan \u001b[38;5;241m=\u001b[39m \u001b[43mnp\u001b[49m\u001b[38;5;241;43m.\u001b[39;49m\u001b[43mloadtxt\u001b[49m\u001b[43m(\u001b[49m\u001b[38;5;124;43m'\u001b[39;49m\u001b[38;5;124;43mLending-Company-Numeric-Data-NAN.csv\u001b[39;49m\u001b[38;5;124;43m'\u001b[39;49m\u001b[43m,\u001b[49m\u001b[43m \u001b[49m\u001b[43mdelimiter\u001b[49m\u001b[43m \u001b[49m\u001b[38;5;241;43m=\u001b[39;49m\u001b[43m \u001b[49m\u001b[38;5;124;43m\"\u001b[39;49m\u001b[38;5;124;43m;\u001b[39;49m\u001b[38;5;124;43m\"\u001b[39;49m\u001b[43m)\u001b[49m\n\u001b[0;32m      2\u001b[0m lending_company_data_nan\n",
      "File \u001b[1;32m~\\anaconda3\\thing\\lib\\site-packages\\numpy\\lib\\npyio.py:1356\u001b[0m, in \u001b[0;36mloadtxt\u001b[1;34m(fname, dtype, comments, delimiter, converters, skiprows, usecols, unpack, ndmin, encoding, max_rows, quotechar, like)\u001b[0m\n\u001b[0;32m   1353\u001b[0m \u001b[38;5;28;01mif\u001b[39;00m \u001b[38;5;28misinstance\u001b[39m(delimiter, \u001b[38;5;28mbytes\u001b[39m):\n\u001b[0;32m   1354\u001b[0m     delimiter \u001b[38;5;241m=\u001b[39m delimiter\u001b[38;5;241m.\u001b[39mdecode(\u001b[38;5;124m'\u001b[39m\u001b[38;5;124mlatin1\u001b[39m\u001b[38;5;124m'\u001b[39m)\n\u001b[1;32m-> 1356\u001b[0m arr \u001b[38;5;241m=\u001b[39m \u001b[43m_read\u001b[49m\u001b[43m(\u001b[49m\u001b[43mfname\u001b[49m\u001b[43m,\u001b[49m\u001b[43m \u001b[49m\u001b[43mdtype\u001b[49m\u001b[38;5;241;43m=\u001b[39;49m\u001b[43mdtype\u001b[49m\u001b[43m,\u001b[49m\u001b[43m \u001b[49m\u001b[43mcomment\u001b[49m\u001b[38;5;241;43m=\u001b[39;49m\u001b[43mcomment\u001b[49m\u001b[43m,\u001b[49m\u001b[43m \u001b[49m\u001b[43mdelimiter\u001b[49m\u001b[38;5;241;43m=\u001b[39;49m\u001b[43mdelimiter\u001b[49m\u001b[43m,\u001b[49m\n\u001b[0;32m   1357\u001b[0m \u001b[43m            \u001b[49m\u001b[43mconverters\u001b[49m\u001b[38;5;241;43m=\u001b[39;49m\u001b[43mconverters\u001b[49m\u001b[43m,\u001b[49m\u001b[43m \u001b[49m\u001b[43mskiplines\u001b[49m\u001b[38;5;241;43m=\u001b[39;49m\u001b[43mskiprows\u001b[49m\u001b[43m,\u001b[49m\u001b[43m \u001b[49m\u001b[43musecols\u001b[49m\u001b[38;5;241;43m=\u001b[39;49m\u001b[43musecols\u001b[49m\u001b[43m,\u001b[49m\n\u001b[0;32m   1358\u001b[0m \u001b[43m            \u001b[49m\u001b[43munpack\u001b[49m\u001b[38;5;241;43m=\u001b[39;49m\u001b[43munpack\u001b[49m\u001b[43m,\u001b[49m\u001b[43m \u001b[49m\u001b[43mndmin\u001b[49m\u001b[38;5;241;43m=\u001b[39;49m\u001b[43mndmin\u001b[49m\u001b[43m,\u001b[49m\u001b[43m \u001b[49m\u001b[43mencoding\u001b[49m\u001b[38;5;241;43m=\u001b[39;49m\u001b[43mencoding\u001b[49m\u001b[43m,\u001b[49m\n\u001b[0;32m   1359\u001b[0m \u001b[43m            \u001b[49m\u001b[43mmax_rows\u001b[49m\u001b[38;5;241;43m=\u001b[39;49m\u001b[43mmax_rows\u001b[49m\u001b[43m,\u001b[49m\u001b[43m \u001b[49m\u001b[43mquote\u001b[49m\u001b[38;5;241;43m=\u001b[39;49m\u001b[43mquotechar\u001b[49m\u001b[43m)\u001b[49m\n\u001b[0;32m   1361\u001b[0m \u001b[38;5;28;01mreturn\u001b[39;00m arr\n",
      "File \u001b[1;32m~\\anaconda3\\thing\\lib\\site-packages\\numpy\\lib\\npyio.py:999\u001b[0m, in \u001b[0;36m_read\u001b[1;34m(fname, delimiter, comment, quote, imaginary_unit, usecols, skiplines, max_rows, converters, ndmin, unpack, dtype, encoding)\u001b[0m\n\u001b[0;32m    996\u001b[0m     data \u001b[38;5;241m=\u001b[39m _preprocess_comments(data, comments, encoding)\n\u001b[0;32m    998\u001b[0m \u001b[38;5;28;01mif\u001b[39;00m read_dtype_via_object_chunks \u001b[38;5;129;01mis\u001b[39;00m \u001b[38;5;28;01mNone\u001b[39;00m:\n\u001b[1;32m--> 999\u001b[0m     arr \u001b[38;5;241m=\u001b[39m \u001b[43m_load_from_filelike\u001b[49m\u001b[43m(\u001b[49m\n\u001b[0;32m   1000\u001b[0m \u001b[43m        \u001b[49m\u001b[43mdata\u001b[49m\u001b[43m,\u001b[49m\u001b[43m \u001b[49m\u001b[43mdelimiter\u001b[49m\u001b[38;5;241;43m=\u001b[39;49m\u001b[43mdelimiter\u001b[49m\u001b[43m,\u001b[49m\u001b[43m \u001b[49m\u001b[43mcomment\u001b[49m\u001b[38;5;241;43m=\u001b[39;49m\u001b[43mcomment\u001b[49m\u001b[43m,\u001b[49m\u001b[43m \u001b[49m\u001b[43mquote\u001b[49m\u001b[38;5;241;43m=\u001b[39;49m\u001b[43mquote\u001b[49m\u001b[43m,\u001b[49m\n\u001b[0;32m   1001\u001b[0m \u001b[43m        \u001b[49m\u001b[43mimaginary_unit\u001b[49m\u001b[38;5;241;43m=\u001b[39;49m\u001b[43mimaginary_unit\u001b[49m\u001b[43m,\u001b[49m\n\u001b[0;32m   1002\u001b[0m \u001b[43m        \u001b[49m\u001b[43musecols\u001b[49m\u001b[38;5;241;43m=\u001b[39;49m\u001b[43musecols\u001b[49m\u001b[43m,\u001b[49m\u001b[43m \u001b[49m\u001b[43mskiplines\u001b[49m\u001b[38;5;241;43m=\u001b[39;49m\u001b[43mskiplines\u001b[49m\u001b[43m,\u001b[49m\u001b[43m \u001b[49m\u001b[43mmax_rows\u001b[49m\u001b[38;5;241;43m=\u001b[39;49m\u001b[43mmax_rows\u001b[49m\u001b[43m,\u001b[49m\n\u001b[0;32m   1003\u001b[0m \u001b[43m        \u001b[49m\u001b[43mconverters\u001b[49m\u001b[38;5;241;43m=\u001b[39;49m\u001b[43mconverters\u001b[49m\u001b[43m,\u001b[49m\u001b[43m \u001b[49m\u001b[43mdtype\u001b[49m\u001b[38;5;241;43m=\u001b[39;49m\u001b[43mdtype\u001b[49m\u001b[43m,\u001b[49m\n\u001b[0;32m   1004\u001b[0m \u001b[43m        \u001b[49m\u001b[43mencoding\u001b[49m\u001b[38;5;241;43m=\u001b[39;49m\u001b[43mencoding\u001b[49m\u001b[43m,\u001b[49m\u001b[43m \u001b[49m\u001b[43mfilelike\u001b[49m\u001b[38;5;241;43m=\u001b[39;49m\u001b[43mfilelike\u001b[49m\u001b[43m,\u001b[49m\n\u001b[0;32m   1005\u001b[0m \u001b[43m        \u001b[49m\u001b[43mbyte_converters\u001b[49m\u001b[38;5;241;43m=\u001b[39;49m\u001b[43mbyte_converters\u001b[49m\u001b[43m)\u001b[49m\n\u001b[0;32m   1007\u001b[0m \u001b[38;5;28;01melse\u001b[39;00m:\n\u001b[0;32m   1008\u001b[0m     \u001b[38;5;66;03m# This branch reads the file into chunks of object arrays and then\u001b[39;00m\n\u001b[0;32m   1009\u001b[0m     \u001b[38;5;66;03m# casts them to the desired actual dtype.  This ensures correct\u001b[39;00m\n\u001b[0;32m   1010\u001b[0m     \u001b[38;5;66;03m# string-length and datetime-unit discovery (like `arr.astype()`).\u001b[39;00m\n\u001b[0;32m   1011\u001b[0m     \u001b[38;5;66;03m# Due to chunking, certain error reports are less clear, currently.\u001b[39;00m\n\u001b[0;32m   1012\u001b[0m     \u001b[38;5;28;01mif\u001b[39;00m filelike:\n",
      "\u001b[1;31mValueError\u001b[0m: could not convert string '' to float64 at row 11, column 4."
     ]
    }
   ],
   "source": [
    "lending_company_data_nan = np.loadtxt('Lending-Company-Numeric-Data-NAN.csv', delimiter = \";\")\n",
    "lending_company_data_nan"
   ]
  },
  {
   "cell_type": "code",
   "execution_count": null,
   "id": "c41b30ac",
   "metadata": {},
   "outputs": [],
   "source": [
    "lending_company_data_nan = np.genfromtxt('Lending-Company-Numeric-Data-NAN.csv', delimiter = \";\")\n",
    "lending_company_data_nan"
   ]
  },
  {
   "cell_type": "code",
   "execution_count": null,
   "id": "8e2fcd21",
   "metadata": {},
   "outputs": [],
   "source": [
    "# the other way (with .loadtxt()) to print the data and let it not throw an error is...\n",
    "# When we only need to deliberately observe the data values & don't have to execute any Math. ops. \n",
    "# A better practise (Not throwing an error + not making it complex + its fast here)... ONLY WHEN WE NEED TO OBSERVE. \n",
    "\n",
    "\n",
    "lending_company_data_nan = np.loadtxt('Lending-Company-Numeric-Data-NAN.csv', \n",
    "                                       delimiter = \";\", \n",
    "                                       dtype = np.str_)\n",
    "lending_company_data_nan"
   ]
  },
  {
   "cell_type": "markdown",
   "id": "e2f1e8b1",
   "metadata": {},
   "source": [
    "# Partially Cleaning our Data set while Importing it. "
   ]
  },
  {
   "cell_type": "code",
   "execution_count": null,
   "id": "98bb2953",
   "metadata": {},
   "outputs": [],
   "source": [
    "lending_company_data_nan = np.genfromtxt('Lending-Company-Numeric-Data-NAN.csv', delimiter = \";\")\n",
    "lending_company_data_nan"
   ]
  },
  {
   "cell_type": "markdown",
   "id": "cea4201f",
   "metadata": {},
   "source": [
    "## .genfromtxt() function has dozens of parameter we can choose from..."
   ]
  },
  {
   "cell_type": "markdown",
   "id": "b593fa61",
   "metadata": {},
   "source": [
    "### removing the rows (unneccessary ones)."
   ]
  },
  {
   "cell_type": "code",
   "execution_count": null,
   "id": "85967dd7",
   "metadata": {},
   "outputs": [],
   "source": [
    "# ṛemoving the first two rows from the top (skip_header),\n",
    "# we can use this when there is unneccessary comments (like these) at the top \n",
    "\n",
    "lending_company_data_nan = np.genfromtxt('Lending-Company-Numeric-Data-NAN.csv', \n",
    "                                          delimiter = \";\",\n",
    "                                          skip_header= 2)\n",
    "lending_company_data_nan"
   ]
  },
  {
   "cell_type": "code",
   "execution_count": null,
   "id": "4f67ed68",
   "metadata": {},
   "outputs": [],
   "source": [
    "lending_company_data_nan = np.genfromtxt('Lending-Company-Numeric-Data-NAN.csv', \n",
    "                                          delimiter = \";\",\n",
    "                                          skip_footer= 2)\n",
    "lending_company_data_nan\n",
    "\n",
    "# ṛemoving the last two rows from the bottom (skip_footer),\n",
    "# we can use this when there is unneccessary comments (like these) at the bottom "
   ]
  },
  {
   "cell_type": "markdown",
   "id": "00574052",
   "metadata": {},
   "source": [
    "### removing the columns (unneccessary ones); More Precisely we're telling python which cols we want to see..."
   ]
  },
  {
   "cell_type": "code",
   "execution_count": null,
   "id": "47545ff8",
   "metadata": {},
   "outputs": [],
   "source": [
    "lending_company_data_nan = np.genfromtxt('Lending-Company-Numeric-Data-NAN.csv', \n",
    "                                          delimiter = \";\",\n",
    "                                          usecols= (1, 2))\n",
    "lending_company_data_nan"
   ]
  },
  {
   "cell_type": "code",
   "execution_count": null,
   "id": "53325cc8",
   "metadata": {},
   "outputs": [],
   "source": [
    "lending_company_data_nan = np.genfromtxt('Lending-Company-Numeric-Data-NAN.csv', \n",
    "                                          delimiter = \";\",\n",
    "                                          usecols= (0))\n",
    "lending_company_data_nan"
   ]
  },
  {
   "cell_type": "code",
   "execution_count": null,
   "id": "ba06e2da",
   "metadata": {},
   "outputs": [],
   "source": [
    "lending_company_data_nan = np.genfromtxt('Lending-Company-Numeric-Data-NAN.csv', \n",
    "                                          delimiter = \";\",\n",
    "                                          usecols= (0, 2, 4))\n",
    "lending_company_data_nan"
   ]
  },
  {
   "cell_type": "markdown",
   "id": "cd293016",
   "metadata": {},
   "source": [
    "### Combining skip_header/footers & usecols."
   ]
  },
  {
   "cell_type": "code",
   "execution_count": null,
   "id": "a621c356",
   "metadata": {},
   "outputs": [],
   "source": [
    "lending_company_data_nan = np.genfromtxt('Lending-Company-Numeric-Data-NAN.csv', \n",
    "                                          delimiter = \";\",\n",
    "                                          usecols = (0, 2, 4),\n",
    "                                          skip_header = 2,\n",
    "                                          skip_footer = 2)\n",
    "lending_company_data_nan"
   ]
  },
  {
   "cell_type": "markdown",
   "id": "9673b09e",
   "metadata": {},
   "source": [
    "### Separating the above three columns into three separate columns... (unpacking them into 3 separate columns.)"
   ]
  },
  {
   "cell_type": "code",
   "execution_count": null,
   "id": "9cb2474c",
   "metadata": {},
   "outputs": [],
   "source": [
    "# first naming the variables to store the three separate cols to store in...\n",
    "\n",
    "lending_company_data_3, lending_company_data_4, lending_company_data_5  = np.genfromtxt('Lending-Company-Numeric-Data-NAN.csv', \n",
    "                                          delimiter = \";\",\n",
    "                                          usecols = (0, 2, 4),\n",
    "                                          skip_header = 2,\n",
    "                                          skip_footer = 2)\n",
    "lending_company_data_nan"
   ]
  },
  {
   "cell_type": "code",
   "execution_count": null,
   "id": "3be01770",
   "metadata": {},
   "outputs": [],
   "source": [
    "# the above method only doesn't work... we have to use unpack parameter.\n",
    "# unpack = tells the data to split into the number of variables mentioned. (here 3)\n",
    "\n",
    "lending_company_data_3, lending_company_data_4, lending_company_data_5  = np.genfromtxt('Lending-Company-Numeric-Data-NAN.csv', \n",
    "                                                                                         delimiter = \";\",\n",
    "                                                                                         usecols = (0, 2, 4),\n",
    "                                                                                         skip_header = 2,\n",
    "                                                                                         skip_footer = 2,\n",
    "                                                                                         unpack = True)\n",
    "\n",
    "print(lending_company_data_3)\n",
    "print(lending_company_data_4)\n",
    "print(lending_company_data_5)"
   ]
  },
  {
   "cell_type": "markdown",
   "id": "1550f0dd",
   "metadata": {},
   "source": [
    "# Importing *.json Files."
   ]
  },
  {
   "cell_type": "markdown",
   "id": "032a2294",
   "metadata": {},
   "source": [
    "## - Human Readable."
   ]
  },
  {
   "cell_type": "markdown",
   "id": "9058c3a3",
   "metadata": {},
   "source": [
    "## - Universal Format."
   ]
  },
  {
   "cell_type": "markdown",
   "id": "226e8dd3",
   "metadata": {},
   "source": [
    "## - Organised as plain text."
   ]
  },
  {
   "cell_type": "markdown",
   "id": "033b1c92",
   "metadata": {},
   "source": [
    "## - A very Long String."
   ]
  },
  {
   "cell_type": "code",
   "execution_count": 36,
   "id": "6c273eec",
   "metadata": {},
   "outputs": [],
   "source": [
    "prices_per_products = '{\"Product A\": 22250, \"Product B\": 16600, \"Product C\": 15600}'"
   ]
  },
  {
   "cell_type": "code",
   "execution_count": 37,
   "id": "a9d1ff17",
   "metadata": {},
   "outputs": [
    {
     "data": {
      "text/plain": [
       "'{\"Product A\": 22250, \"Product B\": 16600, \"Product C\": 15600}'"
      ]
     },
     "execution_count": 37,
     "metadata": {},
     "output_type": "execute_result"
    }
   ],
   "source": [
    "prices_per_products"
   ]
  },
  {
   "cell_type": "code",
   "execution_count": 46,
   "id": "0954e190",
   "metadata": {},
   "outputs": [
    {
     "data": {
      "text/plain": [
       "str"
      ]
     },
     "execution_count": 46,
     "metadata": {},
     "output_type": "execute_result"
    }
   ],
   "source": [
    "type(prices_per_products)"
   ]
  },
  {
   "cell_type": "code",
   "execution_count": 47,
   "id": "38472616",
   "metadata": {},
   "outputs": [],
   "source": [
    "import json"
   ]
  },
  {
   "cell_type": "code",
   "execution_count": 48,
   "id": "e250d11a",
   "metadata": {},
   "outputs": [],
   "source": [
    "parsed_str = json.loads(prices_per_products)"
   ]
  },
  {
   "cell_type": "code",
   "execution_count": 49,
   "id": "f30e4de6",
   "metadata": {},
   "outputs": [
    {
     "data": {
      "text/plain": [
       "{'Product A': 22250, 'Product B': 16600, 'Product C': 15600}"
      ]
     },
     "execution_count": 49,
     "metadata": {},
     "output_type": "execute_result"
    }
   ],
   "source": [
    "parsed_str"
   ]
  },
  {
   "cell_type": "code",
   "execution_count": 51,
   "id": "d3c5a994",
   "metadata": {},
   "outputs": [
    {
     "data": {
      "text/plain": [
       "dict"
      ]
     },
     "execution_count": 51,
     "metadata": {},
     "output_type": "execute_result"
    }
   ],
   "source": [
    "type(parsed_str)"
   ]
  },
  {
   "cell_type": "code",
   "execution_count": 52,
   "id": "4f011877",
   "metadata": {},
   "outputs": [],
   "source": [
    "# most often we'd like to load the data in the tabular form therefore..."
   ]
  },
  {
   "cell_type": "code",
   "execution_count": 53,
   "id": "553c742c",
   "metadata": {},
   "outputs": [],
   "source": [
    "import pandas as pd"
   ]
  },
  {
   "cell_type": "code",
   "execution_count": 54,
   "id": "c06f9fc7",
   "metadata": {
    "collapsed": true
   },
   "outputs": [
    {
     "ename": "ValueError",
     "evalue": "Expected object or value",
     "output_type": "error",
     "traceback": [
      "\u001b[1;31m---------------------------------------------------------------------------\u001b[0m",
      "\u001b[1;31mValueError\u001b[0m                                Traceback (most recent call last)",
      "Cell \u001b[1;32mIn[54], line 1\u001b[0m\n\u001b[1;32m----> 1\u001b[0m df \u001b[38;5;241m=\u001b[39m \u001b[43mpd\u001b[49m\u001b[38;5;241;43m.\u001b[39;49m\u001b[43mread_json\u001b[49m\u001b[43m(\u001b[49m\u001b[38;5;124;43m'\u001b[39;49m\u001b[38;5;124;43mLending-company.json\u001b[39;49m\u001b[38;5;124;43m'\u001b[39;49m\u001b[43m)\u001b[49m\n\u001b[0;32m      2\u001b[0m df\n",
      "File \u001b[1;32m~\\anaconda3\\thing\\lib\\site-packages\\pandas\\util\\_decorators.py:211\u001b[0m, in \u001b[0;36mdeprecate_kwarg.<locals>._deprecate_kwarg.<locals>.wrapper\u001b[1;34m(*args, **kwargs)\u001b[0m\n\u001b[0;32m    209\u001b[0m     \u001b[38;5;28;01melse\u001b[39;00m:\n\u001b[0;32m    210\u001b[0m         kwargs[new_arg_name] \u001b[38;5;241m=\u001b[39m new_arg_value\n\u001b[1;32m--> 211\u001b[0m \u001b[38;5;28;01mreturn\u001b[39;00m func(\u001b[38;5;241m*\u001b[39margs, \u001b[38;5;241m*\u001b[39m\u001b[38;5;241m*\u001b[39mkwargs)\n",
      "File \u001b[1;32m~\\anaconda3\\thing\\lib\\site-packages\\pandas\\util\\_decorators.py:331\u001b[0m, in \u001b[0;36mdeprecate_nonkeyword_arguments.<locals>.decorate.<locals>.wrapper\u001b[1;34m(*args, **kwargs)\u001b[0m\n\u001b[0;32m    325\u001b[0m \u001b[38;5;28;01mif\u001b[39;00m \u001b[38;5;28mlen\u001b[39m(args) \u001b[38;5;241m>\u001b[39m num_allow_args:\n\u001b[0;32m    326\u001b[0m     warnings\u001b[38;5;241m.\u001b[39mwarn(\n\u001b[0;32m    327\u001b[0m         msg\u001b[38;5;241m.\u001b[39mformat(arguments\u001b[38;5;241m=\u001b[39m_format_argument_list(allow_args)),\n\u001b[0;32m    328\u001b[0m         \u001b[38;5;167;01mFutureWarning\u001b[39;00m,\n\u001b[0;32m    329\u001b[0m         stacklevel\u001b[38;5;241m=\u001b[39mfind_stack_level(),\n\u001b[0;32m    330\u001b[0m     )\n\u001b[1;32m--> 331\u001b[0m \u001b[38;5;28;01mreturn\u001b[39;00m func(\u001b[38;5;241m*\u001b[39margs, \u001b[38;5;241m*\u001b[39m\u001b[38;5;241m*\u001b[39mkwargs)\n",
      "File \u001b[1;32m~\\anaconda3\\thing\\lib\\site-packages\\pandas\\io\\json\\_json.py:757\u001b[0m, in \u001b[0;36mread_json\u001b[1;34m(path_or_buf, orient, typ, dtype, convert_axes, convert_dates, keep_default_dates, numpy, precise_float, date_unit, encoding, encoding_errors, lines, chunksize, compression, nrows, storage_options)\u001b[0m\n\u001b[0;32m    754\u001b[0m     \u001b[38;5;28;01mreturn\u001b[39;00m json_reader\n\u001b[0;32m    756\u001b[0m \u001b[38;5;28;01mwith\u001b[39;00m json_reader:\n\u001b[1;32m--> 757\u001b[0m     \u001b[38;5;28;01mreturn\u001b[39;00m \u001b[43mjson_reader\u001b[49m\u001b[38;5;241;43m.\u001b[39;49m\u001b[43mread\u001b[49m\u001b[43m(\u001b[49m\u001b[43m)\u001b[49m\n",
      "File \u001b[1;32m~\\anaconda3\\thing\\lib\\site-packages\\pandas\\io\\json\\_json.py:915\u001b[0m, in \u001b[0;36mJsonReader.read\u001b[1;34m(self)\u001b[0m\n\u001b[0;32m    913\u001b[0m         obj \u001b[38;5;241m=\u001b[39m \u001b[38;5;28mself\u001b[39m\u001b[38;5;241m.\u001b[39m_get_object_parser(\u001b[38;5;28mself\u001b[39m\u001b[38;5;241m.\u001b[39m_combine_lines(data_lines))\n\u001b[0;32m    914\u001b[0m \u001b[38;5;28;01melse\u001b[39;00m:\n\u001b[1;32m--> 915\u001b[0m     obj \u001b[38;5;241m=\u001b[39m \u001b[38;5;28;43mself\u001b[39;49m\u001b[38;5;241;43m.\u001b[39;49m\u001b[43m_get_object_parser\u001b[49m\u001b[43m(\u001b[49m\u001b[38;5;28;43mself\u001b[39;49m\u001b[38;5;241;43m.\u001b[39;49m\u001b[43mdata\u001b[49m\u001b[43m)\u001b[49m\n\u001b[0;32m    916\u001b[0m \u001b[38;5;28mself\u001b[39m\u001b[38;5;241m.\u001b[39mclose()\n\u001b[0;32m    917\u001b[0m \u001b[38;5;28;01mreturn\u001b[39;00m obj\n",
      "File \u001b[1;32m~\\anaconda3\\thing\\lib\\site-packages\\pandas\\io\\json\\_json.py:937\u001b[0m, in \u001b[0;36mJsonReader._get_object_parser\u001b[1;34m(self, json)\u001b[0m\n\u001b[0;32m    935\u001b[0m obj \u001b[38;5;241m=\u001b[39m \u001b[38;5;28;01mNone\u001b[39;00m\n\u001b[0;32m    936\u001b[0m \u001b[38;5;28;01mif\u001b[39;00m typ \u001b[38;5;241m==\u001b[39m \u001b[38;5;124m\"\u001b[39m\u001b[38;5;124mframe\u001b[39m\u001b[38;5;124m\"\u001b[39m:\n\u001b[1;32m--> 937\u001b[0m     obj \u001b[38;5;241m=\u001b[39m \u001b[43mFrameParser\u001b[49m\u001b[43m(\u001b[49m\u001b[43mjson\u001b[49m\u001b[43m,\u001b[49m\u001b[43m \u001b[49m\u001b[38;5;241;43m*\u001b[39;49m\u001b[38;5;241;43m*\u001b[39;49m\u001b[43mkwargs\u001b[49m\u001b[43m)\u001b[49m\u001b[38;5;241;43m.\u001b[39;49m\u001b[43mparse\u001b[49m\u001b[43m(\u001b[49m\u001b[43m)\u001b[49m\n\u001b[0;32m    939\u001b[0m \u001b[38;5;28;01mif\u001b[39;00m typ \u001b[38;5;241m==\u001b[39m \u001b[38;5;124m\"\u001b[39m\u001b[38;5;124mseries\u001b[39m\u001b[38;5;124m\"\u001b[39m \u001b[38;5;129;01mor\u001b[39;00m obj \u001b[38;5;129;01mis\u001b[39;00m \u001b[38;5;28;01mNone\u001b[39;00m:\n\u001b[0;32m    940\u001b[0m     \u001b[38;5;28;01mif\u001b[39;00m \u001b[38;5;129;01mnot\u001b[39;00m \u001b[38;5;28misinstance\u001b[39m(dtype, \u001b[38;5;28mbool\u001b[39m):\n",
      "File \u001b[1;32m~\\anaconda3\\thing\\lib\\site-packages\\pandas\\io\\json\\_json.py:1064\u001b[0m, in \u001b[0;36mParser.parse\u001b[1;34m(self)\u001b[0m\n\u001b[0;32m   1062\u001b[0m     \u001b[38;5;28mself\u001b[39m\u001b[38;5;241m.\u001b[39m_parse_numpy()\n\u001b[0;32m   1063\u001b[0m \u001b[38;5;28;01melse\u001b[39;00m:\n\u001b[1;32m-> 1064\u001b[0m     \u001b[38;5;28;43mself\u001b[39;49m\u001b[38;5;241;43m.\u001b[39;49m\u001b[43m_parse_no_numpy\u001b[49m\u001b[43m(\u001b[49m\u001b[43m)\u001b[49m\n\u001b[0;32m   1066\u001b[0m \u001b[38;5;28;01mif\u001b[39;00m \u001b[38;5;28mself\u001b[39m\u001b[38;5;241m.\u001b[39mobj \u001b[38;5;129;01mis\u001b[39;00m \u001b[38;5;28;01mNone\u001b[39;00m:\n\u001b[0;32m   1067\u001b[0m     \u001b[38;5;28;01mreturn\u001b[39;00m \u001b[38;5;28;01mNone\u001b[39;00m\n",
      "File \u001b[1;32m~\\anaconda3\\thing\\lib\\site-packages\\pandas\\io\\json\\_json.py:1321\u001b[0m, in \u001b[0;36mFrameParser._parse_no_numpy\u001b[1;34m(self)\u001b[0m\n\u001b[0;32m   1317\u001b[0m orient \u001b[38;5;241m=\u001b[39m \u001b[38;5;28mself\u001b[39m\u001b[38;5;241m.\u001b[39morient\n\u001b[0;32m   1319\u001b[0m \u001b[38;5;28;01mif\u001b[39;00m orient \u001b[38;5;241m==\u001b[39m \u001b[38;5;124m\"\u001b[39m\u001b[38;5;124mcolumns\u001b[39m\u001b[38;5;124m\"\u001b[39m:\n\u001b[0;32m   1320\u001b[0m     \u001b[38;5;28mself\u001b[39m\u001b[38;5;241m.\u001b[39mobj \u001b[38;5;241m=\u001b[39m DataFrame(\n\u001b[1;32m-> 1321\u001b[0m         \u001b[43mloads\u001b[49m\u001b[43m(\u001b[49m\u001b[43mjson\u001b[49m\u001b[43m,\u001b[49m\u001b[43m \u001b[49m\u001b[43mprecise_float\u001b[49m\u001b[38;5;241;43m=\u001b[39;49m\u001b[38;5;28;43mself\u001b[39;49m\u001b[38;5;241;43m.\u001b[39;49m\u001b[43mprecise_float\u001b[49m\u001b[43m)\u001b[49m, dtype\u001b[38;5;241m=\u001b[39m\u001b[38;5;28;01mNone\u001b[39;00m\n\u001b[0;32m   1322\u001b[0m     )\n\u001b[0;32m   1323\u001b[0m \u001b[38;5;28;01melif\u001b[39;00m orient \u001b[38;5;241m==\u001b[39m \u001b[38;5;124m\"\u001b[39m\u001b[38;5;124msplit\u001b[39m\u001b[38;5;124m\"\u001b[39m:\n\u001b[0;32m   1324\u001b[0m     decoded \u001b[38;5;241m=\u001b[39m {\n\u001b[0;32m   1325\u001b[0m         \u001b[38;5;28mstr\u001b[39m(k): v\n\u001b[0;32m   1326\u001b[0m         \u001b[38;5;28;01mfor\u001b[39;00m k, v \u001b[38;5;129;01min\u001b[39;00m loads(json, precise_float\u001b[38;5;241m=\u001b[39m\u001b[38;5;28mself\u001b[39m\u001b[38;5;241m.\u001b[39mprecise_float)\u001b[38;5;241m.\u001b[39mitems()\n\u001b[0;32m   1327\u001b[0m     }\n",
      "\u001b[1;31mValueError\u001b[0m: Expected object or value"
     ]
    }
   ],
   "source": [
    "df = pd.read_json('Lending-company.json')\n",
    "df"
   ]
  },
  {
   "cell_type": "code",
   "execution_count": null,
   "id": "87c0c09b",
   "metadata": {},
   "outputs": [],
   "source": [
    "type(df)"
   ]
  },
  {
   "cell_type": "markdown",
   "id": "09ec1cd3",
   "metadata": {},
   "source": [
    "# Working With Excel (.xlsx) Files in Python."
   ]
  },
  {
   "cell_type": "markdown",
   "id": "f8a2dda1",
   "metadata": {},
   "source": [
    "## Most of the cleaning we'll do with python initially is in .csv -> .xlsx format."
   ]
  },
  {
   "cell_type": "code",
   "execution_count": null,
   "id": "b28a0023",
   "metadata": {},
   "outputs": [],
   "source": [
    "filename = 'Lending-Company-Numeric-Data.xlsx'\n",
    "data = pd.read_excel(filename, )\n",
    "data"
   ]
  },
  {
   "cell_type": "code",
   "execution_count": null,
   "id": "528573a3",
   "metadata": {},
   "outputs": [],
   "source": [
    "filename = 'Lending-Company-Numeric-Data.xlsx'\n",
    "data = pd.read_excel(filename, index_col = 'LoanID')\n",
    "data"
   ]
  },
  {
   "cell_type": "markdown",
   "id": "4c5e0dd3",
   "metadata": {},
   "source": [
    "# Understanding the Potential of .read_csv()"
   ]
  },
  {
   "cell_type": "code",
   "execution_count": null,
   "id": "2ad543bb",
   "metadata": {},
   "outputs": [],
   "source": [
    "location_data = pd.read_csv('Lending-company.csv', \n",
    "                             usecols = ['LoanID', 'StringID', 'CustomerGender', 'TotalPrice'], \n",
    "                             index_col = 'LoanID')\n",
    "location_data[29:40] "
   ]
  },
  {
   "cell_type": "code",
   "execution_count": null,
   "id": "abaaec5f",
   "metadata": {},
   "outputs": [],
   "source": [
    "# until this point all we've done is the part of Data Collection Process (next Squeeze method too.)"
   ]
  },
  {
   "cell_type": "markdown",
   "id": "57761983",
   "metadata": {},
   "source": [
    "# Importing Data With the Pandas Squeeze Method."
   ]
  },
  {
   "cell_type": "code",
   "execution_count": null,
   "id": "d61c0f44",
   "metadata": {},
   "outputs": [],
   "source": [
    "df = pd.read_csv('Lending-company.csv')\n",
    "df.head()"
   ]
  },
  {
   "cell_type": "code",
   "execution_count": null,
   "id": "bdd703e5",
   "metadata": {},
   "outputs": [],
   "source": [
    "type(df)"
   ]
  },
  {
   "cell_type": "code",
   "execution_count": null,
   "id": "5c3baf47",
   "metadata": {},
   "outputs": [],
   "source": [
    "df_usecols = pd.read_csv('Lending-company.csv', usecols = ['Product'])\n",
    "df_usecols.head(5)"
   ]
  },
  {
   "cell_type": "code",
   "execution_count": null,
   "id": "544a6676",
   "metadata": {},
   "outputs": [],
   "source": [
    "type(df_usecols)"
   ]
  },
  {
   "cell_type": "code",
   "execution_count": null,
   "id": "cf0f8f07",
   "metadata": {},
   "outputs": [],
   "source": [
    "data = pd.read_csv('Lending-company.csv', usecols = ['Product'])\n",
    "df_squeeze = data.squeeze('columns')\n",
    "df_squeeze.head()"
   ]
  },
  {
   "cell_type": "code",
   "execution_count": null,
   "id": "6b20e096",
   "metadata": {},
   "outputs": [],
   "source": [
    "type(df_squeeze)"
   ]
  },
  {
   "cell_type": "code",
   "execution_count": null,
   "id": "dbc219ee",
   "metadata": {},
   "outputs": [],
   "source": [
    "data = pd.read_csv('Lending-company.csv', usecols = ['Product'])\n",
    "df_squeeze = data.squeeze('rows')\n",
    "df_squeeze.head()"
   ]
  },
  {
   "cell_type": "code",
   "execution_count": null,
   "id": "88655b7d",
   "metadata": {},
   "outputs": [],
   "source": [
    "type(df_squeeze)"
   ]
  },
  {
   "cell_type": "code",
   "execution_count": null,
   "id": "ba72cbc4",
   "metadata": {},
   "outputs": [],
   "source": [
    "# Some Violent Confusion :>\n",
    "\n",
    "data = pd.read_csv('Lending-company.csv', usecols = ['Product'])\n",
    "df_squeeze_0 = data.squeeze('columns')\n",
    "df_squeeze_1 = data.squeeze('rows')\n",
    "df_squeeze_1.head()\n",
    "df_squeeze_0.head()"
   ]
  },
  {
   "cell_type": "markdown",
   "id": "4c7063b2",
   "metadata": {},
   "source": [
    "# Exporting(Saving) Data From A Python Object into a Text File. (using Pandas)"
   ]
  },
  {
   "cell_type": "code",
   "execution_count": null,
   "id": "75bee110",
   "metadata": {},
   "outputs": [],
   "source": [
    "filename = 'Lending-company.csv'\n",
    "myData = pd.read_csv(filename)\n",
    "myData.head(5)"
   ]
  },
  {
   "cell_type": "code",
   "execution_count": null,
   "id": "9467a6c0",
   "metadata": {},
   "outputs": [],
   "source": [
    "# exporting in the form of a csv itself.\n",
    "myData.to_csv('exported-csv-file.csv') "
   ]
  },
  {
   "cell_type": "code",
   "execution_count": null,
   "id": "0b8cf85f",
   "metadata": {},
   "outputs": [],
   "source": [
    "# exporting in the form of a json file\n",
    "myData.to_json('exported-json-file.json')"
   ]
  },
  {
   "cell_type": "code",
   "execution_count": null,
   "id": "63342317",
   "metadata": {},
   "outputs": [],
   "source": [
    "# exporting in the form of a excel file\n",
    "myData.to_excel('exported-excel-file.xlsx')"
   ]
  },
  {
   "cell_type": "code",
   "execution_count": null,
   "id": "723a7b8e",
   "metadata": {},
   "outputs": [],
   "source": [
    "# exporting in the form of a excel file\n",
    "# removing the default index\n",
    "myData.to_excel('exported-excel-file.xlsx', index = False) "
   ]
  },
  {
   "cell_type": "markdown",
   "id": "34827e69",
   "metadata": {},
   "source": [
    "# Exporting(Saving) Data From A Python Object into a Text File. (using NumPy)"
   ]
  },
  {
   "cell_type": "markdown",
   "id": "c641c353",
   "metadata": {},
   "source": [
    "## np.save()"
   ]
  },
  {
   "cell_type": "code",
   "execution_count": null,
   "id": "8268b6ba",
   "metadata": {},
   "outputs": [],
   "source": [
    "# package already imported"
   ]
  },
  {
   "cell_type": "code",
   "execution_count": 36,
   "id": "44993645",
   "metadata": {},
   "outputs": [
    {
     "name": "stdout",
     "output_type": "stream",
     "text": [
      "[['LoanID' 'StringID' 'Product' ... 'Location' 'Region' 'TotalPrice']\n",
      " ['1' 'id_1' 'Product B' ... 'Location 2' 'Region 2' '16600.0']\n",
      " ['2' 'id_2' 'Product B' ... 'Location 3' '' '16600.0']\n",
      " ...\n",
      " ['1041' 'id_1041' 'Product B' ... 'Location 23' 'Region 4' '16600.0']\n",
      " ['1042' 'id_1042' 'Product C' ... 'Location 52' 'Region 6' '15600.0']\n",
      " ['1043' 'id_1043' 'Product B' ... 'Location 142' 'Region 6' '16600.0']]\n"
     ]
    }
   ],
   "source": [
    "lending_co = np.genfromtxt('Lending-Company-Saving.csv', \n",
    "                           delimiter = ',', \n",
    "                           dtype = np.str_)\n",
    "print(lending_co)"
   ]
  },
  {
   "cell_type": "code",
   "execution_count": 37,
   "id": "ba34ab6c",
   "metadata": {},
   "outputs": [],
   "source": [
    "np.save('Lending-Company-Saving', lending_co)  # creates an 'file-name.npy' file in the same dir. as our n/b.  # this saves"
   ]
  },
  {
   "cell_type": "code",
   "execution_count": 40,
   "id": "89975cfa",
   "metadata": {},
   "outputs": [],
   "source": [
    "lending_data_save = np.load('Lending-Company-Saving.npy') # this loads. (does not import just loads)"
   ]
  },
  {
   "cell_type": "code",
   "execution_count": 41,
   "id": "f71cfd40",
   "metadata": {},
   "outputs": [
    {
     "name": "stdout",
     "output_type": "stream",
     "text": [
      "[['LoanID' 'StringID' 'Product' ... 'Location' 'Region' 'TotalPrice']\n",
      " ['1' 'id_1' 'Product B' ... 'Location 2' 'Region 2' '16600.0']\n",
      " ['2' 'id_2' 'Product B' ... 'Location 3' '' '16600.0']\n",
      " ...\n",
      " ['1041' 'id_1041' 'Product B' ... 'Location 23' 'Region 4' '16600.0']\n",
      " ['1042' 'id_1042' 'Product C' ... 'Location 52' 'Region 6' '15600.0']\n",
      " ['1043' 'id_1043' 'Product B' ... 'Location 142' 'Region 6' '16600.0']]\n"
     ]
    }
   ],
   "source": [
    "print(lending_data_save)"
   ]
  },
  {
   "cell_type": "code",
   "execution_count": null,
   "id": "b78ce416",
   "metadata": {},
   "outputs": [],
   "source": [
    "np.array_equal(lending_data_save, lending_co)"
   ]
  },
  {
   "cell_type": "markdown",
   "id": "bc39f67c",
   "metadata": {},
   "source": [
    "## np.savez()"
   ]
  },
  {
   "cell_type": "code",
   "execution_count": null,
   "id": "09edd351",
   "metadata": {},
   "outputs": [],
   "source": [
    "lending_co = np.genfromtxt('Lending-Company-Saving.csv', \n",
    "                           delimiter = ',', \n",
    "                           dtype = np.str_)\n",
    "lending_data_save = np.load('Lending-Company-Saving.npy') \n",
    "# we loaded the file. "
   ]
  },
  {
   "cell_type": "code",
   "execution_count": 42,
   "id": "546440a9",
   "metadata": {},
   "outputs": [],
   "source": [
    "np.savez('Lending-Company-Saving', lending_co, lending_data_save)  \n",
    "# np.savez does not create a .npy file it creates a .npz file\n",
    "# Like an archive of multiple arrays that can store multiple .npy files."
   ]
  },
  {
   "cell_type": "code",
   "execution_count": 44,
   "id": "76e68d00",
   "metadata": {},
   "outputs": [],
   "source": [
    "lending_data_savez = np.load('Lending-Company-Saving.npz')"
   ]
  },
  {
   "cell_type": "code",
   "execution_count": 48,
   "id": "519d7b73-d87f-45f6-bd6a-03f53245e805",
   "metadata": {},
   "outputs": [
    {
     "name": "stdout",
     "output_type": "stream",
     "text": [
      "[['LoanID' 'StringID' 'Product' ... 'Location' 'Region' 'TotalPrice']\n",
      " ['1' 'id_1' 'Product B' ... 'Location 2' 'Region 2' '16600.0']\n",
      " ['2' 'id_2' 'Product B' ... 'Location 3' '' '16600.0']\n",
      " ...\n",
      " ['1041' 'id_1041' 'Product B' ... 'Location 23' 'Region 4' '16600.0']\n",
      " ['1042' 'id_1042' 'Product C' ... 'Location 52' 'Region 6' '15600.0']\n",
      " ['1043' 'id_1043' 'Product B' ... 'Location 142' 'Region 6' '16600.0']]\n"
     ]
    }
   ],
   "source": [
    "print(lending_data_savez[\"arr_0\"])"
   ]
  },
  {
   "cell_type": "code",
   "execution_count": 49,
   "id": "e4338309-4f79-41f2-8c17-70aeebb8d668",
   "metadata": {},
   "outputs": [],
   "source": [
    "np.savez('Lending-Company-Saving', company = lending_co, data_save = lending_data_save)"
   ]
  },
  {
   "cell_type": "code",
   "execution_count": 51,
   "id": "3b3ff8dc-ebfe-48ba-9dd8-c6fcabc538b4",
   "metadata": {},
   "outputs": [],
   "source": [
    "lending_data_savez = np.load('Lending-Company-Saving.npz')"
   ]
  },
  {
   "cell_type": "code",
   "execution_count": 53,
   "id": "dde306e0-006d-4eb8-b3bc-5a648c92b2d3",
   "metadata": {},
   "outputs": [
    {
     "data": {
      "text/plain": [
       "['company', 'data_save']"
      ]
     },
     "execution_count": 53,
     "metadata": {},
     "output_type": "execute_result"
    }
   ],
   "source": [
    "lending_data_savez.files \n",
    "# now we don't need to access the files using arr_0 or arr_1 and so on. Instead we can use the file names we gave above."
   ]
  },
  {
   "cell_type": "code",
   "execution_count": 54,
   "id": "5ac064fe-d767-4df4-b52d-e890a48a0b53",
   "metadata": {},
   "outputs": [
    {
     "name": "stdout",
     "output_type": "stream",
     "text": [
      "[['LoanID' 'StringID' 'Product' ... 'Location' 'Region' 'TotalPrice']\n",
      " ['1' 'id_1' 'Product B' ... 'Location 2' 'Region 2' '16600.0']\n",
      " ['2' 'id_2' 'Product B' ... 'Location 3' '' '16600.0']\n",
      " ...\n",
      " ['1041' 'id_1041' 'Product B' ... 'Location 23' 'Region 4' '16600.0']\n",
      " ['1042' 'id_1042' 'Product C' ... 'Location 52' 'Region 6' '15600.0']\n",
      " ['1043' 'id_1043' 'Product B' ... 'Location 142' 'Region 6' '16600.0']]\n"
     ]
    }
   ],
   "source": [
    "print(lending_data_savez[\"company\"])"
   ]
  },
  {
   "cell_type": "code",
   "execution_count": 55,
   "id": "dd1aa49a-55cc-4a24-b5aa-9c2f39ea1b49",
   "metadata": {},
   "outputs": [
    {
     "name": "stdout",
     "output_type": "stream",
     "text": [
      "[['LoanID' 'StringID' 'Product' ... 'Location' 'Region' 'TotalPrice']\n",
      " ['1' 'id_1' 'Product B' ... 'Location 2' 'Region 2' '16600.0']\n",
      " ['2' 'id_2' 'Product B' ... 'Location 3' '' '16600.0']\n",
      " ...\n",
      " ['1041' 'id_1041' 'Product B' ... 'Location 23' 'Region 4' '16600.0']\n",
      " ['1042' 'id_1042' 'Product C' ... 'Location 52' 'Region 6' '15600.0']\n",
      " ['1043' 'id_1043' 'Product B' ... 'Location 142' 'Region 6' '16600.0']]\n"
     ]
    }
   ],
   "source": [
    "print(lending_data_savez[\"data_save\"]) "
   ]
  },
  {
   "cell_type": "raw",
   "id": "3adc5b4f-285f-4a18-a863-36eb2740dfdd",
   "metadata": {},
   "source": [
    "So what we have to understand here is that we're saving .npy and .npz files from an open .csv file in python using numpy, the file used here is Lending-Company.csv file and we saved it first using np.save(which makes a single .npy file) and then we used np.savez(which makes multiple .npy files in the name of .npz file). p.s- we can name as many .npy file names in np.savez syntax and then access them using those very names or we can access them using arr_0, arr_1 .... arr_(n-1) where n is the number of .npy files we intended to make out .csv files."
   ]
  },
  {
   "cell_type": "code",
   "execution_count": 57,
   "id": "781ad6b7-afc4-4aaa-a6bb-28a038b71a04",
   "metadata": {},
   "outputs": [
    {
     "data": {
      "text/plain": [
       "True"
      ]
     },
     "execution_count": 57,
     "metadata": {},
     "output_type": "execute_result"
    }
   ],
   "source": [
    "np.array_equal(lending_data_savez[\"company\"], lending_data_savez[\"data_save\"])\n",
    "# they're both the same. "
   ]
  },
  {
   "cell_type": "markdown",
   "id": "52409a82",
   "metadata": {},
   "source": [
    "## np.savetxt()"
   ]
  },
  {
   "cell_type": "raw",
   "id": "db5319b3-37a5-4a35-abeb-e81a1e871317",
   "metadata": {},
   "source": [
    "Now saving the files in a more traditional txt formal. Until now we did .npy and .npz"
   ]
  },
  {
   "cell_type": "code",
   "execution_count": 59,
   "id": "a330b18c-79c3-4725-9eb3-3280616cf615",
   "metadata": {},
   "outputs": [],
   "source": [
    "lending_co = np.genfromtxt('Lending-Company-Saving.csv', \n",
    "                           delimiter = ',', \n",
    "                           dtype = np.str_)"
   ]
  },
  {
   "cell_type": "code",
   "execution_count": 61,
   "id": "339a5b3f-3f1e-4f40-98f0-390a60d07771",
   "metadata": {},
   "outputs": [],
   "source": [
    "np.savetxt('Lending-Company-Saving.txt', \n",
    "            lending_co, \n",
    "            fmt = '%s',\n",
    "            delimiter = ',') "
   ]
  },
  {
   "cell_type": "code",
   "execution_count": 62,
   "id": "5e18e720-9265-43b0-85fe-46088e21466e",
   "metadata": {},
   "outputs": [
    {
     "name": "stdout",
     "output_type": "stream",
     "text": [
      "[['LoanID' 'StringID' 'Product' ... 'Location' 'Region' 'TotalPrice']\n",
      " ['1' 'id_1' 'Product B' ... 'Location 2' 'Region 2' '16600.0']\n",
      " ['2' 'id_2' 'Product B' ... 'Location 3' '' '16600.0']\n",
      " ...\n",
      " ['1041' 'id_1041' 'Product B' ... 'Location 23' 'Region 4' '16600.0']\n",
      " ['1042' 'id_1042' 'Product C' ... 'Location 52' 'Region 6' '15600.0']\n",
      " ['1043' 'id_1043' 'Product B' ... 'Location 142' 'Region 6' '16600.0']]\n"
     ]
    }
   ],
   "source": [
    "lending_data_savetxt = np.genfromtxt('Lending-Company-Saving.txt', \n",
    "                                     delimiter = ',',\n",
    "                                     dtype = np.str_)\n",
    "print(lending_data_savetxt)"
   ]
  },
  {
   "cell_type": "code",
   "execution_count": 63,
   "id": "26bf2699-077c-478d-8c1b-3feeb3e101c8",
   "metadata": {},
   "outputs": [],
   "source": [
    "lending_data_save = np.load('Lending-Company-Saving.npy')"
   ]
  },
  {
   "cell_type": "code",
   "execution_count": 64,
   "id": "5359b233-f3ce-4be4-986d-397aa0ff7f41",
   "metadata": {},
   "outputs": [
    {
     "data": {
      "text/plain": [
       "True"
      ]
     },
     "execution_count": 64,
     "metadata": {},
     "output_type": "execute_result"
    }
   ],
   "source": [
    "np.array_equal(lending_data_savetxt, lending_data_save)"
   ]
  },
  {
   "cell_type": "markdown",
   "id": "e67d99ab-3a09-4f24-a0e8-e1bb661d566d",
   "metadata": {},
   "source": [
    "# Working with Text Data and Argument Specifiers."
   ]
  },
  {
   "cell_type": "code",
   "execution_count": 6,
   "id": "b7d51058-1f6e-499d-86a6-cc2c29df2b73",
   "metadata": {},
   "outputs": [
    {
     "name": "stdout",
     "output_type": "stream",
     "text": [
      "This item is from Product Category B.\n"
     ]
    }
   ],
   "source": [
    "product_category = 'B'\n",
    "print('This item is from Product Category %s.' % product_category) "
   ]
  },
  {
   "cell_type": "code",
   "execution_count": 9,
   "id": "8219cc6c-88cf-4500-990f-36fb8905f58d",
   "metadata": {},
   "outputs": [
    {
     "name": "stdout",
     "output_type": "stream",
     "text": [
      "This item is from Product Category A.\n"
     ]
    }
   ],
   "source": [
    "product_category = ['A', 'B']\n",
    "print('This item is from Product Category %s.' % product_category[0]) "
   ]
  },
  {
   "cell_type": "code",
   "execution_count": 11,
   "id": "8fe033cb-524d-42f1-8160-572a893641b9",
   "metadata": {},
   "outputs": [
    {
     "name": "stdout",
     "output_type": "stream",
     "text": [
      "This item is of quantity: 600.\n"
     ]
    }
   ],
   "source": [
    "quantities = [500, 600]\n",
    "print('This item is of quantity: %d.' % quantities[1])"
   ]
  },
  {
   "cell_type": "code",
   "execution_count": 13,
   "id": "ef30c84e-3792-4868-96bf-f71e76dacc89",
   "metadata": {},
   "outputs": [
    {
     "name": "stdout",
     "output_type": "stream",
     "text": [
      "This stock costs $40.50 per share.\n"
     ]
    }
   ],
   "source": [
    "stock_share_price_list = [40.50, 60.35]\n",
    "print('This stock costs $%.2f per share.' % stock_share_price_list[0])\n",
    "\n",
    "# why dollar here?"
   ]
  },
  {
   "cell_type": "code",
   "execution_count": 16,
   "id": "0dd9b5de-0a6d-418e-98bf-186432227123",
   "metadata": {},
   "outputs": [
    {
     "name": "stdout",
     "output_type": "stream",
     "text": [
      "Currently we have 500 units of category A products in store.\n"
     ]
    }
   ],
   "source": [
    "i = 0\n",
    "print('Currently we have %d units of category %s products in store.' % (quantities[i], product_category[i]))"
   ]
  },
  {
   "cell_type": "markdown",
   "id": "062b27a0-73d0-44df-993f-8790be2b0230",
   "metadata": {},
   "source": [
    "## Manipulating Python Strings."
   ]
  },
  {
   "cell_type": "code",
   "execution_count": 22,
   "id": "307a9b69-fcc8-46a5-8c4a-69ddf96b42cc",
   "metadata": {},
   "outputs": [
    {
     "name": "stdout",
     "output_type": "stream",
     "text": [
      "this product is from \n",
      "category \"A\".\n"
     ]
    }
   ],
   "source": [
    "print('this product is from \\ncategory \"A\".')"
   ]
  },
  {
   "cell_type": "code",
   "execution_count": 25,
   "id": "8d70b1cb-fa4d-4bd0-ae34-0b31a9b114a9",
   "metadata": {},
   "outputs": [
    {
     "name": "stdout",
     "output_type": "stream",
     "text": [
      "this product is from category \"A\".\t this product is from category \"B\".\n"
     ]
    }
   ],
   "source": [
    "print('this product is from category \"A\".' + '\\t this product is from category \"B\".')"
   ]
  },
  {
   "cell_type": "code",
   "execution_count": 21,
   "id": "7451f8cc-97d7-4648-bd9c-e29fc8ab8371",
   "metadata": {},
   "outputs": [
    {
     "name": "stdout",
     "output_type": "stream",
     "text": [
      "Product 01ct is from category \"A\". \n"
     ]
    }
   ],
   "source": [
    "print('this product is from category \"A\". \\rProduct 01')"
   ]
  },
  {
   "cell_type": "markdown",
   "id": "94347780-a41d-4c23-bf51-c6cb50f382f8",
   "metadata": {},
   "source": [
    "## Python String Methods "
   ]
  },
  {
   "cell_type": "code",
   "execution_count": 26,
   "id": "cf04ae28-4d4a-4b29-8ddf-18b5b2441fcd",
   "metadata": {},
   "outputs": [
    {
     "data": {
      "text/plain": [
       "'Price per unit'"
      ]
     },
     "execution_count": 26,
     "metadata": {},
     "output_type": "execute_result"
    }
   ],
   "source": [
    "s = 'Price per unit'\n",
    "s"
   ]
  },
  {
   "cell_type": "code",
   "execution_count": 27,
   "id": "c84da322-3901-4f0b-b0d5-ab1ddf8033b4",
   "metadata": {},
   "outputs": [
    {
     "data": {
      "text/plain": [
       "'Cost per unit'"
      ]
     },
     "execution_count": 27,
     "metadata": {},
     "output_type": "execute_result"
    }
   ],
   "source": [
    "s1 = s.replace(\"Price\", \"Cost\")\n",
    "s1"
   ]
  },
  {
   "cell_type": "code",
   "execution_count": 28,
   "id": "98eb6b9e-d18e-4fce-b18f-482228dbcb8d",
   "metadata": {},
   "outputs": [
    {
     "data": {
      "text/plain": [
       "True"
      ]
     },
     "execution_count": 28,
     "metadata": {},
     "output_type": "execute_result"
    }
   ],
   "source": [
    "s1.startswith('Cost')"
   ]
  },
  {
   "cell_type": "code",
   "execution_count": 30,
   "id": "10ae7a5b-f0ce-4d77-81c2-d6ddcb6b6b20",
   "metadata": {},
   "outputs": [
    {
     "data": {
      "text/plain": [
       "True"
      ]
     },
     "execution_count": 30,
     "metadata": {},
     "output_type": "execute_result"
    }
   ],
   "source": [
    "s1.endswith('it')\n",
    "\n",
    "# does not need to be an entire word."
   ]
  },
  {
   "cell_type": "code",
   "execution_count": 31,
   "id": "5e1e995b-29c8-4b0f-b7a8-69d47227d9a1",
   "metadata": {},
   "outputs": [
    {
     "data": {
      "text/plain": [
       "'Cost per unit'"
      ]
     },
     "execution_count": 31,
     "metadata": {},
     "output_type": "execute_result"
    }
   ],
   "source": [
    "s1"
   ]
  },
  {
   "cell_type": "code",
   "execution_count": 32,
   "id": "b5fc2a3b-fc4b-4a25-9dde-6e6b39876fbf",
   "metadata": {},
   "outputs": [
    {
     "data": {
      "text/plain": [
       "['Cost', 'per', 'unit']"
      ]
     },
     "execution_count": 32,
     "metadata": {},
     "output_type": "execute_result"
    }
   ],
   "source": [
    "s1.split()"
   ]
  },
  {
   "cell_type": "code",
   "execution_count": 33,
   "id": "6a348a16-c15b-4eaa-af40-31a57fb38f18",
   "metadata": {},
   "outputs": [
    {
     "data": {
      "text/plain": [
       "['Cost', 'per', 'unit']"
      ]
     },
     "execution_count": 33,
     "metadata": {},
     "output_type": "execute_result"
    }
   ],
   "source": [
    "s1.split(' ')"
   ]
  },
  {
   "cell_type": "code",
   "execution_count": 35,
   "id": "8e426f4d-1c5d-4799-97e6-ea61942eac8f",
   "metadata": {},
   "outputs": [
    {
     "data": {
      "text/plain": [
       "['Cost ', ' unit']"
      ]
     },
     "execution_count": 35,
     "metadata": {},
     "output_type": "execute_result"
    }
   ],
   "source": [
    "s1.split('per')"
   ]
  },
  {
   "cell_type": "code",
   "execution_count": 36,
   "id": "cc9d797f-cc8d-4c95-8173-166c79739aec",
   "metadata": {},
   "outputs": [
    {
     "data": {
      "text/plain": [
       "['Cost per unit']"
      ]
     },
     "execution_count": 36,
     "metadata": {},
     "output_type": "execute_result"
    }
   ],
   "source": [
    "s1.split(' ', maxsplit = 0)"
   ]
  },
  {
   "cell_type": "code",
   "execution_count": 37,
   "id": "f90881bd-7a73-4fc2-bfa4-bce67a4183b3",
   "metadata": {},
   "outputs": [],
   "source": [
    "s2 = 'Mr., John, Wilson'"
   ]
  },
  {
   "cell_type": "code",
   "execution_count": 38,
   "id": "c5ec6168-9a7a-47ba-acef-b286457cf520",
   "metadata": {},
   "outputs": [
    {
     "data": {
      "text/plain": [
       "['Mr.', ' John', ' Wilson']"
      ]
     },
     "execution_count": 38,
     "metadata": {},
     "output_type": "execute_result"
    }
   ],
   "source": [
    "s2.split(',')"
   ]
  },
  {
   "cell_type": "code",
   "execution_count": 39,
   "id": "ea074813-6ad7-4b1c-8729-f02edad4bfa1",
   "metadata": {},
   "outputs": [
    {
     "data": {
      "text/plain": [
       "'Mr.'"
      ]
     },
     "execution_count": 39,
     "metadata": {},
     "output_type": "execute_result"
    }
   ],
   "source": [
    "s2.split(',')[0]"
   ]
  },
  {
   "cell_type": "code",
   "execution_count": 40,
   "id": "0833f50f-598d-426b-8176-dec852a58ed3",
   "metadata": {},
   "outputs": [
    {
     "data": {
      "text/plain": [
       "' John'"
      ]
     },
     "execution_count": 40,
     "metadata": {},
     "output_type": "execute_result"
    }
   ],
   "source": [
    "s2.split(',')[1]"
   ]
  },
  {
   "cell_type": "code",
   "execution_count": 42,
   "id": "cb94ef5d-2038-4080-a91a-f04992de39f6",
   "metadata": {},
   "outputs": [
    {
     "data": {
      "text/plain": [
       "'Mrs. Amy Moore'"
      ]
     },
     "execution_count": 42,
     "metadata": {},
     "output_type": "execute_result"
    }
   ],
   "source": [
    "s3 = 'Mrs. Amy Moore'\n",
    "s3"
   ]
  },
  {
   "cell_type": "code",
   "execution_count": 43,
   "id": "fc63267a-0324-40fa-a26f-592bb70368f0",
   "metadata": {},
   "outputs": [
    {
     "data": {
      "text/plain": [
       "'MRS. AMY MOORE'"
      ]
     },
     "execution_count": 43,
     "metadata": {},
     "output_type": "execute_result"
    }
   ],
   "source": [
    "s3.upper()"
   ]
  },
  {
   "cell_type": "code",
   "execution_count": 44,
   "id": "e107effb-9098-4f3e-b875-436cd34a2f38",
   "metadata": {},
   "outputs": [
    {
     "data": {
      "text/plain": [
       "'Mrs. Amy Moore'"
      ]
     },
     "execution_count": 44,
     "metadata": {},
     "output_type": "execute_result"
    }
   ],
   "source": [
    "s3.title()"
   ]
  },
  {
   "cell_type": "code",
   "execution_count": 45,
   "id": "5b2a8022-d548-44c9-8904-6cd8ba6d59ef",
   "metadata": {},
   "outputs": [
    {
     "data": {
      "text/plain": [
       "'Mrs. Amy Moore'"
      ]
     },
     "execution_count": 45,
     "metadata": {},
     "output_type": "execute_result"
    }
   ],
   "source": [
    "s3 == s3.title()\n",
    "s3"
   ]
  },
  {
   "cell_type": "code",
   "execution_count": 46,
   "id": "8027f575-85d6-423a-8b64-32e94d2e1991",
   "metadata": {},
   "outputs": [],
   "source": [
    "s4 = '  quarterly earnings report  '"
   ]
  },
  {
   "cell_type": "code",
   "execution_count": 47,
   "id": "ff32d780-a417-4407-9e76-248b6be77f71",
   "metadata": {},
   "outputs": [
    {
     "data": {
      "text/plain": [
       "'quarterly earnings report'"
      ]
     },
     "execution_count": 47,
     "metadata": {},
     "output_type": "execute_result"
    }
   ],
   "source": [
    "s4.strip()"
   ]
  },
  {
   "cell_type": "code",
   "execution_count": 48,
   "id": "b69ff97a-e5e1-4d6d-83c4-ab98d0dc340c",
   "metadata": {},
   "outputs": [
    {
     "data": {
      "text/plain": [
       "'quarterly earnings report'"
      ]
     },
     "execution_count": 48,
     "metadata": {},
     "output_type": "execute_result"
    }
   ],
   "source": [
    "s4.strip(' ')"
   ]
  },
  {
   "cell_type": "code",
   "execution_count": 50,
   "id": "a2a3159e-2217-411b-b2da-6a532bb05544",
   "metadata": {},
   "outputs": [
    {
     "data": {
      "text/plain": [
       "'quarterly earnings report'"
      ]
     },
     "execution_count": 50,
     "metadata": {},
     "output_type": "execute_result"
    }
   ],
   "source": [
    "s4.strip(' r')"
   ]
  },
  {
   "cell_type": "code",
   "execution_count": 53,
   "id": "908570cf-eef0-41b4-b2d9-142909285b37",
   "metadata": {},
   "outputs": [
    {
     "data": {
      "text/plain": [
       "'uarterly earnings repor'"
      ]
     },
     "execution_count": 53,
     "metadata": {},
     "output_type": "execute_result"
    }
   ],
   "source": [
    "s4.strip(' qt ')"
   ]
  },
  {
   "cell_type": "code",
   "execution_count": 54,
   "id": "1d875c33-ad9c-49b0-a049-8b4d20e0740e",
   "metadata": {},
   "outputs": [
    {
     "data": {
      "text/plain": [
       "'quarterly earnings report  '"
      ]
     },
     "execution_count": 54,
     "metadata": {},
     "output_type": "execute_result"
    }
   ],
   "source": [
    "s4.lstrip()"
   ]
  },
  {
   "cell_type": "code",
   "execution_count": 55,
   "id": "e98f1900-71ac-41bd-a8aa-f40e4e4d1cdd",
   "metadata": {},
   "outputs": [
    {
     "data": {
      "text/plain": [
       "'  quarterly earnings report'"
      ]
     },
     "execution_count": 55,
     "metadata": {},
     "output_type": "execute_result"
    }
   ],
   "source": [
    "s4.rstrip()"
   ]
  },
  {
   "cell_type": "code",
   "execution_count": 56,
   "id": "e6bbb219-73b4-4e24-9080-6980f4015043",
   "metadata": {},
   "outputs": [
    {
     "data": {
      "text/plain": [
       "'nings repo'"
      ]
     },
     "execution_count": 56,
     "metadata": {},
     "output_type": "execute_result"
    }
   ],
   "source": [
    "s4.strip(' quarterly')"
   ]
  },
  {
   "cell_type": "code",
   "execution_count": 57,
   "id": "7d2711ad-16d4-4eeb-8777-c327aa307b88",
   "metadata": {},
   "outputs": [
    {
     "data": {
      "text/plain": [
       "'nings report  '"
      ]
     },
     "execution_count": 57,
     "metadata": {},
     "output_type": "execute_result"
    }
   ],
   "source": [
    "s4.lstrip(' quaterly')"
   ]
  },
  {
   "cell_type": "code",
   "execution_count": 59,
   "id": "b4714be8-5cee-4795-8361-270921284887",
   "metadata": {},
   "outputs": [
    {
     "data": {
      "text/plain": [
       "'%#$$! Quarterly Earnings Report'"
      ]
     },
     "execution_count": 59,
     "metadata": {},
     "output_type": "execute_result"
    }
   ],
   "source": [
    "# the main functionality of the strip method is as follows...\n",
    "\n",
    "s5 = '%#$$! Quarterly Earnings Report'\n",
    "s5"
   ]
  },
  {
   "cell_type": "code",
   "execution_count": 60,
   "id": "b47da4f3-fcec-4aff-8497-818b5728e931",
   "metadata": {},
   "outputs": [
    {
     "data": {
      "text/plain": [
       "'Quarterly Earnings Report'"
      ]
     },
     "execution_count": 60,
     "metadata": {},
     "output_type": "execute_result"
    }
   ],
   "source": [
    "s5.strip(' %#$$!') "
   ]
  },
  {
   "cell_type": "markdown",
   "id": "9e50fa90-03c8-4c7a-b8f3-a15be2d3bcdb",
   "metadata": {},
   "source": [
    "## String Accessors."
   ]
  },
  {
   "cell_type": "code",
   "execution_count": 2,
   "id": "f969bde7-7efd-4090-98ba-2e5b50baf626",
   "metadata": {},
   "outputs": [],
   "source": [
    "import pandas as pd"
   ]
  },
  {
   "cell_type": "code",
   "execution_count": 3,
   "id": "7d1bd58b-84ff-4ff2-be5a-a3bd2d44a767",
   "metadata": {},
   "outputs": [
    {
     "data": {
      "text/plain": [
       "0    Employee Satisfaction Rate\n",
       "1           Employee Churn Rate\n",
       "dtype: object"
      ]
     },
     "execution_count": 3,
     "metadata": {},
     "output_type": "execute_result"
    }
   ],
   "source": [
    "operational_kpis = pd.Series(['Employee Satisfaction Rate', 'Employee Churn Rate'])\n",
    "operational_kpis"
   ]
  },
  {
   "cell_type": "code",
   "execution_count": 7,
   "id": "d810b451-c99e-4624-98bb-bd58d3c4e6a5",
   "metadata": {},
   "outputs": [
    {
     "data": {
      "text/plain": [
       "'Satisfaction Rate'"
      ]
     },
     "execution_count": 7,
     "metadata": {},
     "output_type": "execute_result"
    }
   ],
   "source": [
    "operational_kpis[0].lstrip('Employee ')"
   ]
  },
  {
   "cell_type": "code",
   "execution_count": 8,
   "id": "f25e57a6-effc-485a-8f47-81b7c58d226d",
   "metadata": {},
   "outputs": [
    {
     "data": {
      "text/plain": [
       "'Churn Rate'"
      ]
     },
     "execution_count": 8,
     "metadata": {},
     "output_type": "execute_result"
    }
   ],
   "source": [
    "operational_kpis[1].lstrip('Employee ')"
   ]
  },
  {
   "cell_type": "code",
   "execution_count": 10,
   "id": "43403978",
   "metadata": {},
   "outputs": [
    {
     "data": {
      "text/plain": [
       "0     Satisfaction Rate\n",
       "1            Churn Rate\n",
       "dtype: object"
      ]
     },
     "execution_count": 10,
     "metadata": {},
     "output_type": "execute_result"
    }
   ],
   "source": [
    "pd.Series([operational_kpis[0].lstrip('Employee'), operational_kpis[1].lstrip('Employee')])"
   ]
  },
  {
   "cell_type": "code",
   "execution_count": 11,
   "id": "94b4cd08-bbbe-47cb-9513-286a7445b508",
   "metadata": {},
   "outputs": [
    {
     "data": {
      "text/plain": [
       "<pandas.core.strings.accessor.StringMethods at 0x1a63b438d60>"
      ]
     },
     "execution_count": 11,
     "metadata": {},
     "output_type": "execute_result"
    }
   ],
   "source": [
    "operational_kpis.str"
   ]
  },
  {
   "cell_type": "code",
   "execution_count": 14,
   "id": "9435294b-055b-447a-b6d9-9f4aa502151c",
   "metadata": {},
   "outputs": [
    {
     "data": {
      "text/plain": [
       "0    Satisfaction Rate\n",
       "1           Churn Rate\n",
       "dtype: object"
      ]
     },
     "execution_count": 14,
     "metadata": {},
     "output_type": "execute_result"
    }
   ],
   "source": [
    "operational_kpis.str.lstrip('Employee ')"
   ]
  },
  {
   "cell_type": "code",
   "execution_count": 16,
   "id": "56279fa6-528a-4c6a-8eb0-eea13de9e2e1",
   "metadata": {},
   "outputs": [
    {
     "data": {
      "text/plain": [
       "0    Test Data\n",
       "1           34\n",
       "dtype: object"
      ]
     },
     "execution_count": 16,
     "metadata": {},
     "output_type": "execute_result"
    }
   ],
   "source": [
    "test_series = pd.Series(['Test Data', 34])\n",
    "test_series"
   ]
  },
  {
   "cell_type": "code",
   "execution_count": 18,
   "id": "f96e4339-5ce0-4fd0-9af4-b4f8913ab4da",
   "metadata": {},
   "outputs": [
    {
     "data": {
      "text/plain": [
       "0    Data\n",
       "1     NaN\n",
       "dtype: object"
      ]
     },
     "execution_count": 18,
     "metadata": {},
     "output_type": "execute_result"
    }
   ],
   "source": [
    "test_series.str.lstrip('Test ')"
   ]
  },
  {
   "cell_type": "code",
   "execution_count": 19,
   "id": "3d7d1c68-fc11-4844-916e-1b76b6187f67",
   "metadata": {},
   "outputs": [
    {
     "data": {
      "text/plain": [
       "0    Test Data\n",
       "1           34\n",
       "dtype: object"
      ]
     },
     "execution_count": 19,
     "metadata": {},
     "output_type": "execute_result"
    }
   ],
   "source": [
    "test_series = pd.Series(['Test Data', '34'])\n",
    "test_series"
   ]
  },
  {
   "cell_type": "code",
   "execution_count": 20,
   "id": "8ac8b3ea-599e-4c2a-9ef3-a34261682a90",
   "metadata": {},
   "outputs": [
    {
     "data": {
      "text/plain": [
       "0    Data\n",
       "1      34\n",
       "dtype: object"
      ]
     },
     "execution_count": 20,
     "metadata": {},
     "output_type": "execute_result"
    }
   ],
   "source": [
    "test_series.str.lstrip('Test ')"
   ]
  },
  {
   "cell_type": "code",
   "execution_count": 21,
   "id": "2325b4db-7bf9-4b79-a21b-051f634a8954",
   "metadata": {},
   "outputs": [
    {
     "data": {
      "text/plain": [
       "0    $400,000\n",
       "1    $500,000\n",
       "2    $600,000\n",
       "dtype: object"
      ]
     },
     "execution_count": 21,
     "metadata": {},
     "output_type": "execute_result"
    }
   ],
   "source": [
    "house_prices = pd.Series(['$400,000', '$500,000', '$600,000'])\n",
    "house_prices"
   ]
  },
  {
   "cell_type": "code",
   "execution_count": 22,
   "id": "ccc1de5c-966a-4276-8496-53251fb2d19d",
   "metadata": {},
   "outputs": [
    {
     "data": {
      "text/plain": [
       "0    True\n",
       "1    True\n",
       "2    True\n",
       "dtype: bool"
      ]
     },
     "execution_count": 22,
     "metadata": {},
     "output_type": "execute_result"
    }
   ],
   "source": [
    "house_prices.str.contains('$')"
   ]
  },
  {
   "cell_type": "markdown",
   "id": "6dbcee73",
   "metadata": {},
   "source": [
    "## Using .format() Methods"
   ]
  },
  {
   "cell_type": "code",
   "execution_count": 23,
   "id": "80277dda-e2ed-4d17-9550-c901a3fbfae8",
   "metadata": {},
   "outputs": [
    {
     "data": {
      "text/plain": [
       "(1, 3, 12)"
      ]
     },
     "execution_count": 23,
     "metadata": {},
     "output_type": "execute_result"
    }
   ],
   "source": [
    "time_horizon = 1, 3, 12\n",
    "time_horizon"
   ]
  },
  {
   "cell_type": "code",
   "execution_count": 24,
   "id": "ff5eb728-de91-4f09-a3a7-599877fca97b",
   "metadata": {},
   "outputs": [
    {
     "data": {
      "text/plain": [
       "['Product A', 'Product B']"
      ]
     },
     "execution_count": 24,
     "metadata": {},
     "output_type": "execute_result"
    }
   ],
   "source": [
    "products = ['Product A', 'Product B']\n",
    "products"
   ]
  },
  {
   "cell_type": "code",
   "execution_count": 27,
   "id": "a493f908-a817-46fb-b2da-b45ca77c347f",
   "metadata": {},
   "outputs": [
    {
     "data": {
      "text/plain": [
       "'Expected sales for a period of 12 month(s) for Product A.'"
      ]
     },
     "execution_count": 27,
     "metadata": {},
     "output_type": "execute_result"
    }
   ],
   "source": [
    "'Expected sales for a period of {} month(s) for {}.'.format(time_horizon[2], products[0])"
   ]
  },
  {
   "cell_type": "code",
   "execution_count": 28,
   "id": "a84c7ab6-c93c-4a1d-b5b6-c8c292d24fcb",
   "metadata": {},
   "outputs": [],
   "source": [
    "# types of parameters = positional, keyword."
   ]
  },
  {
   "cell_type": "code",
   "execution_count": 29,
   "id": "2b711443-0b25-4f97-8c94-201c5b4132a4",
   "metadata": {},
   "outputs": [
    {
     "data": {
      "text/plain": [
       "'Expected sales for a period of 12 month(s) for Product A.'"
      ]
     },
     "execution_count": 29,
     "metadata": {},
     "output_type": "execute_result"
    }
   ],
   "source": [
    "'Expected sales for a period of {0} month(s) for {1}.'.format(time_horizon[2], products[0])"
   ]
  },
  {
   "cell_type": "code",
   "execution_count": 30,
   "id": "306ce394-342b-4d3f-99cd-f5471f15a543",
   "metadata": {},
   "outputs": [
    {
     "data": {
      "text/plain": [
       "'Expected sales for a period of Product A month(s) for 12.'"
      ]
     },
     "execution_count": 30,
     "metadata": {},
     "output_type": "execute_result"
    }
   ],
   "source": [
    "'Expected sales for a period of {1} month(s) for {0}.'.format(time_horizon[2], products[0])"
   ]
  },
  {
   "cell_type": "code",
   "execution_count": 35,
   "id": "5c85b190-a7d3-4e25-ba13-c319b25cb1ac",
   "metadata": {},
   "outputs": [
    {
     "data": {
      "text/plain": [
       "'Expected sales for a period of 3 month(s) for Product B.'"
      ]
     },
     "execution_count": 35,
     "metadata": {},
     "output_type": "execute_result"
    }
   ],
   "source": [
    "'Expected sales for a period of {t_hor[1]} month(s) for {prod[0]}.'.format(t_hor= time_horizon, prod= ['Product B', 'Product A'])"
   ]
  },
  {
   "cell_type": "markdown",
   "id": "083bdb86",
   "metadata": {},
   "source": [
    "# Must Know Python Tools."
   ]
  },
  {
   "cell_type": "raw",
   "id": "7fd5342f",
   "metadata": {},
   "source": [
    "Python fundamentals we've completed so far: \n",
    "- Conditional Statements\n",
    "- Functions \n",
    "- Sequences \n",
    "- Iterations."
   ]
  },
  {
   "cell_type": "markdown",
   "id": "9328cf8d",
   "metadata": {},
   "source": [
    "## Iterating Over Range Objects. "
   ]
  },
  {
   "cell_type": "code",
   "execution_count": 36,
   "id": "98b7f639-e5b8-41b8-ad53-920314bc103b",
   "metadata": {},
   "outputs": [
    {
     "data": {
      "text/plain": [
       "(4, 5, 6, 7)"
      ]
     },
     "execution_count": 36,
     "metadata": {},
     "output_type": "execute_result"
    }
   ],
   "source": [
    "t = (4, 5, 6, 7)\n",
    "t"
   ]
  },
  {
   "cell_type": "code",
   "execution_count": 37,
   "id": "8f5c1164-2d09-4d87-8120-8aedb6b3e0e0",
   "metadata": {},
   "outputs": [
    {
     "data": {
      "text/plain": [
       "[1, 3, 5, 7]"
      ]
     },
     "execution_count": 37,
     "metadata": {},
     "output_type": "execute_result"
    }
   ],
   "source": [
    "l = [1, 3, 5, 7]\n",
    "l"
   ]
  },
  {
   "cell_type": "code",
   "execution_count": 38,
   "id": "9857cc63-7ccd-40b3-9c07-86ac6a026c9e",
   "metadata": {},
   "outputs": [
    {
     "data": {
      "text/plain": [
       "'Diksha'"
      ]
     },
     "execution_count": 38,
     "metadata": {},
     "output_type": "execute_result"
    }
   ],
   "source": [
    "s = 'Diksha'\n",
    "s"
   ]
  },
  {
   "cell_type": "code",
   "execution_count": 39,
   "id": "72d3ed91-1dc2-4691-9b0e-18a011994888",
   "metadata": {},
   "outputs": [
    {
     "name": "stdout",
     "output_type": "stream",
     "text": [
      "4 5 6 7 "
     ]
    }
   ],
   "source": [
    "for i in t:\n",
    "    print(i, end = ' ')"
   ]
  },
  {
   "cell_type": "code",
   "execution_count": 40,
   "id": "31cf601d-8915-4f2b-a314-a9c06e643997",
   "metadata": {},
   "outputs": [
    {
     "name": "stdout",
     "output_type": "stream",
     "text": [
      "1 3 5 7 "
     ]
    }
   ],
   "source": [
    "for i in l:\n",
    "    print(i, end = ' ')"
   ]
  },
  {
   "cell_type": "code",
   "execution_count": 41,
   "id": "d6e21ab0-0456-4b12-be99-6b711d0dcf46",
   "metadata": {},
   "outputs": [
    {
     "name": "stdout",
     "output_type": "stream",
     "text": [
      "D i k s h a "
     ]
    }
   ],
   "source": [
    "for i in s:\n",
    "    print(i, end = ' ')"
   ]
  },
  {
   "cell_type": "code",
   "execution_count": 42,
   "id": "be1f5882-f114-4970-b0a8-f2ee9bfac15b",
   "metadata": {},
   "outputs": [
    {
     "data": {
      "text/plain": [
       "range(0, 5)"
      ]
     },
     "execution_count": 42,
     "metadata": {},
     "output_type": "execute_result"
    }
   ],
   "source": [
    "range(5)"
   ]
  },
  {
   "cell_type": "code",
   "execution_count": 43,
   "id": "d1ac1f28-582d-41e1-acf8-044860b93bfb",
   "metadata": {},
   "outputs": [
    {
     "name": "stdout",
     "output_type": "stream",
     "text": [
      "0 1 2 3 4 "
     ]
    }
   ],
   "source": [
    "for i in range(5):\n",
    "    print(i, end = ' ')"
   ]
  },
  {
   "cell_type": "markdown",
   "id": "4b4d5477",
   "metadata": {},
   "source": [
    "#### Nested Loops"
   ]
  },
  {
   "cell_type": "code",
   "execution_count": 44,
   "id": "64860553-29b4-4461-a2b8-90e4e8d77a4a",
   "metadata": {},
   "outputs": [
    {
     "name": "stdout",
     "output_type": "stream",
     "text": [
      "0\n",
      "1\n"
     ]
    }
   ],
   "source": [
    "for i in range(2):\n",
    "    print(i)"
   ]
  },
  {
   "cell_type": "code",
   "execution_count": 46,
   "id": "6fc2a94f-807d-4d04-b365-d09443a07b8b",
   "metadata": {},
   "outputs": [
    {
     "name": "stdout",
     "output_type": "stream",
     "text": [
      "0\n",
      "1\n",
      "2\n",
      "3\n",
      "4\n"
     ]
    }
   ],
   "source": [
    "for j in range(5):\n",
    "    print(j)"
   ]
  },
  {
   "cell_type": "code",
   "execution_count": 47,
   "id": "5be9ff11-ed54-472f-b5ad-05abac2d3f28",
   "metadata": {},
   "outputs": [
    {
     "name": "stdout",
     "output_type": "stream",
     "text": [
      "[0, 0]\n",
      "[0, 1]\n",
      "[0, 2]\n",
      "[0, 3]\n",
      "[0, 4]\n",
      "[1, 0]\n",
      "[1, 1]\n",
      "[1, 2]\n",
      "[1, 3]\n",
      "[1, 4]\n"
     ]
    }
   ],
   "source": [
    "for i in range(2):\n",
    "    for j in range(5):\n",
    "        print([i, j])"
   ]
  },
  {
   "cell_type": "code",
   "execution_count": 49,
   "id": "42511fe7-59c6-416c-9cb8-98ea79489441",
   "metadata": {},
   "outputs": [
    {
     "name": "stdout",
     "output_type": "stream",
     "text": [
      "['Product A', 0]\n",
      "['Product A', 1]\n",
      "['Product A', 2]\n",
      "['Product A', 3]\n",
      "['Product A', 4]\n",
      "['Product B', 0]\n",
      "['Product B', 1]\n",
      "['Product B', 2]\n",
      "['Product B', 3]\n",
      "['Product B', 4]\n"
     ]
    }
   ],
   "source": [
    "for i in ['Product A', 'Product B']:\n",
    "    for j in range(5):\n",
    "        print([i, j])"
   ]
  },
  {
   "cell_type": "code",
   "execution_count": 50,
   "id": "4dc1a228-3500-472f-bc69-aaf505ede5fe",
   "metadata": {},
   "outputs": [],
   "source": [
    "products = ['Product A', 'Product B']\n",
    "exp_sales = [1000, 2000, 3000, 4000, 5000]"
   ]
  },
  {
   "cell_type": "code",
   "execution_count": 51,
   "id": "20b80ec7-4920-4944-82f3-49af0c2af068",
   "metadata": {},
   "outputs": [
    {
     "name": "stdout",
     "output_type": "stream",
     "text": [
      "['Product A', 1000]\n",
      "['Product A', 2000]\n",
      "['Product A', 3000]\n",
      "['Product A', 4000]\n",
      "['Product A', 5000]\n",
      "['Product B', 1000]\n",
      "['Product B', 2000]\n",
      "['Product B', 3000]\n",
      "['Product B', 4000]\n",
      "['Product B', 5000]\n"
     ]
    }
   ],
   "source": [
    "for i in products:\n",
    "    for j in exp_sales:\n",
    "        print([i, j])"
   ]
  },
  {
   "cell_type": "markdown",
   "id": "41f648a1",
   "metadata": {},
   "source": [
    "#### Tripple Nested Loops "
   ]
  },
  {
   "cell_type": "code",
   "execution_count": 52,
   "id": "454e0c38-e32b-47d3-afc3-6b4d2ef424d8",
   "metadata": {},
   "outputs": [],
   "source": [
    "products = ['Product A', 'Product B']\n",
    "exp_sales = [1000, 2000, 3000, 4000, 5000]"
   ]
  },
  {
   "cell_type": "code",
   "execution_count": 53,
   "id": "3eb247c3-3863-493d-ad8b-e71c228ab8c0",
   "metadata": {},
   "outputs": [],
   "source": [
    "time_horizon = (1, 2, 3)"
   ]
  },
  {
   "cell_type": "code",
   "execution_count": 59,
   "id": "d89e13da-a90d-4fdc-8362-3f02b4e99355",
   "metadata": {},
   "outputs": [
    {
     "name": "stdout",
     "output_type": "stream",
     "text": [
      "['Product A', 1000]\n",
      "['Product A', 2000]\n",
      "['Product A', 3000]\n",
      "['Product A', 2000]\n",
      "['Product A', 4000]\n",
      "['Product A', 6000]\n",
      "['Product A', 3000]\n",
      "['Product A', 6000]\n",
      "['Product A', 9000]\n",
      "['Product A', 4000]\n",
      "['Product A', 8000]\n",
      "['Product A', 12000]\n",
      "['Product A', 5000]\n",
      "['Product A', 10000]\n",
      "['Product A', 15000]\n",
      "['Product B', 1000]\n",
      "['Product B', 2000]\n",
      "['Product B', 3000]\n",
      "['Product B', 2000]\n",
      "['Product B', 4000]\n",
      "['Product B', 6000]\n",
      "['Product B', 3000]\n",
      "['Product B', 6000]\n",
      "['Product B', 9000]\n",
      "['Product B', 4000]\n",
      "['Product B', 8000]\n",
      "['Product B', 12000]\n",
      "['Product B', 5000]\n",
      "['Product B', 10000]\n",
      "['Product B', 15000]\n"
     ]
    }
   ],
   "source": [
    "for i in products:\n",
    "    for j in exp_sales:\n",
    "        for k in time_horizon:\n",
    "            print([i, j*k])"
   ]
  },
  {
   "cell_type": "code",
   "execution_count": 60,
   "id": "e8530369-6a5f-4b0a-b8bd-128e43cac849",
   "metadata": {},
   "outputs": [
    {
     "name": "stdout",
     "output_type": "stream",
     "text": [
      "Expected sales for a period of 1 month(s) for Product A: $1000\n",
      "Expected sales for a period of 2 month(s) for Product A: $2000\n",
      "Expected sales for a period of 3 month(s) for Product A: $3000\n",
      "Expected sales for a period of 1 month(s) for Product A: $2000\n",
      "Expected sales for a period of 2 month(s) for Product A: $4000\n",
      "Expected sales for a period of 3 month(s) for Product A: $6000\n",
      "Expected sales for a period of 1 month(s) for Product A: $3000\n",
      "Expected sales for a period of 2 month(s) for Product A: $6000\n",
      "Expected sales for a period of 3 month(s) for Product A: $9000\n",
      "Expected sales for a period of 1 month(s) for Product A: $4000\n",
      "Expected sales for a period of 2 month(s) for Product A: $8000\n",
      "Expected sales for a period of 3 month(s) for Product A: $12000\n",
      "Expected sales for a period of 1 month(s) for Product A: $5000\n",
      "Expected sales for a period of 2 month(s) for Product A: $10000\n",
      "Expected sales for a period of 3 month(s) for Product A: $15000\n",
      "Expected sales for a period of 1 month(s) for Product B: $1000\n",
      "Expected sales for a period of 2 month(s) for Product B: $2000\n",
      "Expected sales for a period of 3 month(s) for Product B: $3000\n",
      "Expected sales for a period of 1 month(s) for Product B: $2000\n",
      "Expected sales for a period of 2 month(s) for Product B: $4000\n",
      "Expected sales for a period of 3 month(s) for Product B: $6000\n",
      "Expected sales for a period of 1 month(s) for Product B: $3000\n",
      "Expected sales for a period of 2 month(s) for Product B: $6000\n",
      "Expected sales for a period of 3 month(s) for Product B: $9000\n",
      "Expected sales for a period of 1 month(s) for Product B: $4000\n",
      "Expected sales for a period of 2 month(s) for Product B: $8000\n",
      "Expected sales for a period of 3 month(s) for Product B: $12000\n",
      "Expected sales for a period of 1 month(s) for Product B: $5000\n",
      "Expected sales for a period of 2 month(s) for Product B: $10000\n",
      "Expected sales for a period of 3 month(s) for Product B: $15000\n"
     ]
    }
   ],
   "source": [
    "# Good naming \n",
    "\n",
    "for prod in products:\n",
    "    for sale in exp_sales:\n",
    "        for time in time_horizon:\n",
    "            print('Expected sales for a period of {0} month(s) for {1}: ${sales}'.format(time, prod, sales = sale*time))\n",
    "#             print([prod, sale*time])"
   ]
  },
  {
   "cell_type": "code",
   "execution_count": 61,
   "id": "9cfde322-b5af-4a8b-b3f8-fda4c99e1462",
   "metadata": {},
   "outputs": [],
   "source": [
    "# Writing Nested loops is considered NON-PYTHONIC. To deal with that we have..."
   ]
  },
  {
   "cell_type": "markdown",
   "id": "1fbf0913",
   "metadata": {},
   "source": [
    "#### List Comprehensions"
   ]
  },
  {
   "cell_type": "code",
   "execution_count": 1,
   "id": "17715c46-172d-469a-a873-49f3977439ed",
   "metadata": {},
   "outputs": [
    {
     "data": {
      "text/plain": [
       "[1, 14, 4, 5, 7, 100]"
      ]
     },
     "execution_count": 1,
     "metadata": {},
     "output_type": "execute_result"
    }
   ],
   "source": [
    "numbers = [1, 14, 4, 5, 7, 100]\n",
    "numbers"
   ]
  },
  {
   "cell_type": "code",
   "execution_count": 4,
   "id": "e4d35e75-b687-4f85-803b-f61fe9df82a4",
   "metadata": {},
   "outputs": [
    {
     "name": "stdout",
     "output_type": "stream",
     "text": [
      "[2, 28, 8, 10, 14, 200]\n"
     ]
    }
   ],
   "source": [
    "new_number = []\n",
    "\n",
    "for n in numbers:\n",
    "    new_number.append(n*2)\n",
    "\n",
    "print(new_number)"
   ]
  },
  {
   "cell_type": "code",
   "execution_count": 5,
   "id": "9547fd14",
   "metadata": {},
   "outputs": [
    {
     "data": {
      "text/plain": [
       "[2, 28, 8, 10, 14, 200]"
      ]
     },
     "execution_count": 5,
     "metadata": {},
     "output_type": "execute_result"
    }
   ],
   "source": [
    "new_number = [n*2 for n in numbers]\n",
    "new_number"
   ]
  },
  {
   "cell_type": "code",
   "execution_count": 6,
   "id": "11319c93",
   "metadata": {},
   "outputs": [
    {
     "data": {
      "text/plain": [
       "list"
      ]
     },
     "execution_count": 6,
     "metadata": {},
     "output_type": "execute_result"
    }
   ],
   "source": [
    "type(new_number)"
   ]
  },
  {
   "cell_type": "code",
   "execution_count": 14,
   "id": "4d7e8049",
   "metadata": {},
   "outputs": [
    {
     "data": {
      "text/plain": [
       "[0, 1, 2, 3, 4, 1, 2, 3, 4, 5]"
      ]
     },
     "execution_count": 14,
     "metadata": {},
     "output_type": "execute_result"
    }
   ],
   "source": [
    "number = []\n",
    "for i in range(2):\n",
    "    for j in range(5):\n",
    "        number.append(i + j)\n",
    "number"
   ]
  },
  {
   "cell_type": "code",
   "execution_count": 15,
   "id": "c0a2940a",
   "metadata": {},
   "outputs": [
    {
     "data": {
      "text/plain": [
       "list"
      ]
     },
     "execution_count": 15,
     "metadata": {},
     "output_type": "execute_result"
    }
   ],
   "source": [
    "type(number)"
   ]
  },
  {
   "cell_type": "code",
   "execution_count": 9,
   "id": "15d7398b",
   "metadata": {},
   "outputs": [
    {
     "data": {
      "text/plain": [
       "[0, 1, 2, 3, 4, 1, 2, 3, 4, 5]"
      ]
     },
     "execution_count": 9,
     "metadata": {},
     "output_type": "execute_result"
    }
   ],
   "source": [
    "number = [i + j for i in range(2) for j in range(5)]\n",
    "number"
   ]
  },
  {
   "cell_type": "code",
   "execution_count": 16,
   "id": "be7f18e0",
   "metadata": {},
   "outputs": [
    {
     "data": {
      "text/plain": [
       "int"
      ]
     },
     "execution_count": 16,
     "metadata": {},
     "output_type": "execute_result"
    }
   ],
   "source": [
    "type(number[1])\n",
    "\n",
    "# obviouslyyyyyy the type of first element"
   ]
  },
  {
   "cell_type": "code",
   "execution_count": 17,
   "id": "ad723cb4",
   "metadata": {},
   "outputs": [
    {
     "data": {
      "text/plain": [
       "[[0, 1], [1, 2], [2, 3], [3, 4], [4, 5]]"
      ]
     },
     "execution_count": 17,
     "metadata": {},
     "output_type": "execute_result"
    }
   ],
   "source": [
    "number = [[i + j for i in range(2)] for j in range(5)]\n",
    "number"
   ]
  },
  {
   "cell_type": "code",
   "execution_count": 18,
   "id": "aa021274",
   "metadata": {},
   "outputs": [
    {
     "data": {
      "text/plain": [
       "list"
      ]
     },
     "execution_count": 18,
     "metadata": {},
     "output_type": "execute_result"
    }
   ],
   "source": [
    "type(number[1])"
   ]
  },
  {
   "cell_type": "code",
   "execution_count": 21,
   "id": "9a938390",
   "metadata": {},
   "outputs": [
    {
     "data": {
      "text/plain": [
       "[1, 2, 3, 4, 5, 6, 7, 8, 9, 10]"
      ]
     },
     "execution_count": 21,
     "metadata": {},
     "output_type": "execute_result"
    }
   ],
   "source": [
    "n = list(range(1, 11))\n",
    "n"
   ]
  },
  {
   "cell_type": "code",
   "execution_count": 22,
   "id": "611c6825",
   "metadata": {},
   "outputs": [
    {
     "data": {
      "text/plain": [
       "list"
      ]
     },
     "execution_count": 22,
     "metadata": {},
     "output_type": "execute_result"
    }
   ],
   "source": [
    "type(n)"
   ]
  },
  {
   "cell_type": "code",
   "execution_count": 24,
   "id": "0bfa7bc1",
   "metadata": {},
   "outputs": [
    {
     "data": {
      "text/plain": [
       "int"
      ]
     },
     "execution_count": 24,
     "metadata": {},
     "output_type": "execute_result"
    }
   ],
   "source": [
    "type(n[0])"
   ]
  },
  {
   "cell_type": "code",
   "execution_count": 28,
   "id": "cfe3c0b1",
   "metadata": {},
   "outputs": [
    {
     "data": {
      "text/plain": [
       "[8, 64, 216, 512, 1000]"
      ]
     },
     "execution_count": 28,
     "metadata": {},
     "output_type": "execute_result"
    }
   ],
   "source": [
    "[num ** 3 for num in range(1, 11) if num % 2 == 0]"
   ]
  },
  {
   "cell_type": "code",
   "execution_count": 29,
   "id": "2002476a",
   "metadata": {},
   "outputs": [
    {
     "data": {
      "text/plain": [
       "[1, 27, 125, 343, 729]"
      ]
     },
     "execution_count": 29,
     "metadata": {},
     "output_type": "execute_result"
    }
   ],
   "source": [
    "[num ** 3 for num in range(1, 11) if num % 2 != 0]"
   ]
  },
  {
   "cell_type": "code",
   "execution_count": 30,
   "id": "16c9bea7",
   "metadata": {},
   "outputs": [],
   "source": [
    "# just for the sake of comparison, following is the non pythonic way of writing this..."
   ]
  },
  {
   "cell_type": "code",
   "execution_count": 32,
   "id": "44659e03",
   "metadata": {},
   "outputs": [
    {
     "name": "stdout",
     "output_type": "stream",
     "text": [
      "1 27 125 343 729 "
     ]
    }
   ],
   "source": [
    "for i in range(1, 11):\n",
    "    if i % 2 != 0:\n",
    "        print(i ** 3, end = ' ')"
   ]
  },
  {
   "cell_type": "code",
   "execution_count": 33,
   "id": "833396c9",
   "metadata": {},
   "outputs": [
    {
     "data": {
      "text/plain": [
       "[1, 'even', 27, 'even', 125, 'even', 343, 'even', 729, 'even']"
      ]
     },
     "execution_count": 33,
     "metadata": {},
     "output_type": "execute_result"
    }
   ],
   "source": [
    "[num**3 if num % 2 != 0 else 'even' for num in range(1,11) ]"
   ]
  },
  {
   "cell_type": "raw",
   "id": "dc1d1e3e",
   "metadata": {},
   "source": [
    "List Comprehensions:\n",
    "- a very powerful tool(it can be applied to a very wide range of cases and can deliver many types of outputs.\n",
    "- a fantastic example of high-quality code. "
   ]
  },
  {
   "cell_type": "markdown",
   "id": "8e2fb7e3",
   "metadata": {},
   "source": [
    "#### Anonymous (Lambda) Functions. "
   ]
  },
  {
   "cell_type": "code",
   "execution_count": 36,
   "id": "d120e2e7",
   "metadata": {},
   "outputs": [],
   "source": [
    "def raise_to_the_power_of_2(x):\n",
    "    return x ** 2"
   ]
  },
  {
   "cell_type": "code",
   "execution_count": 37,
   "id": "6fab2e52",
   "metadata": {},
   "outputs": [
    {
     "data": {
      "text/plain": [
       "2025"
      ]
     },
     "execution_count": 37,
     "metadata": {},
     "output_type": "execute_result"
    }
   ],
   "source": [
    "raise_to_the_power_of_2(45)"
   ]
  },
  {
   "cell_type": "code",
   "execution_count": 38,
   "id": "276297bf",
   "metadata": {},
   "outputs": [
    {
     "data": {
      "text/plain": [
       "<function __main__.<lambda>(x)>"
      ]
     },
     "execution_count": 38,
     "metadata": {},
     "output_type": "execute_result"
    }
   ],
   "source": [
    "lambda x: x ** 2"
   ]
  },
  {
   "cell_type": "code",
   "execution_count": 43,
   "id": "4c2f34ab",
   "metadata": {},
   "outputs": [],
   "source": [
    "a_better_lambda_function = lambda x: x ** 2"
   ]
  },
  {
   "cell_type": "code",
   "execution_count": 44,
   "id": "fe4a9508",
   "metadata": {},
   "outputs": [
    {
     "data": {
      "text/plain": [
       "9"
      ]
     },
     "execution_count": 44,
     "metadata": {},
     "output_type": "execute_result"
    }
   ],
   "source": [
    "a_better_lambda_function(3)"
   ]
  },
  {
   "cell_type": "code",
   "execution_count": 46,
   "id": "6dadf2d5",
   "metadata": {},
   "outputs": [
    {
     "data": {
      "text/plain": [
       "121"
      ]
     },
     "execution_count": 46,
     "metadata": {},
     "output_type": "execute_result"
    }
   ],
   "source": [
    "(lambda x: x ** 2)(11)\n",
    "\n",
    "# even better"
   ]
  },
  {
   "cell_type": "code",
   "execution_count": 56,
   "id": "f4a1caf9",
   "metadata": {},
   "outputs": [
    {
     "data": {
      "text/plain": [
       "76"
      ]
     },
     "execution_count": 56,
     "metadata": {},
     "output_type": "execute_result"
    }
   ],
   "source": [
    "(lambda x: x ** 2 + x ** 3 - x)(4)"
   ]
  },
  {
   "cell_type": "code",
   "execution_count": 57,
   "id": "3ff00316",
   "metadata": {},
   "outputs": [
    {
     "data": {
      "text/plain": [
       "167"
      ]
     },
     "execution_count": 57,
     "metadata": {},
     "output_type": "execute_result"
    }
   ],
   "source": [
    "sum_xy = lambda x, y: x + y\n",
    "sum_xy(78, 89)"
   ]
  },
  {
   "cell_type": "code",
   "execution_count": 58,
   "id": "66c28b20",
   "metadata": {},
   "outputs": [],
   "source": [
    "sum_xy = lambda x, y: x + y(x)"
   ]
  },
  {
   "cell_type": "code",
   "execution_count": 59,
   "id": "ce52db24",
   "metadata": {
    "collapsed": true
   },
   "outputs": [
    {
     "ename": "TypeError",
     "evalue": "'int' object is not callable",
     "output_type": "error",
     "traceback": [
      "\u001b[1;31m---------------------------------------------------------------------------\u001b[0m",
      "\u001b[1;31mTypeError\u001b[0m                                 Traceback (most recent call last)",
      "Cell \u001b[1;32mIn[59], line 1\u001b[0m\n\u001b[1;32m----> 1\u001b[0m \u001b[43msum_xy\u001b[49m\u001b[43m(\u001b[49m\u001b[38;5;241;43m1\u001b[39;49m\u001b[43m,\u001b[49m\u001b[38;5;241;43m2\u001b[39;49m\u001b[43m)\u001b[49m\n",
      "Cell \u001b[1;32mIn[58], line 1\u001b[0m, in \u001b[0;36m<lambda>\u001b[1;34m(x, y)\u001b[0m\n\u001b[1;32m----> 1\u001b[0m sum_xy \u001b[38;5;241m=\u001b[39m \u001b[38;5;28;01mlambda\u001b[39;00m x, y: x \u001b[38;5;241m+\u001b[39m \u001b[43my\u001b[49m\u001b[43m(\u001b[49m\u001b[43mx\u001b[49m\u001b[43m)\u001b[49m\n",
      "\u001b[1;31mTypeError\u001b[0m: 'int' object is not callable"
     ]
    }
   ],
   "source": [
    "sum_xy(1,2)"
   ]
  },
  {
   "cell_type": "code",
   "execution_count": 60,
   "id": "1852365a",
   "metadata": {
    "collapsed": true
   },
   "outputs": [
    {
     "ename": "TypeError",
     "evalue": "<lambda>() missing 1 required positional argument: 'y'",
     "output_type": "error",
     "traceback": [
      "\u001b[1;31m---------------------------------------------------------------------------\u001b[0m",
      "\u001b[1;31mTypeError\u001b[0m                                 Traceback (most recent call last)",
      "Cell \u001b[1;32mIn[60], line 1\u001b[0m\n\u001b[1;32m----> 1\u001b[0m \u001b[43msum_xy\u001b[49m\u001b[43m(\u001b[49m\u001b[38;5;241;43m2\u001b[39;49m\u001b[43m)\u001b[49m\n",
      "\u001b[1;31mTypeError\u001b[0m: <lambda>() missing 1 required positional argument: 'y'"
     ]
    }
   ],
   "source": [
    "sum_xy(2)"
   ]
  },
  {
   "cell_type": "code",
   "execution_count": 61,
   "id": "c771ed78",
   "metadata": {},
   "outputs": [
    {
     "data": {
      "text/plain": [
       "6"
      ]
     },
     "execution_count": 61,
     "metadata": {},
     "output_type": "execute_result"
    }
   ],
   "source": [
    "sum_xy(2, lambda x: x + 2)"
   ]
  },
  {
   "cell_type": "code",
   "execution_count": 62,
   "id": "fd55eb82",
   "metadata": {},
   "outputs": [],
   "source": [
    "# first x = 2, and the system solved the first function then...\n",
    "# the value from above was 4 therefore the second function (x+2)'s output is...\n",
    "# 6!"
   ]
  },
  {
   "cell_type": "code",
   "execution_count": 63,
   "id": "3a04d4b3",
   "metadata": {},
   "outputs": [],
   "source": [
    "# PRACTICE PRACTICE PRACTICE PRACTICE"
   ]
  },
  {
   "cell_type": "markdown",
   "id": "4d1f3adf",
   "metadata": {},
   "source": [
    "## Data Gathering and Data Collection. "
   ]
  },
  {
   "cell_type": "code",
   "execution_count": 64,
   "id": "415f6d6c",
   "metadata": {},
   "outputs": [],
   "source": [
    "# two types of data = primary and secondary. "
   ]
  },
  {
   "cell_type": "code",
   "execution_count": 65,
   "id": "d120a6b2",
   "metadata": {},
   "outputs": [],
   "source": [
    "# we create primary, \n",
    "# we acquire secondary from a third party. "
   ]
  },
  {
   "cell_type": "code",
   "execution_count": 67,
   "id": "fbd67f34",
   "metadata": {},
   "outputs": [],
   "source": [
    "# Web Scrapping - technique of extracting info. programmatically from websites. (google does this)\n",
    "# This is not scalable or reliable , requires constant maintainance. \n",
    "# legal issues. \n",
    "# we did not practice Web Scrapping in this course. "
   ]
  },
  {
   "cell_type": "code",
   "execution_count": 68,
   "id": "e4e54467",
   "metadata": {},
   "outputs": [],
   "source": [
    "# APIs - (Application Programming Interfaces), \"bridges\" of the digital world.\n",
    "# designed specifically for programmatical data exchange. \n",
    "# The workflow and all related systems are streamlined and easy to use. \n",
    "# provide data in many formats (generally as a json file or a csv file.)"
   ]
  },
  {
   "cell_type": "markdown",
   "id": "04d13dfb",
   "metadata": {},
   "source": [
    "## APIs - POST and GET requests."
   ]
  },
  {
   "cell_type": "code",
   "execution_count": 69,
   "id": "1f197b30",
   "metadata": {},
   "outputs": [],
   "source": [
    "# post not needed in this course, what does that mean!"
   ]
  },
  {
   "cell_type": "code",
   "execution_count": null,
   "id": "c240356b",
   "metadata": {},
   "outputs": [],
   "source": [
    "# rest in API.ipynb"
   ]
  }
 ],
 "metadata": {
  "kernelspec": {
   "display_name": "Python 3 (ipykernel)",
   "language": "python",
   "name": "python3"
  },
  "language_info": {
   "codemirror_mode": {
    "name": "ipython",
    "version": 3
   },
   "file_extension": ".py",
   "mimetype": "text/x-python",
   "name": "python",
   "nbconvert_exporter": "python",
   "pygments_lexer": "ipython3",
   "version": "3.10.9"
  }
 },
 "nbformat": 4,
 "nbformat_minor": 5
}
